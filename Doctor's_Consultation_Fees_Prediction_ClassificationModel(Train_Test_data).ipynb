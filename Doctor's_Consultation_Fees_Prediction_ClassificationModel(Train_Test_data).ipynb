{
 "cells": [
  {
   "cell_type": "markdown",
   "metadata": {},
   "source": [
    "# Using the train dataset"
   ]
  },
  {
   "cell_type": "markdown",
   "metadata": {},
   "source": [
    "Dataset Description:\n",
    "    \n",
    "We have all been in situation where we go to a doctor in emergency and find that the consultation fees are too high.In this project,we will build a machine learning model where we will predict the doctor’s consulting fee and important details about a doctor.\n",
    "\n",
    "In the data, we have the following columns to work with :\n",
    "\n",
    "Qualification: Qualification and degrees held by the doctor\n",
    "Experience: Experience of the doctor (number of years)\n",
    "Rating: Rating given by patients\n",
    "Profile: Type of the doctor\n",
    "Miscellaeous_Info: Extra information about the doctor\n",
    "Place: Area and the city where the doctor is located\n",
    "Fees: Fees charged by the doctor(Target)\n",
    "\n",
    "The target variable for this dataset is 'Fees'.  "
   ]
  },
  {
   "cell_type": "code",
   "execution_count": 49,
   "metadata": {},
   "outputs": [],
   "source": [
    "#Importing the dataset\n",
    "import numpy as np\n",
    "import pandas as pd\n",
    "import seaborn as sns\n",
    "import matplotlib.pyplot as plt\n",
    "import sklearn\n",
    "from sklearn.naive_bayes import MultinomialNB\n",
    "from sklearn.tree import DecisionTreeClassifier\n",
    "from sklearn.svm import SVC\n",
    "from sklearn.ensemble import RandomForestClassifier\n",
    "from sklearn.ensemble import AdaBoostClassifier\n",
    "from sklearn.ensemble import GradientBoostingClassifier\n",
    "from sklearn.neighbors import KNeighborsClassifier\n",
    "from sklearn.metrics import accuracy_score,confusion_matrix,classification_report\n",
    "from sklearn.model_selection import train_test_split\n",
    "from scipy.stats import zscore\n",
    "import warnings\n",
    "warnings.filterwarnings('ignore')"
   ]
  },
  {
   "cell_type": "code",
   "execution_count": 50,
   "metadata": {},
   "outputs": [],
   "source": [
    "#Loading the dataset\n",
    "df=pd.read_excel('Final_Train.xlsx')"
   ]
  },
  {
   "cell_type": "code",
   "execution_count": 51,
   "metadata": {},
   "outputs": [
    {
     "data": {
      "text/html": [
       "<div>\n",
       "<style scoped>\n",
       "    .dataframe tbody tr th:only-of-type {\n",
       "        vertical-align: middle;\n",
       "    }\n",
       "\n",
       "    .dataframe tbody tr th {\n",
       "        vertical-align: top;\n",
       "    }\n",
       "\n",
       "    .dataframe thead th {\n",
       "        text-align: right;\n",
       "    }\n",
       "</style>\n",
       "<table border=\"1\" class=\"dataframe\">\n",
       "  <thead>\n",
       "    <tr style=\"text-align: right;\">\n",
       "      <th></th>\n",
       "      <th>Qualification</th>\n",
       "      <th>Experience</th>\n",
       "      <th>Rating</th>\n",
       "      <th>Place</th>\n",
       "      <th>Profile</th>\n",
       "      <th>Miscellaneous_Info</th>\n",
       "      <th>Fees</th>\n",
       "    </tr>\n",
       "  </thead>\n",
       "  <tbody>\n",
       "    <tr>\n",
       "      <th>0</th>\n",
       "      <td>BHMS, MD - Homeopathy</td>\n",
       "      <td>24 years experience</td>\n",
       "      <td>100%</td>\n",
       "      <td>Kakkanad, Ernakulam</td>\n",
       "      <td>Homeopath</td>\n",
       "      <td>100% 16 Feedback Kakkanad, Ernakulam</td>\n",
       "      <td>100</td>\n",
       "    </tr>\n",
       "    <tr>\n",
       "      <th>1</th>\n",
       "      <td>BAMS, MD - Ayurveda Medicine</td>\n",
       "      <td>12 years experience</td>\n",
       "      <td>98%</td>\n",
       "      <td>Whitefield, Bangalore</td>\n",
       "      <td>Ayurveda</td>\n",
       "      <td>98% 76 Feedback Whitefield, Bangalore</td>\n",
       "      <td>350</td>\n",
       "    </tr>\n",
       "    <tr>\n",
       "      <th>2</th>\n",
       "      <td>MBBS, MS - Otorhinolaryngology</td>\n",
       "      <td>9 years experience</td>\n",
       "      <td>NaN</td>\n",
       "      <td>Mathikere - BEL, Bangalore</td>\n",
       "      <td>ENT Specialist</td>\n",
       "      <td>NaN</td>\n",
       "      <td>300</td>\n",
       "    </tr>\n",
       "    <tr>\n",
       "      <th>3</th>\n",
       "      <td>BSc - Zoology, BAMS</td>\n",
       "      <td>12 years experience</td>\n",
       "      <td>NaN</td>\n",
       "      <td>Bannerghatta Road, Bangalore</td>\n",
       "      <td>Ayurveda</td>\n",
       "      <td>Bannerghatta Road, Bangalore ₹250 Available on...</td>\n",
       "      <td>250</td>\n",
       "    </tr>\n",
       "    <tr>\n",
       "      <th>4</th>\n",
       "      <td>BAMS</td>\n",
       "      <td>20 years experience</td>\n",
       "      <td>100%</td>\n",
       "      <td>Keelkattalai, Chennai</td>\n",
       "      <td>Ayurveda</td>\n",
       "      <td>100% 4 Feedback Keelkattalai, Chennai</td>\n",
       "      <td>250</td>\n",
       "    </tr>\n",
       "  </tbody>\n",
       "</table>\n",
       "</div>"
      ],
      "text/plain": [
       "                    Qualification           Experience Rating  \\\n",
       "0           BHMS, MD - Homeopathy  24 years experience   100%   \n",
       "1    BAMS, MD - Ayurveda Medicine  12 years experience    98%   \n",
       "2  MBBS, MS - Otorhinolaryngology   9 years experience    NaN   \n",
       "3             BSc - Zoology, BAMS  12 years experience    NaN   \n",
       "4                            BAMS  20 years experience   100%   \n",
       "\n",
       "                          Place         Profile  \\\n",
       "0           Kakkanad, Ernakulam       Homeopath   \n",
       "1         Whitefield, Bangalore        Ayurveda   \n",
       "2    Mathikere - BEL, Bangalore  ENT Specialist   \n",
       "3  Bannerghatta Road, Bangalore        Ayurveda   \n",
       "4         Keelkattalai, Chennai        Ayurveda   \n",
       "\n",
       "                                  Miscellaneous_Info  Fees  \n",
       "0               100% 16 Feedback Kakkanad, Ernakulam   100  \n",
       "1              98% 76 Feedback Whitefield, Bangalore   350  \n",
       "2                                                NaN   300  \n",
       "3  Bannerghatta Road, Bangalore ₹250 Available on...   250  \n",
       "4              100% 4 Feedback Keelkattalai, Chennai   250  "
      ]
     },
     "execution_count": 51,
     "metadata": {},
     "output_type": "execute_result"
    }
   ],
   "source": [
    "df.head()"
   ]
  },
  {
   "cell_type": "code",
   "execution_count": 52,
   "metadata": {},
   "outputs": [
    {
     "data": {
      "text/plain": [
       "Index(['Qualification', 'Experience', 'Rating', 'Place', 'Profile',\n",
       "       'Miscellaneous_Info', 'Fees'],\n",
       "      dtype='object')"
      ]
     },
     "execution_count": 52,
     "metadata": {},
     "output_type": "execute_result"
    }
   ],
   "source": [
    "df.columns"
   ]
  },
  {
   "cell_type": "code",
   "execution_count": 53,
   "metadata": {},
   "outputs": [
    {
     "data": {
      "text/plain": [
       "(5961, 7)"
      ]
     },
     "execution_count": 53,
     "metadata": {},
     "output_type": "execute_result"
    }
   ],
   "source": [
    "#Checking the shape of the dataset\n",
    "df.shape"
   ]
  },
  {
   "cell_type": "markdown",
   "metadata": {},
   "source": [
    "rows=5961\n",
    "\n",
    "columns=7"
   ]
  },
  {
   "cell_type": "code",
   "execution_count": 54,
   "metadata": {},
   "outputs": [
    {
     "data": {
      "text/plain": [
       "Qualification         object\n",
       "Experience            object\n",
       "Rating                object\n",
       "Place                 object\n",
       "Profile               object\n",
       "Miscellaneous_Info    object\n",
       "Fees                   int64\n",
       "dtype: object"
      ]
     },
     "execution_count": 54,
     "metadata": {},
     "output_type": "execute_result"
    }
   ],
   "source": [
    "#Checking the datatypes\n",
    "df.dtypes"
   ]
  },
  {
   "cell_type": "code",
   "execution_count": 55,
   "metadata": {},
   "outputs": [
    {
     "data": {
      "text/plain": [
       "Qualification            0\n",
       "Experience               0\n",
       "Rating                3302\n",
       "Place                   25\n",
       "Profile                  0\n",
       "Miscellaneous_Info    2620\n",
       "Fees                     0\n",
       "dtype: int64"
      ]
     },
     "execution_count": 55,
     "metadata": {},
     "output_type": "execute_result"
    }
   ],
   "source": [
    "#Checking the null values\n",
    "df.isnull().sum()"
   ]
  },
  {
   "cell_type": "markdown",
   "metadata": {},
   "source": [
    "Null values are present in three columns('Rating','Place' and 'Miscellaneous_Info') "
   ]
  },
  {
   "cell_type": "markdown",
   "metadata": {},
   "source": [
    "EDA:\n",
    "\n",
    "There will be lots of analysis which can be assumed by observing our data as all the feature we are having is categorical even experience, except target variable(Fees)."
   ]
  },
  {
   "cell_type": "code",
   "execution_count": 56,
   "metadata": {},
   "outputs": [],
   "source": [
    "# Extract Experience Year from Experience column and convert to Numeric\n",
    "df['Experience'] = df['Experience'].str.split().str[0]\n",
    "df['Experience'] = df['Experience'].astype(int)"
   ]
  },
  {
   "cell_type": "code",
   "execution_count": 57,
   "metadata": {},
   "outputs": [
    {
     "data": {
      "text/html": [
       "<div>\n",
       "<style scoped>\n",
       "    .dataframe tbody tr th:only-of-type {\n",
       "        vertical-align: middle;\n",
       "    }\n",
       "\n",
       "    .dataframe tbody tr th {\n",
       "        vertical-align: top;\n",
       "    }\n",
       "\n",
       "    .dataframe thead th {\n",
       "        text-align: right;\n",
       "    }\n",
       "</style>\n",
       "<table border=\"1\" class=\"dataframe\">\n",
       "  <thead>\n",
       "    <tr style=\"text-align: right;\">\n",
       "      <th></th>\n",
       "      <th>Qualification</th>\n",
       "      <th>Experience</th>\n",
       "      <th>Rating</th>\n",
       "      <th>Place</th>\n",
       "      <th>Profile</th>\n",
       "      <th>Miscellaneous_Info</th>\n",
       "      <th>Fees</th>\n",
       "    </tr>\n",
       "  </thead>\n",
       "  <tbody>\n",
       "    <tr>\n",
       "      <th>0</th>\n",
       "      <td>BHMS, MD - Homeopathy</td>\n",
       "      <td>24</td>\n",
       "      <td>100%</td>\n",
       "      <td>Kakkanad, Ernakulam</td>\n",
       "      <td>Homeopath</td>\n",
       "      <td>100% 16 Feedback Kakkanad, Ernakulam</td>\n",
       "      <td>100</td>\n",
       "    </tr>\n",
       "    <tr>\n",
       "      <th>1</th>\n",
       "      <td>BAMS, MD - Ayurveda Medicine</td>\n",
       "      <td>12</td>\n",
       "      <td>98%</td>\n",
       "      <td>Whitefield, Bangalore</td>\n",
       "      <td>Ayurveda</td>\n",
       "      <td>98% 76 Feedback Whitefield, Bangalore</td>\n",
       "      <td>350</td>\n",
       "    </tr>\n",
       "    <tr>\n",
       "      <th>2</th>\n",
       "      <td>MBBS, MS - Otorhinolaryngology</td>\n",
       "      <td>9</td>\n",
       "      <td>NaN</td>\n",
       "      <td>Mathikere - BEL, Bangalore</td>\n",
       "      <td>ENT Specialist</td>\n",
       "      <td>NaN</td>\n",
       "      <td>300</td>\n",
       "    </tr>\n",
       "    <tr>\n",
       "      <th>3</th>\n",
       "      <td>BSc - Zoology, BAMS</td>\n",
       "      <td>12</td>\n",
       "      <td>NaN</td>\n",
       "      <td>Bannerghatta Road, Bangalore</td>\n",
       "      <td>Ayurveda</td>\n",
       "      <td>Bannerghatta Road, Bangalore ₹250 Available on...</td>\n",
       "      <td>250</td>\n",
       "    </tr>\n",
       "    <tr>\n",
       "      <th>4</th>\n",
       "      <td>BAMS</td>\n",
       "      <td>20</td>\n",
       "      <td>100%</td>\n",
       "      <td>Keelkattalai, Chennai</td>\n",
       "      <td>Ayurveda</td>\n",
       "      <td>100% 4 Feedback Keelkattalai, Chennai</td>\n",
       "      <td>250</td>\n",
       "    </tr>\n",
       "  </tbody>\n",
       "</table>\n",
       "</div>"
      ],
      "text/plain": [
       "                    Qualification  Experience Rating  \\\n",
       "0           BHMS, MD - Homeopathy          24   100%   \n",
       "1    BAMS, MD - Ayurveda Medicine          12    98%   \n",
       "2  MBBS, MS - Otorhinolaryngology           9    NaN   \n",
       "3             BSc - Zoology, BAMS          12    NaN   \n",
       "4                            BAMS          20   100%   \n",
       "\n",
       "                          Place         Profile  \\\n",
       "0           Kakkanad, Ernakulam       Homeopath   \n",
       "1         Whitefield, Bangalore        Ayurveda   \n",
       "2    Mathikere - BEL, Bangalore  ENT Specialist   \n",
       "3  Bannerghatta Road, Bangalore        Ayurveda   \n",
       "4         Keelkattalai, Chennai        Ayurveda   \n",
       "\n",
       "                                  Miscellaneous_Info  Fees  \n",
       "0               100% 16 Feedback Kakkanad, Ernakulam   100  \n",
       "1              98% 76 Feedback Whitefield, Bangalore   350  \n",
       "2                                                NaN   300  \n",
       "3  Bannerghatta Road, Bangalore ₹250 Available on...   250  \n",
       "4              100% 4 Feedback Keelkattalai, Chennai   250  "
      ]
     },
     "execution_count": 57,
     "metadata": {},
     "output_type": "execute_result"
    }
   ],
   "source": [
    "df.head()"
   ]
  },
  {
   "cell_type": "code",
   "execution_count": 58,
   "metadata": {},
   "outputs": [],
   "source": [
    "#Dividing the 'Place' column into locality and city\n",
    "df.Place.fillna('Unknown,Unknown',inplace=True)\n",
    "df['locality'] = df['Place'].str.split(\",\").str[0]\n",
    "df['city'] = df['Place'].str.split(\",\").str[1]\n",
    "\n",
    "#Now we can drop the place variable\n",
    "df.drop('Place',axis=1,inplace=True)"
   ]
  },
  {
   "cell_type": "code",
   "execution_count": 59,
   "metadata": {},
   "outputs": [
    {
     "data": {
      "text/html": [
       "<div>\n",
       "<style scoped>\n",
       "    .dataframe tbody tr th:only-of-type {\n",
       "        vertical-align: middle;\n",
       "    }\n",
       "\n",
       "    .dataframe tbody tr th {\n",
       "        vertical-align: top;\n",
       "    }\n",
       "\n",
       "    .dataframe thead th {\n",
       "        text-align: right;\n",
       "    }\n",
       "</style>\n",
       "<table border=\"1\" class=\"dataframe\">\n",
       "  <thead>\n",
       "    <tr style=\"text-align: right;\">\n",
       "      <th></th>\n",
       "      <th>Qualification</th>\n",
       "      <th>Experience</th>\n",
       "      <th>Rating</th>\n",
       "      <th>Profile</th>\n",
       "      <th>Miscellaneous_Info</th>\n",
       "      <th>Fees</th>\n",
       "      <th>locality</th>\n",
       "      <th>city</th>\n",
       "    </tr>\n",
       "  </thead>\n",
       "  <tbody>\n",
       "    <tr>\n",
       "      <th>0</th>\n",
       "      <td>BHMS, MD - Homeopathy</td>\n",
       "      <td>24</td>\n",
       "      <td>100%</td>\n",
       "      <td>Homeopath</td>\n",
       "      <td>100% 16 Feedback Kakkanad, Ernakulam</td>\n",
       "      <td>100</td>\n",
       "      <td>Kakkanad</td>\n",
       "      <td>Ernakulam</td>\n",
       "    </tr>\n",
       "    <tr>\n",
       "      <th>1</th>\n",
       "      <td>BAMS, MD - Ayurveda Medicine</td>\n",
       "      <td>12</td>\n",
       "      <td>98%</td>\n",
       "      <td>Ayurveda</td>\n",
       "      <td>98% 76 Feedback Whitefield, Bangalore</td>\n",
       "      <td>350</td>\n",
       "      <td>Whitefield</td>\n",
       "      <td>Bangalore</td>\n",
       "    </tr>\n",
       "    <tr>\n",
       "      <th>2</th>\n",
       "      <td>MBBS, MS - Otorhinolaryngology</td>\n",
       "      <td>9</td>\n",
       "      <td>NaN</td>\n",
       "      <td>ENT Specialist</td>\n",
       "      <td>NaN</td>\n",
       "      <td>300</td>\n",
       "      <td>Mathikere - BEL</td>\n",
       "      <td>Bangalore</td>\n",
       "    </tr>\n",
       "    <tr>\n",
       "      <th>3</th>\n",
       "      <td>BSc - Zoology, BAMS</td>\n",
       "      <td>12</td>\n",
       "      <td>NaN</td>\n",
       "      <td>Ayurveda</td>\n",
       "      <td>Bannerghatta Road, Bangalore ₹250 Available on...</td>\n",
       "      <td>250</td>\n",
       "      <td>Bannerghatta Road</td>\n",
       "      <td>Bangalore</td>\n",
       "    </tr>\n",
       "    <tr>\n",
       "      <th>4</th>\n",
       "      <td>BAMS</td>\n",
       "      <td>20</td>\n",
       "      <td>100%</td>\n",
       "      <td>Ayurveda</td>\n",
       "      <td>100% 4 Feedback Keelkattalai, Chennai</td>\n",
       "      <td>250</td>\n",
       "      <td>Keelkattalai</td>\n",
       "      <td>Chennai</td>\n",
       "    </tr>\n",
       "  </tbody>\n",
       "</table>\n",
       "</div>"
      ],
      "text/plain": [
       "                    Qualification  Experience Rating         Profile  \\\n",
       "0           BHMS, MD - Homeopathy          24   100%       Homeopath   \n",
       "1    BAMS, MD - Ayurveda Medicine          12    98%        Ayurveda   \n",
       "2  MBBS, MS - Otorhinolaryngology           9    NaN  ENT Specialist   \n",
       "3             BSc - Zoology, BAMS          12    NaN        Ayurveda   \n",
       "4                            BAMS          20   100%        Ayurveda   \n",
       "\n",
       "                                  Miscellaneous_Info  Fees           locality  \\\n",
       "0               100% 16 Feedback Kakkanad, Ernakulam   100           Kakkanad   \n",
       "1              98% 76 Feedback Whitefield, Bangalore   350         Whitefield   \n",
       "2                                                NaN   300    Mathikere - BEL   \n",
       "3  Bannerghatta Road, Bangalore ₹250 Available on...   250  Bannerghatta Road   \n",
       "4              100% 4 Feedback Keelkattalai, Chennai   250       Keelkattalai   \n",
       "\n",
       "         city  \n",
       "0   Ernakulam  \n",
       "1   Bangalore  \n",
       "2   Bangalore  \n",
       "3   Bangalore  \n",
       "4     Chennai  "
      ]
     },
     "execution_count": 59,
     "metadata": {},
     "output_type": "execute_result"
    }
   ],
   "source": [
    "df.head()"
   ]
  },
  {
   "cell_type": "code",
   "execution_count": 60,
   "metadata": {},
   "outputs": [
    {
     "data": {
      "text/plain": [
       "Qualification            0\n",
       "Experience               0\n",
       "Rating                3302\n",
       "Profile                  0\n",
       "Miscellaneous_Info    2620\n",
       "Fees                     0\n",
       "locality                 0\n",
       "city                     1\n",
       "dtype: int64"
      ]
     },
     "execution_count": 60,
     "metadata": {},
     "output_type": "execute_result"
    }
   ],
   "source": [
    "#Checking the null values after removing 'Place' variable \n",
    "df.isnull().sum()"
   ]
  },
  {
   "cell_type": "code",
   "execution_count": 61,
   "metadata": {},
   "outputs": [],
   "source": [
    "pd.set_option('display.max_rows',None)"
   ]
  },
  {
   "cell_type": "code",
   "execution_count": 62,
   "metadata": {},
   "outputs": [],
   "source": [
    "#Removing the null values from 'City' column\n",
    "from sklearn.impute import SimpleImputer\n",
    "imp=SimpleImputer(strategy='most_frequent')\n",
    "df['city']=imp.fit_transform(df['city'].values.reshape(-1,1))"
   ]
  },
  {
   "cell_type": "code",
   "execution_count": 63,
   "metadata": {},
   "outputs": [
    {
     "data": {
      "text/plain": [
       " Bangalore             1259\n",
       " Mumbai                1219\n",
       " Delhi                 1184\n",
       " Hyderabad              951\n",
       " Chennai                855\n",
       " Coimbatore             228\n",
       " Ernakulam              153\n",
       " Thiruvananthapuram      86\n",
       "Unknown                  25\n",
       " Sector 5                 1\n",
       "Name: city, dtype: int64"
      ]
     },
     "execution_count": 63,
     "metadata": {},
     "output_type": "execute_result"
    }
   ],
   "source": [
    "df['city'].value_counts()"
   ]
  },
  {
   "cell_type": "code",
   "execution_count": 64,
   "metadata": {},
   "outputs": [
    {
     "data": {
      "text/plain": [
       "Qualification            0\n",
       "Experience               0\n",
       "Rating                3302\n",
       "Profile                  0\n",
       "Miscellaneous_Info    2620\n",
       "Fees                     0\n",
       "locality                 0\n",
       "city                     0\n",
       "dtype: int64"
      ]
     },
     "execution_count": 64,
     "metadata": {},
     "output_type": "execute_result"
    }
   ],
   "source": [
    "#Checking null values \n",
    "df.isnull().sum()"
   ]
  },
  {
   "cell_type": "code",
   "execution_count": 65,
   "metadata": {},
   "outputs": [
    {
     "data": {
      "text/plain": [
       "Dentist             1397\n",
       "General Medicine    1173\n",
       "Dermatologists      1034\n",
       "Homeopath            843\n",
       "Ayurveda             786\n",
       "ENT Specialist       728\n",
       "Name: Profile, dtype: int64"
      ]
     },
     "execution_count": 65,
     "metadata": {},
     "output_type": "execute_result"
    }
   ],
   "source": [
    "df['Profile'].value_counts()"
   ]
  },
  {
   "cell_type": "code",
   "execution_count": 66,
   "metadata": {},
   "outputs": [],
   "source": [
    "#Removing null values from 'Rating' column and convert the string type into integer\n",
    "imp=SimpleImputer(strategy='most_frequent')\n",
    "df['Rating']=imp.fit_transform(df['Rating'].values.reshape(-1,1))\n",
    "df['Rating'] = df['Rating'].str.slice(stop=-1).astype(int)"
   ]
  },
  {
   "cell_type": "code",
   "execution_count": 67,
   "metadata": {},
   "outputs": [
    {
     "data": {
      "text/html": [
       "<div>\n",
       "<style scoped>\n",
       "    .dataframe tbody tr th:only-of-type {\n",
       "        vertical-align: middle;\n",
       "    }\n",
       "\n",
       "    .dataframe tbody tr th {\n",
       "        vertical-align: top;\n",
       "    }\n",
       "\n",
       "    .dataframe thead th {\n",
       "        text-align: right;\n",
       "    }\n",
       "</style>\n",
       "<table border=\"1\" class=\"dataframe\">\n",
       "  <thead>\n",
       "    <tr style=\"text-align: right;\">\n",
       "      <th></th>\n",
       "      <th>Qualification</th>\n",
       "      <th>Experience</th>\n",
       "      <th>Rating</th>\n",
       "      <th>Profile</th>\n",
       "      <th>Miscellaneous_Info</th>\n",
       "      <th>Fees</th>\n",
       "      <th>locality</th>\n",
       "      <th>city</th>\n",
       "    </tr>\n",
       "  </thead>\n",
       "  <tbody>\n",
       "    <tr>\n",
       "      <th>0</th>\n",
       "      <td>BHMS, MD - Homeopathy</td>\n",
       "      <td>24</td>\n",
       "      <td>100</td>\n",
       "      <td>Homeopath</td>\n",
       "      <td>100% 16 Feedback Kakkanad, Ernakulam</td>\n",
       "      <td>100</td>\n",
       "      <td>Kakkanad</td>\n",
       "      <td>Ernakulam</td>\n",
       "    </tr>\n",
       "    <tr>\n",
       "      <th>1</th>\n",
       "      <td>BAMS, MD - Ayurveda Medicine</td>\n",
       "      <td>12</td>\n",
       "      <td>98</td>\n",
       "      <td>Ayurveda</td>\n",
       "      <td>98% 76 Feedback Whitefield, Bangalore</td>\n",
       "      <td>350</td>\n",
       "      <td>Whitefield</td>\n",
       "      <td>Bangalore</td>\n",
       "    </tr>\n",
       "    <tr>\n",
       "      <th>2</th>\n",
       "      <td>MBBS, MS - Otorhinolaryngology</td>\n",
       "      <td>9</td>\n",
       "      <td>100</td>\n",
       "      <td>ENT Specialist</td>\n",
       "      <td>NaN</td>\n",
       "      <td>300</td>\n",
       "      <td>Mathikere - BEL</td>\n",
       "      <td>Bangalore</td>\n",
       "    </tr>\n",
       "    <tr>\n",
       "      <th>3</th>\n",
       "      <td>BSc - Zoology, BAMS</td>\n",
       "      <td>12</td>\n",
       "      <td>100</td>\n",
       "      <td>Ayurveda</td>\n",
       "      <td>Bannerghatta Road, Bangalore ₹250 Available on...</td>\n",
       "      <td>250</td>\n",
       "      <td>Bannerghatta Road</td>\n",
       "      <td>Bangalore</td>\n",
       "    </tr>\n",
       "    <tr>\n",
       "      <th>4</th>\n",
       "      <td>BAMS</td>\n",
       "      <td>20</td>\n",
       "      <td>100</td>\n",
       "      <td>Ayurveda</td>\n",
       "      <td>100% 4 Feedback Keelkattalai, Chennai</td>\n",
       "      <td>250</td>\n",
       "      <td>Keelkattalai</td>\n",
       "      <td>Chennai</td>\n",
       "    </tr>\n",
       "  </tbody>\n",
       "</table>\n",
       "</div>"
      ],
      "text/plain": [
       "                    Qualification  Experience  Rating         Profile  \\\n",
       "0           BHMS, MD - Homeopathy          24     100       Homeopath   \n",
       "1    BAMS, MD - Ayurveda Medicine          12      98        Ayurveda   \n",
       "2  MBBS, MS - Otorhinolaryngology           9     100  ENT Specialist   \n",
       "3             BSc - Zoology, BAMS          12     100        Ayurveda   \n",
       "4                            BAMS          20     100        Ayurveda   \n",
       "\n",
       "                                  Miscellaneous_Info  Fees           locality  \\\n",
       "0               100% 16 Feedback Kakkanad, Ernakulam   100           Kakkanad   \n",
       "1              98% 76 Feedback Whitefield, Bangalore   350         Whitefield   \n",
       "2                                                NaN   300    Mathikere - BEL   \n",
       "3  Bannerghatta Road, Bangalore ₹250 Available on...   250  Bannerghatta Road   \n",
       "4              100% 4 Feedback Keelkattalai, Chennai   250       Keelkattalai   \n",
       "\n",
       "         city  \n",
       "0   Ernakulam  \n",
       "1   Bangalore  \n",
       "2   Bangalore  \n",
       "3   Bangalore  \n",
       "4     Chennai  "
      ]
     },
     "execution_count": 67,
     "metadata": {},
     "output_type": "execute_result"
    }
   ],
   "source": [
    "df.head()"
   ]
  },
  {
   "cell_type": "code",
   "execution_count": 68,
   "metadata": {},
   "outputs": [
    {
     "data": {
      "text/plain": [
       "Qualification            0\n",
       "Experience               0\n",
       "Rating                   0\n",
       "Profile                  0\n",
       "Miscellaneous_Info    2620\n",
       "Fees                     0\n",
       "locality                 0\n",
       "city                     0\n",
       "dtype: int64"
      ]
     },
     "execution_count": 68,
     "metadata": {},
     "output_type": "execute_result"
    }
   ],
   "source": [
    "#Checking null values after removing null values from 'Rating' column\n",
    "df.isnull().sum()"
   ]
  },
  {
   "cell_type": "markdown",
   "metadata": {},
   "source": [
    "Miscellaneous_Info & locality\n",
    "\n",
    "Miscellaneous_Info is to much messy column and it consist the data which we already have like doctor address(city & locality) and Rating\n",
    "\n",
    "locality and city are approximate have same relationship so better to move with only city,so drop the Miscellaneous_Info and locality"
   ]
  },
  {
   "cell_type": "code",
   "execution_count": 69,
   "metadata": {},
   "outputs": [],
   "source": [
    "df.drop(['Miscellaneous_Info','locality'],axis=1,inplace=True)"
   ]
  },
  {
   "cell_type": "code",
   "execution_count": 70,
   "metadata": {},
   "outputs": [
    {
     "data": {
      "text/html": [
       "<div>\n",
       "<style scoped>\n",
       "    .dataframe tbody tr th:only-of-type {\n",
       "        vertical-align: middle;\n",
       "    }\n",
       "\n",
       "    .dataframe tbody tr th {\n",
       "        vertical-align: top;\n",
       "    }\n",
       "\n",
       "    .dataframe thead th {\n",
       "        text-align: right;\n",
       "    }\n",
       "</style>\n",
       "<table border=\"1\" class=\"dataframe\">\n",
       "  <thead>\n",
       "    <tr style=\"text-align: right;\">\n",
       "      <th></th>\n",
       "      <th>Qualification</th>\n",
       "      <th>Experience</th>\n",
       "      <th>Rating</th>\n",
       "      <th>Profile</th>\n",
       "      <th>Fees</th>\n",
       "      <th>city</th>\n",
       "    </tr>\n",
       "  </thead>\n",
       "  <tbody>\n",
       "    <tr>\n",
       "      <th>0</th>\n",
       "      <td>BHMS, MD - Homeopathy</td>\n",
       "      <td>24</td>\n",
       "      <td>100</td>\n",
       "      <td>Homeopath</td>\n",
       "      <td>100</td>\n",
       "      <td>Ernakulam</td>\n",
       "    </tr>\n",
       "    <tr>\n",
       "      <th>1</th>\n",
       "      <td>BAMS, MD - Ayurveda Medicine</td>\n",
       "      <td>12</td>\n",
       "      <td>98</td>\n",
       "      <td>Ayurveda</td>\n",
       "      <td>350</td>\n",
       "      <td>Bangalore</td>\n",
       "    </tr>\n",
       "    <tr>\n",
       "      <th>2</th>\n",
       "      <td>MBBS, MS - Otorhinolaryngology</td>\n",
       "      <td>9</td>\n",
       "      <td>100</td>\n",
       "      <td>ENT Specialist</td>\n",
       "      <td>300</td>\n",
       "      <td>Bangalore</td>\n",
       "    </tr>\n",
       "    <tr>\n",
       "      <th>3</th>\n",
       "      <td>BSc - Zoology, BAMS</td>\n",
       "      <td>12</td>\n",
       "      <td>100</td>\n",
       "      <td>Ayurveda</td>\n",
       "      <td>250</td>\n",
       "      <td>Bangalore</td>\n",
       "    </tr>\n",
       "    <tr>\n",
       "      <th>4</th>\n",
       "      <td>BAMS</td>\n",
       "      <td>20</td>\n",
       "      <td>100</td>\n",
       "      <td>Ayurveda</td>\n",
       "      <td>250</td>\n",
       "      <td>Chennai</td>\n",
       "    </tr>\n",
       "  </tbody>\n",
       "</table>\n",
       "</div>"
      ],
      "text/plain": [
       "                    Qualification  Experience  Rating         Profile  Fees  \\\n",
       "0           BHMS, MD - Homeopathy          24     100       Homeopath   100   \n",
       "1    BAMS, MD - Ayurveda Medicine          12      98        Ayurveda   350   \n",
       "2  MBBS, MS - Otorhinolaryngology           9     100  ENT Specialist   300   \n",
       "3             BSc - Zoology, BAMS          12     100        Ayurveda   250   \n",
       "4                            BAMS          20     100        Ayurveda   250   \n",
       "\n",
       "         city  \n",
       "0   Ernakulam  \n",
       "1   Bangalore  \n",
       "2   Bangalore  \n",
       "3   Bangalore  \n",
       "4     Chennai  "
      ]
     },
     "execution_count": 70,
     "metadata": {},
     "output_type": "execute_result"
    }
   ],
   "source": [
    "df.head()"
   ]
  },
  {
   "cell_type": "code",
   "execution_count": 71,
   "metadata": {},
   "outputs": [
    {
     "data": {
      "text/plain": [
       "Dentist             1397\n",
       "General Medicine    1173\n",
       "Dermatologists      1034\n",
       "Homeopath            843\n",
       "Ayurveda             786\n",
       "ENT Specialist       728\n",
       "Name: Profile, dtype: int64"
      ]
     },
     "execution_count": 71,
     "metadata": {},
     "output_type": "execute_result"
    }
   ],
   "source": [
    "df['Profile'].value_counts()"
   ]
  },
  {
   "cell_type": "markdown",
   "metadata": {},
   "source": [
    "Qualification\n",
    "\n",
    "We are going to check which degrees the doctors have and then treat them as several features."
   ]
  },
  {
   "cell_type": "code",
   "execution_count": 72,
   "metadata": {},
   "outputs": [
    {
     "data": {
      "text/plain": [
       "BDS                                                      488\n",
       "BHMS                                                     477\n",
       "BAMS                                                     471\n",
       "MBBS                                                     334\n",
       "MBBS, MS - ENT                                           220\n",
       "MBBS, MD - Dermatology                                   178\n",
       "MBBS, MD - General Medicine                              177\n",
       "MBBS, MD - Dermatology , Venereology & Leprosy           140\n",
       "BHMS, MD - Homeopathy                                     93\n",
       "MBBS, DDVL                                                92\n",
       "MBBS, Diploma in Otorhinolaryngology (DLO)                84\n",
       "BAMS, MD - Ayurveda Medicine                              82\n",
       "BDS, MDS - Conservative Dentistry & Endodontics           68\n",
       "MBBS, DDV                                                 66\n",
       "BDS, MDS                                                  63\n",
       "BDS, MDS - Oral & Maxillofacial Surgery                   57\n",
       "MD - Dermatology , Venereology & Leprosy, MBBS            52\n",
       "BDS, MDS - Prosthodontics                                 45\n",
       "MBBS, MS - Otorhinolaryngology                            44\n",
       "MBBS, MD - Internal Medicine                              43\n",
       "MBBS, MD - Medicine                                       41\n",
       "BDS, MDS - Orthodontics                                   41\n",
       "MS - ENT, MBBS                                            37\n",
       "BDS, MDS - Paedodontics And Preventive Dentistry          32\n",
       "MD - Dermatology, MBBS                                    31\n",
       "MBBS, Diploma in Dermatology                              31\n",
       "BDS, MDS - Orthodontics and Dentofacial Orthopaedics      29\n",
       "BDS, MDS - Periodontology and Oral Implantology           29\n",
       "MBBS, Diploma in Otorhinolaryngology (DLO), DNB - ENT     27\n",
       "BDS, MDS - Prosthodontist And Crown Bridge                25\n",
       "Name: Qualification, dtype: int64"
      ]
     },
     "execution_count": 72,
     "metadata": {},
     "output_type": "execute_result"
    }
   ],
   "source": [
    "df['Qualification'].value_counts()[:30]"
   ]
  },
  {
   "cell_type": "code",
   "execution_count": 73,
   "metadata": {},
   "outputs": [],
   "source": [
    "#Encoding the object columns\n",
    "from sklearn.preprocessing import LabelEncoder\n",
    "df['Qualification']=LabelEncoder().fit_transform(df['Qualification'])\n",
    "df['Profile']=LabelEncoder().fit_transform(df['Profile'])\n",
    "df['city']=LabelEncoder().fit_transform(df['city'])"
   ]
  },
  {
   "cell_type": "code",
   "execution_count": 74,
   "metadata": {},
   "outputs": [
    {
     "data": {
      "text/html": [
       "<div>\n",
       "<style scoped>\n",
       "    .dataframe tbody tr th:only-of-type {\n",
       "        vertical-align: middle;\n",
       "    }\n",
       "\n",
       "    .dataframe tbody tr th {\n",
       "        vertical-align: top;\n",
       "    }\n",
       "\n",
       "    .dataframe thead th {\n",
       "        text-align: right;\n",
       "    }\n",
       "</style>\n",
       "<table border=\"1\" class=\"dataframe\">\n",
       "  <thead>\n",
       "    <tr style=\"text-align: right;\">\n",
       "      <th></th>\n",
       "      <th>Qualification</th>\n",
       "      <th>Experience</th>\n",
       "      <th>Rating</th>\n",
       "      <th>Profile</th>\n",
       "      <th>Fees</th>\n",
       "      <th>city</th>\n",
       "    </tr>\n",
       "  </thead>\n",
       "  <tbody>\n",
       "    <tr>\n",
       "      <th>0</th>\n",
       "      <td>401</td>\n",
       "      <td>24</td>\n",
       "      <td>100</td>\n",
       "      <td>5</td>\n",
       "      <td>100</td>\n",
       "      <td>4</td>\n",
       "    </tr>\n",
       "    <tr>\n",
       "      <th>1</th>\n",
       "      <td>73</td>\n",
       "      <td>12</td>\n",
       "      <td>98</td>\n",
       "      <td>0</td>\n",
       "      <td>350</td>\n",
       "      <td>0</td>\n",
       "    </tr>\n",
       "    <tr>\n",
       "      <th>2</th>\n",
       "      <td>1135</td>\n",
       "      <td>9</td>\n",
       "      <td>100</td>\n",
       "      <td>3</td>\n",
       "      <td>300</td>\n",
       "      <td>0</td>\n",
       "    </tr>\n",
       "    <tr>\n",
       "      <th>3</th>\n",
       "      <td>464</td>\n",
       "      <td>12</td>\n",
       "      <td>100</td>\n",
       "      <td>0</td>\n",
       "      <td>250</td>\n",
       "      <td>0</td>\n",
       "    </tr>\n",
       "    <tr>\n",
       "      <th>4</th>\n",
       "      <td>10</td>\n",
       "      <td>20</td>\n",
       "      <td>100</td>\n",
       "      <td>0</td>\n",
       "      <td>250</td>\n",
       "      <td>1</td>\n",
       "    </tr>\n",
       "  </tbody>\n",
       "</table>\n",
       "</div>"
      ],
      "text/plain": [
       "   Qualification  Experience  Rating  Profile  Fees  city\n",
       "0            401          24     100        5   100     4\n",
       "1             73          12      98        0   350     0\n",
       "2           1135           9     100        3   300     0\n",
       "3            464          12     100        0   250     0\n",
       "4             10          20     100        0   250     1"
      ]
     },
     "execution_count": 74,
     "metadata": {},
     "output_type": "execute_result"
    }
   ],
   "source": [
    "df.head()"
   ]
  },
  {
   "cell_type": "code",
   "execution_count": 75,
   "metadata": {},
   "outputs": [
    {
     "data": {
      "text/plain": [
       "array([[<matplotlib.axes._subplots.AxesSubplot object at 0x0000007C8C943BE0>,\n",
       "        <matplotlib.axes._subplots.AxesSubplot object at 0x0000007CA4B7F760>,\n",
       "        <matplotlib.axes._subplots.AxesSubplot object at 0x0000007C8CA02BB0>,\n",
       "        <matplotlib.axes._subplots.AxesSubplot object at 0x0000007CA57120A0>],\n",
       "       [<matplotlib.axes._subplots.AxesSubplot object at 0x0000007CA577A490>,\n",
       "        <matplotlib.axes._subplots.AxesSubplot object at 0x0000007CA5735820>,\n",
       "        <matplotlib.axes._subplots.AxesSubplot object at 0x0000007CA5A25D60>,\n",
       "        <matplotlib.axes._subplots.AxesSubplot object at 0x0000007CA5A25DC0>],\n",
       "       [<matplotlib.axes._subplots.AxesSubplot object at 0x0000007CA5A9B700>,\n",
       "        <matplotlib.axes._subplots.AxesSubplot object at 0x0000007CA5AEFB50>,\n",
       "        <matplotlib.axes._subplots.AxesSubplot object at 0x0000007CA5B06FA0>,\n",
       "        <matplotlib.axes._subplots.AxesSubplot object at 0x0000007CA5B2A430>],\n",
       "       [<matplotlib.axes._subplots.AxesSubplot object at 0x0000007CA5B48880>,\n",
       "        <matplotlib.axes._subplots.AxesSubplot object at 0x0000007CA4B324C0>,\n",
       "        <matplotlib.axes._subplots.AxesSubplot object at 0x0000007CA5AE6580>,\n",
       "        <matplotlib.axes._subplots.AxesSubplot object at 0x0000007CA587DF40>]],\n",
       "      dtype=object)"
      ]
     },
     "execution_count": 75,
     "metadata": {},
     "output_type": "execute_result"
    },
    {
     "data": {
      "image/png": "[encoded data removed]",
      "text/plain": [
       "<Figure size 1440x1440 with 16 Axes>"
      ]
     },
     "metadata": {
      "needs_background": "light"
     },
     "output_type": "display_data"
    }
   ],
   "source": [
    "#Data Visualization\n",
    "df.hist(figsize=(20,20),grid=True,layout=(4,4),bins=30)"
   ]
  },
  {
   "cell_type": "code",
   "execution_count": 76,
   "metadata": {},
   "outputs": [
    {
     "data": {
      "text/plain": [
       "<matplotlib.axes._subplots.AxesSubplot at 0x7ca68df7c0>"
      ]
     },
     "execution_count": 76,
     "metadata": {},
     "output_type": "execute_result"
    },
    {
     "data": {
      "image/png": "[encoded data removed]",
      "text/plain": [
       "<Figure size 432x288 with 1 Axes>"
      ]
     },
     "metadata": {
      "needs_background": "light"
     },
     "output_type": "display_data"
    }
   ],
   "source": [
    "sns.barplot(x='Profile',y='Fees',data=df)"
   ]
  },
  {
   "cell_type": "code",
   "execution_count": 77,
   "metadata": {},
   "outputs": [
    {
     "data": {
      "text/plain": [
       "1    1397\n",
       "4    1173\n",
       "2    1034\n",
       "5     843\n",
       "0     786\n",
       "3     728\n",
       "Name: Profile, dtype: int64"
      ]
     },
     "execution_count": 77,
     "metadata": {},
     "output_type": "execute_result"
    }
   ],
   "source": [
    "df['Profile'].value_counts()"
   ]
  },
  {
   "cell_type": "markdown",
   "metadata": {},
   "source": [
    "Dermatologist and ENT specialist are taking highest fees according to the barplot."
   ]
  },
  {
   "cell_type": "code",
   "execution_count": 78,
   "metadata": {},
   "outputs": [
    {
     "data": {
      "text/plain": [
       "<matplotlib.axes._subplots.AxesSubplot at 0x7ca68f5f40>"
      ]
     },
     "execution_count": 78,
     "metadata": {},
     "output_type": "execute_result"
    },
    {
     "data": {
      "image/png": "[encoded data removed]",
      "text/plain": [
       "<Figure size 432x288 with 1 Axes>"
      ]
     },
     "metadata": {
      "needs_background": "light"
     },
     "output_type": "display_data"
    }
   ],
   "source": [
    "sns.barplot(x='city',y='Fees',data=df)"
   ]
  },
  {
   "cell_type": "code",
   "execution_count": 79,
   "metadata": {},
   "outputs": [
    {
     "data": {
      "text/plain": [
       "0    1259\n",
       "6    1219\n",
       "3    1184\n",
       "5     951\n",
       "1     855\n",
       "2     228\n",
       "4     153\n",
       "8      86\n",
       "9      25\n",
       "7       1\n",
       "Name: city, dtype: int64"
      ]
     },
     "execution_count": 79,
     "metadata": {},
     "output_type": "execute_result"
    }
   ],
   "source": [
    "df['city'].value_counts()"
   ]
  },
  {
   "cell_type": "markdown",
   "metadata": {},
   "source": [
    "Doctors from Delhi is taking highest fees according to the barplot."
   ]
  },
  {
   "cell_type": "code",
   "execution_count": 80,
   "metadata": {},
   "outputs": [
    {
     "data": {
      "text/html": [
       "<div>\n",
       "<style scoped>\n",
       "    .dataframe tbody tr th:only-of-type {\n",
       "        vertical-align: middle;\n",
       "    }\n",
       "\n",
       "    .dataframe tbody tr th {\n",
       "        vertical-align: top;\n",
       "    }\n",
       "\n",
       "    .dataframe thead th {\n",
       "        text-align: right;\n",
       "    }\n",
       "</style>\n",
       "<table border=\"1\" class=\"dataframe\">\n",
       "  <thead>\n",
       "    <tr style=\"text-align: right;\">\n",
       "      <th></th>\n",
       "      <th>Qualification</th>\n",
       "      <th>Experience</th>\n",
       "      <th>Rating</th>\n",
       "      <th>Profile</th>\n",
       "      <th>Fees</th>\n",
       "      <th>city</th>\n",
       "    </tr>\n",
       "  </thead>\n",
       "  <tbody>\n",
       "    <tr>\n",
       "      <th>count</th>\n",
       "      <td>5961.000000</td>\n",
       "      <td>5961.000000</td>\n",
       "      <td>5961.000000</td>\n",
       "      <td>5961.000000</td>\n",
       "      <td>5961.000000</td>\n",
       "      <td>5961.000000</td>\n",
       "    </tr>\n",
       "    <tr>\n",
       "      <th>mean</th>\n",
       "      <td>596.857574</td>\n",
       "      <td>17.303976</td>\n",
       "      <td>97.610636</td>\n",
       "      <td>2.441872</td>\n",
       "      <td>307.944640</td>\n",
       "      <td>3.097467</td>\n",
       "    </tr>\n",
       "    <tr>\n",
       "      <th>std</th>\n",
       "      <td>413.842446</td>\n",
       "      <td>11.142798</td>\n",
       "      <td>5.881539</td>\n",
       "      <td>1.658014</td>\n",
       "      <td>190.920373</td>\n",
       "      <td>2.350081</td>\n",
       "    </tr>\n",
       "    <tr>\n",
       "      <th>min</th>\n",
       "      <td>0.000000</td>\n",
       "      <td>0.000000</td>\n",
       "      <td>7.000000</td>\n",
       "      <td>0.000000</td>\n",
       "      <td>5.000000</td>\n",
       "      <td>0.000000</td>\n",
       "    </tr>\n",
       "    <tr>\n",
       "      <th>25%</th>\n",
       "      <td>219.000000</td>\n",
       "      <td>9.000000</td>\n",
       "      <td>98.000000</td>\n",
       "      <td>1.000000</td>\n",
       "      <td>150.000000</td>\n",
       "      <td>1.000000</td>\n",
       "    </tr>\n",
       "    <tr>\n",
       "      <th>50%</th>\n",
       "      <td>596.000000</td>\n",
       "      <td>14.000000</td>\n",
       "      <td>100.000000</td>\n",
       "      <td>2.000000</td>\n",
       "      <td>300.000000</td>\n",
       "      <td>3.000000</td>\n",
       "    </tr>\n",
       "    <tr>\n",
       "      <th>75%</th>\n",
       "      <td>943.000000</td>\n",
       "      <td>23.000000</td>\n",
       "      <td>100.000000</td>\n",
       "      <td>4.000000</td>\n",
       "      <td>500.000000</td>\n",
       "      <td>5.000000</td>\n",
       "    </tr>\n",
       "    <tr>\n",
       "      <th>max</th>\n",
       "      <td>1419.000000</td>\n",
       "      <td>66.000000</td>\n",
       "      <td>100.000000</td>\n",
       "      <td>5.000000</td>\n",
       "      <td>950.000000</td>\n",
       "      <td>9.000000</td>\n",
       "    </tr>\n",
       "  </tbody>\n",
       "</table>\n",
       "</div>"
      ],
      "text/plain": [
       "       Qualification   Experience       Rating      Profile         Fees  \\\n",
       "count    5961.000000  5961.000000  5961.000000  5961.000000  5961.000000   \n",
       "mean      596.857574    17.303976    97.610636     2.441872   307.944640   \n",
       "std       413.842446    11.142798     5.881539     1.658014   190.920373   \n",
       "min         0.000000     0.000000     7.000000     0.000000     5.000000   \n",
       "25%       219.000000     9.000000    98.000000     1.000000   150.000000   \n",
       "50%       596.000000    14.000000   100.000000     2.000000   300.000000   \n",
       "75%       943.000000    23.000000   100.000000     4.000000   500.000000   \n",
       "max      1419.000000    66.000000   100.000000     5.000000   950.000000   \n",
       "\n",
       "              city  \n",
       "count  5961.000000  \n",
       "mean      3.097467  \n",
       "std       2.350081  \n",
       "min       0.000000  \n",
       "25%       1.000000  \n",
       "50%       3.000000  \n",
       "75%       5.000000  \n",
       "max       9.000000  "
      ]
     },
     "execution_count": 80,
     "metadata": {},
     "output_type": "execute_result"
    }
   ],
   "source": [
    "#Describe the dataset\n",
    "df.describe()    #Statistical summary of the dataset"
   ]
  },
  {
   "cell_type": "code",
   "execution_count": 81,
   "metadata": {},
   "outputs": [
    {
     "data": {
      "text/html": [
       "<div>\n",
       "<style scoped>\n",
       "    .dataframe tbody tr th:only-of-type {\n",
       "        vertical-align: middle;\n",
       "    }\n",
       "\n",
       "    .dataframe tbody tr th {\n",
       "        vertical-align: top;\n",
       "    }\n",
       "\n",
       "    .dataframe thead th {\n",
       "        text-align: right;\n",
       "    }\n",
       "</style>\n",
       "<table border=\"1\" class=\"dataframe\">\n",
       "  <thead>\n",
       "    <tr style=\"text-align: right;\">\n",
       "      <th></th>\n",
       "      <th>Qualification</th>\n",
       "      <th>Experience</th>\n",
       "      <th>Rating</th>\n",
       "      <th>Profile</th>\n",
       "      <th>Fees</th>\n",
       "      <th>city</th>\n",
       "    </tr>\n",
       "  </thead>\n",
       "  <tbody>\n",
       "    <tr>\n",
       "      <th>Qualification</th>\n",
       "      <td>1.000000</td>\n",
       "      <td>0.134697</td>\n",
       "      <td>-0.163692</td>\n",
       "      <td>0.393123</td>\n",
       "      <td>0.263214</td>\n",
       "      <td>-0.030035</td>\n",
       "    </tr>\n",
       "    <tr>\n",
       "      <th>Experience</th>\n",
       "      <td>0.134697</td>\n",
       "      <td>1.000000</td>\n",
       "      <td>-0.149594</td>\n",
       "      <td>0.202073</td>\n",
       "      <td>0.002117</td>\n",
       "      <td>0.013503</td>\n",
       "    </tr>\n",
       "    <tr>\n",
       "      <th>Rating</th>\n",
       "      <td>-0.163692</td>\n",
       "      <td>-0.149594</td>\n",
       "      <td>1.000000</td>\n",
       "      <td>-0.047013</td>\n",
       "      <td>-0.154713</td>\n",
       "      <td>0.071622</td>\n",
       "    </tr>\n",
       "    <tr>\n",
       "      <th>Profile</th>\n",
       "      <td>0.393123</td>\n",
       "      <td>0.202073</td>\n",
       "      <td>-0.047013</td>\n",
       "      <td>1.000000</td>\n",
       "      <td>0.145226</td>\n",
       "      <td>-0.017342</td>\n",
       "    </tr>\n",
       "    <tr>\n",
       "      <th>Fees</th>\n",
       "      <td>0.263214</td>\n",
       "      <td>0.002117</td>\n",
       "      <td>-0.154713</td>\n",
       "      <td>0.145226</td>\n",
       "      <td>1.000000</td>\n",
       "      <td>-0.041694</td>\n",
       "    </tr>\n",
       "    <tr>\n",
       "      <th>city</th>\n",
       "      <td>-0.030035</td>\n",
       "      <td>0.013503</td>\n",
       "      <td>0.071622</td>\n",
       "      <td>-0.017342</td>\n",
       "      <td>-0.041694</td>\n",
       "      <td>1.000000</td>\n",
       "    </tr>\n",
       "  </tbody>\n",
       "</table>\n",
       "</div>"
      ],
      "text/plain": [
       "               Qualification  Experience    Rating   Profile      Fees  \\\n",
       "Qualification       1.000000    0.134697 -0.163692  0.393123  0.263214   \n",
       "Experience          0.134697    1.000000 -0.149594  0.202073  0.002117   \n",
       "Rating             -0.163692   -0.149594  1.000000 -0.047013 -0.154713   \n",
       "Profile             0.393123    0.202073 -0.047013  1.000000  0.145226   \n",
       "Fees                0.263214    0.002117 -0.154713  0.145226  1.000000   \n",
       "city               -0.030035    0.013503  0.071622 -0.017342 -0.041694   \n",
       "\n",
       "                   city  \n",
       "Qualification -0.030035  \n",
       "Experience     0.013503  \n",
       "Rating         0.071622  \n",
       "Profile       -0.017342  \n",
       "Fees          -0.041694  \n",
       "city           1.000000  "
      ]
     },
     "execution_count": 81,
     "metadata": {},
     "output_type": "execute_result"
    }
   ],
   "source": [
    "#Checking the correlation of the columns\n",
    "df.corr()"
   ]
  },
  {
   "cell_type": "code",
   "execution_count": 82,
   "metadata": {},
   "outputs": [
    {
     "data": {
      "text/plain": [
       "<matplotlib.axes._subplots.AxesSubplot at 0x7ca6c43370>"
      ]
     },
     "execution_count": 82,
     "metadata": {},
     "output_type": "execute_result"
    },
    {
     "data": {
      "image/png": "[encoded data removed]",
      "text/plain": [
       "<Figure size 1008x1008 with 2 Axes>"
      ]
     },
     "metadata": {
      "needs_background": "light"
     },
     "output_type": "display_data"
    }
   ],
   "source": [
    "#Visualizing the correlation\n",
    "plt.figure(figsize=(14,14))  \n",
    "sns.heatmap(df.corr(), annot=True, fmt='.0%')"
   ]
  },
  {
   "cell_type": "code",
   "execution_count": 83,
   "metadata": {},
   "outputs": [],
   "source": [
    "#Splitting the independent and target variable in x and y\n",
    "x=df.drop('Fees',axis=1)\n",
    "y=df['Fees']"
   ]
  },
  {
   "cell_type": "code",
   "execution_count": 84,
   "metadata": {},
   "outputs": [],
   "source": [
    "#Using StandardScaler to scale the data \n",
    "from sklearn.preprocessing import StandardScaler\n",
    "scale=StandardScaler()\n",
    "x=scale.fit_transform(x)"
   ]
  },
  {
   "cell_type": "markdown",
   "metadata": {},
   "source": [
    "Model Building:"
   ]
  },
  {
   "cell_type": "code",
   "execution_count": 89,
   "metadata": {},
   "outputs": [
    {
     "name": "stdout",
     "output_type": "stream",
     "text": [
      "accuracy score correspond to random state 40 is 0.1951219512195122\n",
      "accuracy score correspond to random state 40 is 0.23221544715447154\n",
      "accuracy score correspond to random state 40 is 0.1448170731707317\n",
      "accuracy score correspond to random state 40 is 0.24441056910569106\n",
      "accuracy score correspond to random state 40 is 0.23119918699186992\n",
      "accuracy score correspond to random state 41 is 0.195630081300813\n",
      "accuracy score correspond to random state 41 is 0.22205284552845528\n",
      "accuracy score correspond to random state 41 is 0.22611788617886178\n",
      "accuracy score correspond to random state 41 is 0.26371951219512196\n",
      "accuracy score correspond to random state 41 is 0.23373983739837398\n",
      "accuracy score correspond to random state 42 is 0.20833333333333334\n",
      "accuracy score correspond to random state 42 is 0.2306910569105691\n",
      "accuracy score correspond to random state 42 is 0.22205284552845528\n",
      "accuracy score correspond to random state 42 is 0.2621951219512195\n",
      "accuracy score correspond to random state 42 is 0.24085365853658536\n",
      "accuracy score correspond to random state 43 is 0.19613821138211382\n",
      "accuracy score correspond to random state 43 is 0.2383130081300813\n",
      "accuracy score correspond to random state 43 is 0.2184959349593496\n",
      "accuracy score correspond to random state 43 is 0.2571138211382114\n",
      "accuracy score correspond to random state 43 is 0.22510162601626016\n",
      "accuracy score correspond to random state 44 is 0.1991869918699187\n",
      "accuracy score correspond to random state 44 is 0.2347560975609756\n",
      "accuracy score correspond to random state 44 is 0.20376016260162602\n",
      "accuracy score correspond to random state 44 is 0.2459349593495935\n",
      "accuracy score correspond to random state 44 is 0.22865853658536586\n",
      "accuracy score correspond to random state 45 is 0.22103658536585366\n",
      "accuracy score correspond to random state 45 is 0.24847560975609756\n",
      "accuracy score correspond to random state 45 is 0.22205284552845528\n",
      "accuracy score correspond to random state 45 is 0.25101626016260165\n",
      "accuracy score correspond to random state 45 is 0.2423780487804878\n",
      "accuracy score correspond to random state 46 is 0.19969512195121952\n",
      "accuracy score correspond to random state 46 is 0.2347560975609756\n",
      "accuracy score correspond to random state 46 is 0.21544715447154472\n",
      "accuracy score correspond to random state 46 is 0.26473577235772355\n",
      "accuracy score correspond to random state 46 is 0.2342479674796748\n",
      "accuracy score correspond to random state 47 is 0.20376016260162602\n",
      "accuracy score correspond to random state 47 is 0.241869918699187\n",
      "accuracy score correspond to random state 47 is 0.22002032520325204\n",
      "accuracy score correspond to random state 47 is 0.25863821138211385\n",
      "accuracy score correspond to random state 47 is 0.23221544715447154\n",
      "accuracy score correspond to random state 48 is 0.21138211382113822\n",
      "accuracy score correspond to random state 48 is 0.24288617886178862\n",
      "accuracy score correspond to random state 48 is 0.22052845528455284\n",
      "accuracy score correspond to random state 48 is 0.2571138211382114\n",
      "accuracy score correspond to random state 48 is 0.23323170731707318\n",
      "accuracy score correspond to random state 49 is 0.21036585365853658\n",
      "accuracy score correspond to random state 49 is 0.22357723577235772\n",
      "accuracy score correspond to random state 49 is 0.22052845528455284\n",
      "accuracy score correspond to random state 49 is 0.25609756097560976\n",
      "accuracy score correspond to random state 49 is 0.241869918699187\n",
      "accuracy score correspond to random state 50 is 0.21392276422764228\n",
      "accuracy score correspond to random state 50 is 0.23272357723577236\n",
      "accuracy score correspond to random state 50 is 0.2225609756097561\n",
      "accuracy score correspond to random state 50 is 0.2545731707317073\n",
      "accuracy score correspond to random state 50 is 0.24695121951219512\n",
      "accuracy score correspond to random state 51 is 0.20884146341463414\n",
      "accuracy score correspond to random state 51 is 0.22560975609756098\n",
      "accuracy score correspond to random state 51 is 0.2149390243902439\n",
      "accuracy score correspond to random state 51 is 0.25152439024390244\n",
      "accuracy score correspond to random state 51 is 0.23221544715447154\n",
      "accuracy score correspond to random state 52 is 0.21138211382113822\n",
      "accuracy score correspond to random state 52 is 0.23983739837398374\n",
      "accuracy score correspond to random state 52 is 0.20426829268292682\n",
      "accuracy score correspond to random state 52 is 0.2576219512195122\n",
      "accuracy score correspond to random state 52 is 0.22815040650406504\n",
      "accuracy score correspond to random state 53 is 0.20528455284552846\n",
      "accuracy score correspond to random state 53 is 0.24542682926829268\n",
      "accuracy score correspond to random state 53 is 0.22052845528455284\n",
      "accuracy score correspond to random state 53 is 0.2693089430894309\n",
      "accuracy score correspond to random state 53 is 0.23119918699186992\n",
      "accuracy score correspond to random state 54 is 0.1875\n",
      "accuracy score correspond to random state 54 is 0.22815040650406504\n",
      "accuracy score correspond to random state 54 is 0.2073170731707317\n",
      "accuracy score correspond to random state 54 is 0.24796747967479674\n",
      "accuracy score correspond to random state 54 is 0.23932926829268292\n",
      "accuracy score correspond to random state 55 is 0.20884146341463414\n",
      "accuracy score correspond to random state 55 is 0.23272357723577236\n",
      "accuracy score correspond to random state 55 is 0.22815040650406504\n",
      "accuracy score correspond to random state 55 is 0.2535569105691057\n",
      "accuracy score correspond to random state 55 is 0.22865853658536586\n",
      "accuracy score correspond to random state 56 is 0.2184959349593496\n",
      "accuracy score correspond to random state 56 is 0.22560975609756098\n",
      "accuracy score correspond to random state 56 is 0.20020325203252032\n",
      "accuracy score correspond to random state 56 is 0.25152439024390244\n",
      "accuracy score correspond to random state 56 is 0.23373983739837398\n",
      "accuracy score correspond to random state 57 is 0.20528455284552846\n",
      "accuracy score correspond to random state 57 is 0.23373983739837398\n",
      "accuracy score correspond to random state 57 is 0.21697154471544716\n",
      "accuracy score correspond to random state 57 is 0.25203252032520324\n",
      "accuracy score correspond to random state 57 is 0.24136178861788618\n",
      "accuracy score correspond to random state 58 is 0.21189024390243902\n",
      "accuracy score correspond to random state 58 is 0.23882113821138212\n",
      "accuracy score correspond to random state 58 is 0.22154471544715448\n",
      "accuracy score correspond to random state 58 is 0.25660569105691056\n",
      "accuracy score correspond to random state 58 is 0.22967479674796748\n",
      "accuracy score correspond to random state 59 is 0.19664634146341464\n",
      "accuracy score correspond to random state 59 is 0.24695121951219512\n",
      "accuracy score correspond to random state 59 is 0.21747967479674796\n",
      "accuracy score correspond to random state 59 is 0.2545731707317073\n",
      "accuracy score correspond to random state 59 is 0.22560975609756098\n",
      "accuracy score correspond to random state 60 is 0.20376016260162602\n",
      "accuracy score correspond to random state 60 is 0.22459349593495934\n",
      "accuracy score correspond to random state 60 is 0.2306910569105691\n",
      "accuracy score correspond to random state 60 is 0.2652439024390244\n",
      "accuracy score correspond to random state 60 is 0.23678861788617886\n",
      "accuracy score correspond to random state 61 is 0.21138211382113822\n",
      "accuracy score correspond to random state 61 is 0.241869918699187\n",
      "accuracy score correspond to random state 61 is 0.20985772357723578\n",
      "accuracy score correspond to random state 61 is 0.2550813008130081\n",
      "accuracy score correspond to random state 61 is 0.24695121951219512\n",
      "accuracy score correspond to random state 62 is 0.195630081300813\n",
      "accuracy score correspond to random state 62 is 0.22408536585365854\n",
      "accuracy score correspond to random state 62 is 0.20630081300813008\n",
      "accuracy score correspond to random state 62 is 0.2347560975609756\n",
      "accuracy score correspond to random state 62 is 0.22967479674796748\n",
      "accuracy score correspond to random state 63 is 0.20630081300813008\n",
      "accuracy score correspond to random state 63 is 0.23526422764227642\n",
      "accuracy score correspond to random state 63 is 0.21392276422764228\n",
      "accuracy score correspond to random state 63 is 0.2530487804878049\n",
      "accuracy score correspond to random state 63 is 0.23170731707317074\n",
      "accuracy score correspond to random state 64 is 0.21036585365853658\n",
      "accuracy score correspond to random state 64 is 0.24339430894308944\n",
      "accuracy score correspond to random state 64 is 0.21341463414634146\n",
      "accuracy score correspond to random state 64 is 0.24542682926829268\n",
      "accuracy score correspond to random state 64 is 0.23119918699186992\n",
      "accuracy score correspond to random state 65 is 0.21798780487804878\n",
      "accuracy score correspond to random state 65 is 0.23628048780487804\n",
      "accuracy score correspond to random state 65 is 0.22459349593495934\n",
      "accuracy score correspond to random state 65 is 0.25558943089430897\n",
      "accuracy score correspond to random state 65 is 0.2423780487804878\n",
      "accuracy score correspond to random state 66 is 0.21747967479674796\n",
      "accuracy score correspond to random state 66 is 0.2540650406504065\n",
      "accuracy score correspond to random state 66 is 0.22916666666666666\n",
      "accuracy score correspond to random state 66 is 0.26371951219512196\n",
      "accuracy score correspond to random state 66 is 0.22865853658536586\n",
      "accuracy score correspond to random state 67 is 0.20833333333333334\n",
      "accuracy score correspond to random state 67 is 0.22865853658536586\n",
      "accuracy score correspond to random state 67 is 0.21595528455284552\n",
      "accuracy score correspond to random state 67 is 0.2525406504065041\n",
      "accuracy score correspond to random state 67 is 0.23729674796747968\n",
      "accuracy score correspond to random state 68 is 0.20223577235772358\n",
      "accuracy score correspond to random state 68 is 0.23577235772357724\n",
      "accuracy score correspond to random state 68 is 0.22154471544715448\n",
      "accuracy score correspond to random state 68 is 0.24441056910569106\n",
      "accuracy score correspond to random state 68 is 0.23272357723577236\n",
      "accuracy score correspond to random state 69 is 0.20985772357723578\n",
      "accuracy score correspond to random state 69 is 0.22510162601626016\n",
      "accuracy score correspond to random state 69 is 0.2190040650406504\n",
      "accuracy score correspond to random state 69 is 0.27134146341463417\n",
      "accuracy score correspond to random state 69 is 0.24695121951219512\n",
      "accuracy score correspond to random state 70 is 0.195630081300813\n",
      "accuracy score correspond to random state 70 is 0.21290650406504066\n",
      "accuracy score correspond to random state 70 is 0.20985772357723578\n",
      "accuracy score correspond to random state 70 is 0.25609756097560976\n",
      "accuracy score correspond to random state 70 is 0.23221544715447154\n",
      "accuracy score correspond to random state 71 is 0.21392276422764228\n",
      "accuracy score correspond to random state 71 is 0.2301829268292683\n",
      "accuracy score correspond to random state 71 is 0.21341463414634146\n",
      "accuracy score correspond to random state 71 is 0.2627032520325203\n",
      "accuracy score correspond to random state 71 is 0.24288617886178862\n",
      "accuracy score correspond to random state 72 is 0.20782520325203252\n",
      "accuracy score correspond to random state 72 is 0.2464430894308943\n",
      "accuracy score correspond to random state 72 is 0.20630081300813008\n",
      "accuracy score correspond to random state 72 is 0.2464430894308943\n",
      "accuracy score correspond to random state 72 is 0.23628048780487804\n",
      "accuracy score correspond to random state 73 is 0.1951219512195122\n",
      "accuracy score correspond to random state 73 is 0.23882113821138212\n",
      "accuracy score correspond to random state 73 is 0.21392276422764228\n",
      "accuracy score correspond to random state 73 is 0.2601626016260163\n",
      "accuracy score correspond to random state 73 is 0.23323170731707318\n",
      "accuracy score correspond to random state 74 is 0.20223577235772358\n",
      "accuracy score correspond to random state 74 is 0.24339430894308944\n",
      "accuracy score correspond to random state 74 is 0.2190040650406504\n",
      "accuracy score correspond to random state 74 is 0.25914634146341464\n",
      "accuracy score correspond to random state 74 is 0.21951219512195122\n",
      "accuracy score correspond to random state 75 is 0.21544715447154472\n",
      "accuracy score correspond to random state 75 is 0.24390243902439024\n",
      "accuracy score correspond to random state 75 is 0.20528455284552846\n",
      "accuracy score correspond to random state 75 is 0.26676829268292684\n",
      "accuracy score correspond to random state 75 is 0.241869918699187\n",
      "accuracy score correspond to random state 76 is 0.22154471544715448\n",
      "accuracy score correspond to random state 76 is 0.25101626016260165\n",
      "accuracy score correspond to random state 76 is 0.22205284552845528\n",
      "accuracy score correspond to random state 76 is 0.2632113821138211\n",
      "accuracy score correspond to random state 76 is 0.2530487804878049\n",
      "accuracy score correspond to random state 77 is 0.20426829268292682\n",
      "accuracy score correspond to random state 77 is 0.21798780487804878\n",
      "accuracy score correspond to random state 77 is 0.20477642276422764\n",
      "accuracy score correspond to random state 77 is 0.2540650406504065\n",
      "accuracy score correspond to random state 77 is 0.22560975609756098\n",
      "accuracy score correspond to random state 78 is 0.20528455284552846\n",
      "accuracy score correspond to random state 78 is 0.24898373983739838\n",
      "accuracy score correspond to random state 78 is 0.21595528455284552\n",
      "accuracy score correspond to random state 78 is 0.2545731707317073\n",
      "accuracy score correspond to random state 78 is 0.24745934959349594\n",
      "accuracy score correspond to random state 79 is 0.20071138211382114\n",
      "accuracy score correspond to random state 79 is 0.22967479674796748\n",
      "accuracy score correspond to random state 79 is 0.21595528455284552\n",
      "accuracy score correspond to random state 79 is 0.2459349593495935\n",
      "accuracy score correspond to random state 79 is 0.22408536585365854\n",
      "accuracy score correspond to random state 80 is 0.21239837398373984\n",
      "accuracy score correspond to random state 80 is 0.22510162601626016\n",
      "accuracy score correspond to random state 80 is 0.22459349593495934\n",
      "accuracy score correspond to random state 80 is 0.2571138211382114\n",
      "accuracy score correspond to random state 80 is 0.2306910569105691\n",
      "accuracy score correspond to random state 81 is 0.20376016260162602\n",
      "accuracy score correspond to random state 81 is 0.23119918699186992\n",
      "accuracy score correspond to random state 81 is 0.2068089430894309\n",
      "accuracy score correspond to random state 81 is 0.2535569105691057\n",
      "accuracy score correspond to random state 81 is 0.21646341463414634\n",
      "accuracy score correspond to random state 82 is 0.20579268292682926\n",
      "accuracy score correspond to random state 82 is 0.23119918699186992\n",
      "accuracy score correspond to random state 82 is 0.21747967479674796\n",
      "accuracy score correspond to random state 82 is 0.27235772357723576\n",
      "accuracy score correspond to random state 82 is 0.23932926829268292\n",
      "accuracy score correspond to random state 83 is 0.19715447154471544\n",
      "accuracy score correspond to random state 83 is 0.2347560975609756\n",
      "accuracy score correspond to random state 83 is 0.20630081300813008\n",
      "accuracy score correspond to random state 83 is 0.24542682926829268\n",
      "accuracy score correspond to random state 83 is 0.23526422764227642\n",
      "accuracy score correspond to random state 84 is 0.2149390243902439\n",
      "accuracy score correspond to random state 84 is 0.2347560975609756\n",
      "accuracy score correspond to random state 84 is 0.21747967479674796\n",
      "accuracy score correspond to random state 84 is 0.2601626016260163\n",
      "accuracy score correspond to random state 84 is 0.2459349593495935\n",
      "accuracy score correspond to random state 85 is 0.21443089430894308\n",
      "accuracy score correspond to random state 85 is 0.23577235772357724\n",
      "accuracy score correspond to random state 85 is 0.22052845528455284\n",
      "accuracy score correspond to random state 85 is 0.25558943089430897\n",
      "accuracy score correspond to random state 85 is 0.23678861788617886\n",
      "accuracy score correspond to random state 86 is 0.21951219512195122\n",
      "accuracy score correspond to random state 86 is 0.23323170731707318\n",
      "accuracy score correspond to random state 86 is 0.21646341463414634\n",
      "accuracy score correspond to random state 86 is 0.26371951219512196\n",
      "accuracy score correspond to random state 86 is 0.24339430894308944\n",
      "accuracy score correspond to random state 87 is 0.20985772357723578\n",
      "accuracy score correspond to random state 87 is 0.24491869918699186\n",
      "accuracy score correspond to random state 87 is 0.21239837398373984\n",
      "accuracy score correspond to random state 87 is 0.2688008130081301\n",
      "accuracy score correspond to random state 87 is 0.23628048780487804\n",
      "accuracy score correspond to random state 88 is 0.21798780487804878\n",
      "accuracy score correspond to random state 88 is 0.23729674796747968\n",
      "accuracy score correspond to random state 88 is 0.21697154471544716\n",
      "accuracy score correspond to random state 88 is 0.2525406504065041\n",
      "accuracy score correspond to random state 88 is 0.23221544715447154\n",
      "accuracy score correspond to random state 89 is 0.20223577235772358\n",
      "accuracy score correspond to random state 89 is 0.23323170731707318\n",
      "accuracy score correspond to random state 89 is 0.2108739837398374\n",
      "accuracy score correspond to random state 89 is 0.23983739837398374\n",
      "accuracy score correspond to random state 89 is 0.22560975609756098\n",
      "\n",
      "\n",
      "\n",
      "\n",
      "max accuracy score correspond to random state 82 is 0.27235772357723576 and model is SVC()\n"
     ]
    }
   ],
   "source": [
    "#Using multiple Algorithms for calculating the best algo which suits best for our data set\n",
    "model=[DecisionTreeClassifier(),KNeighborsClassifier(),AdaBoostClassifier(),SVC(),RandomForestClassifier()]\n",
    "max_accuracy_score=0\n",
    "for r_state in range(40,90):\n",
    "    train_x,test_x,train_y,test_y=train_test_split(x,y,random_state=r_state,test_size=0.33)\n",
    "    for i in model:\n",
    "        i.fit(train_x,train_y)\n",
    "        pre=i.predict(test_x)\n",
    "        acc_sc=accuracy_score(test_y,pre)\n",
    "        print('accuracy score correspond to random state',r_state,'is',acc_sc)\n",
    "        if acc_sc>max_accuracy_score:\n",
    "            max_accuracy_score=acc_sc\n",
    "            final_state=r_state\n",
    "            final_model=i\n",
    "print()\n",
    "print()\n",
    "print()\n",
    "print()\n",
    "print('max accuracy score correspond to random state',final_state,'is',max_accuracy_score,'and model is',final_model)"
   ]
  },
  {
   "cell_type": "markdown",
   "metadata": {},
   "source": [
    "Above I am using for loop which helps me to provide the accuracy score at each random state and for the best state where accuracy score is maximum has come as output value."
   ]
  },
  {
   "cell_type": "code",
   "execution_count": 129,
   "metadata": {},
   "outputs": [
    {
     "name": "stdout",
     "output_type": "stream",
     "text": [
      "0.27235772357723576\n",
      "[[0 0 0 ... 0 0 0]\n",
      " [0 0 0 ... 0 0 0]\n",
      " [0 0 0 ... 0 0 0]\n",
      " ...\n",
      " [0 0 0 ... 0 0 0]\n",
      " [0 0 0 ... 0 0 0]\n",
      " [0 0 0 ... 0 0 0]]\n",
      "              precision    recall  f1-score   support\n",
      "\n",
      "          10       0.00      0.00      0.00         1\n",
      "          20       0.00      0.00      0.00         1\n",
      "          30       0.00      0.00      0.00         2\n",
      "          40       0.00      0.00      0.00         1\n",
      "          50       0.00      0.00      0.00        20\n",
      "          60       0.00      0.00      0.00         4\n",
      "          70       0.00      0.00      0.00        10\n",
      "          80       0.00      0.00      0.00         7\n",
      "         100       0.31      0.66      0.42       437\n",
      "         130       0.00      0.00      0.00         1\n",
      "         150       0.00      0.00      0.00        85\n",
      "         200       0.27      0.28      0.28       310\n",
      "         220       0.00      0.00      0.00         1\n",
      "         230       0.00      0.00      0.00         1\n",
      "         250       0.00      0.00      0.00        90\n",
      "         260       0.00      0.00      0.00         1\n",
      "         300       0.17      0.12      0.14       285\n",
      "         350       0.00      0.00      0.00        42\n",
      "         380       0.00      0.00      0.00         1\n",
      "         400       0.31      0.05      0.09       146\n",
      "         430       0.00      0.00      0.00         1\n",
      "         450       0.00      0.00      0.00        22\n",
      "         500       0.25      0.38      0.30       313\n",
      "         550       0.00      0.00      0.00         3\n",
      "         600       0.00      0.00      0.00        71\n",
      "         630       0.00      0.00      0.00         1\n",
      "         650       0.00      0.00      0.00         8\n",
      "         700       0.00      0.00      0.00        46\n",
      "         750       0.00      0.00      0.00        10\n",
      "         800       0.00      0.00      0.00        40\n",
      "         900       0.00      0.00      0.00         6\n",
      "         950       0.00      0.00      0.00         1\n",
      "\n",
      "    accuracy                           0.27      1968\n",
      "   macro avg       0.04      0.05      0.04      1968\n",
      "weighted avg       0.20      0.27      0.21      1968\n",
      "\n"
     ]
    }
   ],
   "source": [
    "train_x,test_x,train_y,test_y=train_test_split(x,y,random_state=82,test_size=0.33)\n",
    "sv=SVC()\n",
    "sv.fit(train_x,train_y)\n",
    "sv.score(train_x,train_y)\n",
    "pred=sv.predict(test_x)\n",
    "print(accuracy_score(test_y,pred))\n",
    "print(confusion_matrix(test_y,pred))\n",
    "print(classification_report(test_y,pred))"
   ]
  },
  {
   "cell_type": "code",
   "execution_count": 130,
   "metadata": {},
   "outputs": [
    {
     "name": "stdout",
     "output_type": "stream",
     "text": [
      "0.2596878041371085\n"
     ]
    }
   ],
   "source": [
    "#Cross Validation\n",
    "from sklearn.model_selection import cross_val_score\n",
    "scr=cross_val_score(sv,x,y,cv=5)\n",
    "print(scr.mean())"
   ]
  },
  {
   "cell_type": "markdown",
   "metadata": {},
   "source": [
    "The actual accuracy of the model is 26%.\n",
    "\n",
    "Now we will do hyperparameter tuning of the model using GridSearchCV."
   ]
  },
  {
   "cell_type": "code",
   "execution_count": 131,
   "metadata": {},
   "outputs": [
    {
     "name": "stdout",
     "output_type": "stream",
     "text": [
      "{'C': 10, 'kernel': 'rbf'}\n",
      "0.2674038153209156\n"
     ]
    }
   ],
   "source": [
    "#Creating parameters list to pass in GridSearchCV\n",
    "from sklearn.model_selection import GridSearchCV\n",
    "from sklearn.model_selection import KFold\n",
    "sv=SVC()\n",
    "parameters={\"kernel\":['linear','rbf'],\"C\":[1,10]}\n",
    "kf=KFold(n_splits=5)\n",
    "gs=GridSearchCV(sv,parameters,cv=kf)\n",
    "gs.fit(x,y)\n",
    "print(gs.best_params_)\n",
    "print(gs.best_score_)"
   ]
  },
  {
   "cell_type": "code",
   "execution_count": 162,
   "metadata": {},
   "outputs": [
    {
     "data": {
      "text/plain": [
       "SVC(C=10)"
      ]
     },
     "execution_count": 162,
     "metadata": {},
     "output_type": "execute_result"
    }
   ],
   "source": [
    "from sklearn.svm import SVR\n",
    "sv=SVC(kernel='rbf',C=10)\n",
    "sv.fit(train_x,train_y)"
   ]
  },
  {
   "cell_type": "markdown",
   "metadata": {},
   "source": [
    "Accuracy of the model is increased by 1% after GridSearchCV and the accuracy is 27%."
   ]
  },
  {
   "cell_type": "code",
   "execution_count": 163,
   "metadata": {},
   "outputs": [],
   "source": [
    "import pickle\n",
    "filename='dr_consultation.pkl'\n",
    "pickle.dump(sv,open(filename,'wb'))"
   ]
  },
  {
   "cell_type": "markdown",
   "metadata": {},
   "source": [
    "# Using the test dataset"
   ]
  },
  {
   "cell_type": "code",
   "execution_count": 164,
   "metadata": {},
   "outputs": [],
   "source": [
    "#Loading the test data\n",
    "test_df=pd.read_excel('Final_Test.xlsx')"
   ]
  },
  {
   "cell_type": "code",
   "execution_count": 165,
   "metadata": {},
   "outputs": [
    {
     "data": {
      "text/html": [
       "<div>\n",
       "<style scoped>\n",
       "    .dataframe tbody tr th:only-of-type {\n",
       "        vertical-align: middle;\n",
       "    }\n",
       "\n",
       "    .dataframe tbody tr th {\n",
       "        vertical-align: top;\n",
       "    }\n",
       "\n",
       "    .dataframe thead th {\n",
       "        text-align: right;\n",
       "    }\n",
       "</style>\n",
       "<table border=\"1\" class=\"dataframe\">\n",
       "  <thead>\n",
       "    <tr style=\"text-align: right;\">\n",
       "      <th></th>\n",
       "      <th>Qualification</th>\n",
       "      <th>Experience</th>\n",
       "      <th>Rating</th>\n",
       "      <th>Place</th>\n",
       "      <th>Profile</th>\n",
       "      <th>Miscellaneous_Info</th>\n",
       "    </tr>\n",
       "  </thead>\n",
       "  <tbody>\n",
       "    <tr>\n",
       "      <th>0</th>\n",
       "      <td>MBBS</td>\n",
       "      <td>35 years experience</td>\n",
       "      <td>NaN</td>\n",
       "      <td>Ghatkopar East, Mumbai</td>\n",
       "      <td>General Medicine</td>\n",
       "      <td>NaN</td>\n",
       "    </tr>\n",
       "    <tr>\n",
       "      <th>1</th>\n",
       "      <td>MBBS, Diploma in Otorhinolaryngology (DLO)</td>\n",
       "      <td>31 years experience</td>\n",
       "      <td>NaN</td>\n",
       "      <td>West Marredpally, Hyderabad</td>\n",
       "      <td>ENT Specialist</td>\n",
       "      <td>NaN</td>\n",
       "    </tr>\n",
       "    <tr>\n",
       "      <th>2</th>\n",
       "      <td>MBBS, DDVL</td>\n",
       "      <td>40 years experience</td>\n",
       "      <td>70%</td>\n",
       "      <td>KK Nagar, Chennai</td>\n",
       "      <td>Dermatologists</td>\n",
       "      <td>70% 4 Feedback KK Nagar, Chennai</td>\n",
       "    </tr>\n",
       "    <tr>\n",
       "      <th>3</th>\n",
       "      <td>BAMS</td>\n",
       "      <td>0 years experience</td>\n",
       "      <td>NaN</td>\n",
       "      <td>New Ashok Nagar, Delhi</td>\n",
       "      <td>Ayurveda</td>\n",
       "      <td>NaN</td>\n",
       "    </tr>\n",
       "    <tr>\n",
       "      <th>4</th>\n",
       "      <td>BDS, MDS - Conservative Dentistry &amp; Endodontics</td>\n",
       "      <td>16 years experience</td>\n",
       "      <td>100%</td>\n",
       "      <td>Kanakpura Road, Bangalore</td>\n",
       "      <td>Dentist</td>\n",
       "      <td>General Dentistry Conservative Dentistry Cosme...</td>\n",
       "    </tr>\n",
       "  </tbody>\n",
       "</table>\n",
       "</div>"
      ],
      "text/plain": [
       "                                     Qualification           Experience  \\\n",
       "0                                             MBBS  35 years experience   \n",
       "1       MBBS, Diploma in Otorhinolaryngology (DLO)  31 years experience   \n",
       "2                                       MBBS, DDVL  40 years experience   \n",
       "3                                             BAMS   0 years experience   \n",
       "4  BDS, MDS - Conservative Dentistry & Endodontics  16 years experience   \n",
       "\n",
       "  Rating                        Place           Profile  \\\n",
       "0    NaN       Ghatkopar East, Mumbai  General Medicine   \n",
       "1    NaN  West Marredpally, Hyderabad    ENT Specialist   \n",
       "2    70%            KK Nagar, Chennai    Dermatologists   \n",
       "3    NaN       New Ashok Nagar, Delhi          Ayurveda   \n",
       "4   100%    Kanakpura Road, Bangalore           Dentist   \n",
       "\n",
       "                                  Miscellaneous_Info  \n",
       "0                                                NaN  \n",
       "1                                                NaN  \n",
       "2                   70% 4 Feedback KK Nagar, Chennai  \n",
       "3                                                NaN  \n",
       "4  General Dentistry Conservative Dentistry Cosme...  "
      ]
     },
     "execution_count": 165,
     "metadata": {},
     "output_type": "execute_result"
    }
   ],
   "source": [
    "test_df.head()"
   ]
  },
  {
   "cell_type": "code",
   "execution_count": 166,
   "metadata": {},
   "outputs": [
    {
     "data": {
      "text/plain": [
       "Index(['Qualification', 'Experience', 'Rating', 'Place', 'Profile',\n",
       "       'Miscellaneous_Info'],\n",
       "      dtype='object')"
      ]
     },
     "execution_count": 166,
     "metadata": {},
     "output_type": "execute_result"
    }
   ],
   "source": [
    "test_df.columns"
   ]
  },
  {
   "cell_type": "code",
   "execution_count": 167,
   "metadata": {},
   "outputs": [
    {
     "data": {
      "text/plain": [
       "(1987, 6)"
      ]
     },
     "execution_count": 167,
     "metadata": {},
     "output_type": "execute_result"
    }
   ],
   "source": [
    "test_df.shape"
   ]
  },
  {
   "cell_type": "code",
   "execution_count": 168,
   "metadata": {},
   "outputs": [
    {
     "data": {
      "text/plain": [
       "Qualification         object\n",
       "Experience            object\n",
       "Rating                object\n",
       "Place                 object\n",
       "Profile               object\n",
       "Miscellaneous_Info    object\n",
       "dtype: object"
      ]
     },
     "execution_count": 168,
     "metadata": {},
     "output_type": "execute_result"
    }
   ],
   "source": [
    "#Checking the datatypes of the test dataset \n",
    "test_df.dtypes"
   ]
  },
  {
   "cell_type": "code",
   "execution_count": 169,
   "metadata": {},
   "outputs": [
    {
     "data": {
      "text/plain": [
       "Qualification            0\n",
       "Experience               0\n",
       "Rating                1090\n",
       "Place                    6\n",
       "Profile                  0\n",
       "Miscellaneous_Info     834\n",
       "dtype: int64"
      ]
     },
     "execution_count": 169,
     "metadata": {},
     "output_type": "execute_result"
    }
   ],
   "source": [
    "#Checking for null values\n",
    "test_df.isnull().sum()"
   ]
  },
  {
   "cell_type": "markdown",
   "metadata": {},
   "source": [
    "Null values are present in three columns('Rating','Place' and 'Miscellaneous_Info')\n",
    "\n",
    "EDA:"
   ]
  },
  {
   "cell_type": "code",
   "execution_count": 170,
   "metadata": {},
   "outputs": [],
   "source": [
    "# Extract Experience Year from Experience column and convert to Numeric\n",
    "test_df['Experience'] =test_df['Experience'].str.split().str[0]\n",
    "test_df['Experience'] =test_df['Experience'].astype(int)"
   ]
  },
  {
   "cell_type": "code",
   "execution_count": 171,
   "metadata": {},
   "outputs": [
    {
     "data": {
      "text/html": [
       "<div>\n",
       "<style scoped>\n",
       "    .dataframe tbody tr th:only-of-type {\n",
       "        vertical-align: middle;\n",
       "    }\n",
       "\n",
       "    .dataframe tbody tr th {\n",
       "        vertical-align: top;\n",
       "    }\n",
       "\n",
       "    .dataframe thead th {\n",
       "        text-align: right;\n",
       "    }\n",
       "</style>\n",
       "<table border=\"1\" class=\"dataframe\">\n",
       "  <thead>\n",
       "    <tr style=\"text-align: right;\">\n",
       "      <th></th>\n",
       "      <th>Qualification</th>\n",
       "      <th>Experience</th>\n",
       "      <th>Rating</th>\n",
       "      <th>Place</th>\n",
       "      <th>Profile</th>\n",
       "      <th>Miscellaneous_Info</th>\n",
       "    </tr>\n",
       "  </thead>\n",
       "  <tbody>\n",
       "    <tr>\n",
       "      <th>0</th>\n",
       "      <td>MBBS</td>\n",
       "      <td>35</td>\n",
       "      <td>NaN</td>\n",
       "      <td>Ghatkopar East, Mumbai</td>\n",
       "      <td>General Medicine</td>\n",
       "      <td>NaN</td>\n",
       "    </tr>\n",
       "    <tr>\n",
       "      <th>1</th>\n",
       "      <td>MBBS, Diploma in Otorhinolaryngology (DLO)</td>\n",
       "      <td>31</td>\n",
       "      <td>NaN</td>\n",
       "      <td>West Marredpally, Hyderabad</td>\n",
       "      <td>ENT Specialist</td>\n",
       "      <td>NaN</td>\n",
       "    </tr>\n",
       "    <tr>\n",
       "      <th>2</th>\n",
       "      <td>MBBS, DDVL</td>\n",
       "      <td>40</td>\n",
       "      <td>70%</td>\n",
       "      <td>KK Nagar, Chennai</td>\n",
       "      <td>Dermatologists</td>\n",
       "      <td>70% 4 Feedback KK Nagar, Chennai</td>\n",
       "    </tr>\n",
       "    <tr>\n",
       "      <th>3</th>\n",
       "      <td>BAMS</td>\n",
       "      <td>0</td>\n",
       "      <td>NaN</td>\n",
       "      <td>New Ashok Nagar, Delhi</td>\n",
       "      <td>Ayurveda</td>\n",
       "      <td>NaN</td>\n",
       "    </tr>\n",
       "    <tr>\n",
       "      <th>4</th>\n",
       "      <td>BDS, MDS - Conservative Dentistry &amp; Endodontics</td>\n",
       "      <td>16</td>\n",
       "      <td>100%</td>\n",
       "      <td>Kanakpura Road, Bangalore</td>\n",
       "      <td>Dentist</td>\n",
       "      <td>General Dentistry Conservative Dentistry Cosme...</td>\n",
       "    </tr>\n",
       "  </tbody>\n",
       "</table>\n",
       "</div>"
      ],
      "text/plain": [
       "                                     Qualification  Experience Rating  \\\n",
       "0                                             MBBS          35    NaN   \n",
       "1       MBBS, Diploma in Otorhinolaryngology (DLO)          31    NaN   \n",
       "2                                       MBBS, DDVL          40    70%   \n",
       "3                                             BAMS           0    NaN   \n",
       "4  BDS, MDS - Conservative Dentistry & Endodontics          16   100%   \n",
       "\n",
       "                         Place           Profile  \\\n",
       "0       Ghatkopar East, Mumbai  General Medicine   \n",
       "1  West Marredpally, Hyderabad    ENT Specialist   \n",
       "2            KK Nagar, Chennai    Dermatologists   \n",
       "3       New Ashok Nagar, Delhi          Ayurveda   \n",
       "4    Kanakpura Road, Bangalore           Dentist   \n",
       "\n",
       "                                  Miscellaneous_Info  \n",
       "0                                                NaN  \n",
       "1                                                NaN  \n",
       "2                   70% 4 Feedback KK Nagar, Chennai  \n",
       "3                                                NaN  \n",
       "4  General Dentistry Conservative Dentistry Cosme...  "
      ]
     },
     "execution_count": 171,
     "metadata": {},
     "output_type": "execute_result"
    }
   ],
   "source": [
    "test_df.head()"
   ]
  },
  {
   "cell_type": "code",
   "execution_count": 172,
   "metadata": {},
   "outputs": [],
   "source": [
    "#Dividing the 'Place' column into locality and city\n",
    "test_df.Place.fillna('Unknown,Unknown',inplace=True)\n",
    "test_df['locality'] =test_df['Place'].str.split(\",\").str[0]\n",
    "test_df['city'] =test_df['Place'].str.split(\",\").str[1]\n",
    "\n",
    "#Now we can drop the place variable\n",
    "test_df.drop('Place',axis=1,inplace=True)"
   ]
  },
  {
   "cell_type": "code",
   "execution_count": 173,
   "metadata": {},
   "outputs": [
    {
     "data": {
      "text/html": [
       "<div>\n",
       "<style scoped>\n",
       "    .dataframe tbody tr th:only-of-type {\n",
       "        vertical-align: middle;\n",
       "    }\n",
       "\n",
       "    .dataframe tbody tr th {\n",
       "        vertical-align: top;\n",
       "    }\n",
       "\n",
       "    .dataframe thead th {\n",
       "        text-align: right;\n",
       "    }\n",
       "</style>\n",
       "<table border=\"1\" class=\"dataframe\">\n",
       "  <thead>\n",
       "    <tr style=\"text-align: right;\">\n",
       "      <th></th>\n",
       "      <th>Qualification</th>\n",
       "      <th>Experience</th>\n",
       "      <th>Rating</th>\n",
       "      <th>Profile</th>\n",
       "      <th>Miscellaneous_Info</th>\n",
       "      <th>locality</th>\n",
       "      <th>city</th>\n",
       "    </tr>\n",
       "  </thead>\n",
       "  <tbody>\n",
       "    <tr>\n",
       "      <th>0</th>\n",
       "      <td>MBBS</td>\n",
       "      <td>35</td>\n",
       "      <td>NaN</td>\n",
       "      <td>General Medicine</td>\n",
       "      <td>NaN</td>\n",
       "      <td>Ghatkopar East</td>\n",
       "      <td>Mumbai</td>\n",
       "    </tr>\n",
       "    <tr>\n",
       "      <th>1</th>\n",
       "      <td>MBBS, Diploma in Otorhinolaryngology (DLO)</td>\n",
       "      <td>31</td>\n",
       "      <td>NaN</td>\n",
       "      <td>ENT Specialist</td>\n",
       "      <td>NaN</td>\n",
       "      <td>West Marredpally</td>\n",
       "      <td>Hyderabad</td>\n",
       "    </tr>\n",
       "    <tr>\n",
       "      <th>2</th>\n",
       "      <td>MBBS, DDVL</td>\n",
       "      <td>40</td>\n",
       "      <td>70%</td>\n",
       "      <td>Dermatologists</td>\n",
       "      <td>70% 4 Feedback KK Nagar, Chennai</td>\n",
       "      <td>KK Nagar</td>\n",
       "      <td>Chennai</td>\n",
       "    </tr>\n",
       "    <tr>\n",
       "      <th>3</th>\n",
       "      <td>BAMS</td>\n",
       "      <td>0</td>\n",
       "      <td>NaN</td>\n",
       "      <td>Ayurveda</td>\n",
       "      <td>NaN</td>\n",
       "      <td>New Ashok Nagar</td>\n",
       "      <td>Delhi</td>\n",
       "    </tr>\n",
       "    <tr>\n",
       "      <th>4</th>\n",
       "      <td>BDS, MDS - Conservative Dentistry &amp; Endodontics</td>\n",
       "      <td>16</td>\n",
       "      <td>100%</td>\n",
       "      <td>Dentist</td>\n",
       "      <td>General Dentistry Conservative Dentistry Cosme...</td>\n",
       "      <td>Kanakpura Road</td>\n",
       "      <td>Bangalore</td>\n",
       "    </tr>\n",
       "  </tbody>\n",
       "</table>\n",
       "</div>"
      ],
      "text/plain": [
       "                                     Qualification  Experience Rating  \\\n",
       "0                                             MBBS          35    NaN   \n",
       "1       MBBS, Diploma in Otorhinolaryngology (DLO)          31    NaN   \n",
       "2                                       MBBS, DDVL          40    70%   \n",
       "3                                             BAMS           0    NaN   \n",
       "4  BDS, MDS - Conservative Dentistry & Endodontics          16   100%   \n",
       "\n",
       "            Profile                                 Miscellaneous_Info  \\\n",
       "0  General Medicine                                                NaN   \n",
       "1    ENT Specialist                                                NaN   \n",
       "2    Dermatologists                   70% 4 Feedback KK Nagar, Chennai   \n",
       "3          Ayurveda                                                NaN   \n",
       "4           Dentist  General Dentistry Conservative Dentistry Cosme...   \n",
       "\n",
       "           locality        city  \n",
       "0    Ghatkopar East      Mumbai  \n",
       "1  West Marredpally   Hyderabad  \n",
       "2          KK Nagar     Chennai  \n",
       "3   New Ashok Nagar       Delhi  \n",
       "4    Kanakpura Road   Bangalore  "
      ]
     },
     "execution_count": 173,
     "metadata": {},
     "output_type": "execute_result"
    }
   ],
   "source": [
    "test_df.head()"
   ]
  },
  {
   "cell_type": "code",
   "execution_count": 174,
   "metadata": {},
   "outputs": [
    {
     "data": {
      "text/plain": [
       "Qualification            0\n",
       "Experience               0\n",
       "Rating                1090\n",
       "Profile                  0\n",
       "Miscellaneous_Info     834\n",
       "locality                 0\n",
       "city                     0\n",
       "dtype: int64"
      ]
     },
     "execution_count": 174,
     "metadata": {},
     "output_type": "execute_result"
    }
   ],
   "source": [
    "#Checking the null values after removing 'Place' variable \n",
    "test_df.isnull().sum()"
   ]
  },
  {
   "cell_type": "code",
   "execution_count": 175,
   "metadata": {},
   "outputs": [
    {
     "data": {
      "text/plain": [
       " Bangalore             420\n",
       " Delhi                 417\n",
       " Mumbai                389\n",
       " Hyderabad             333\n",
       " Chennai               287\n",
       " Coimbatore             70\n",
       " Ernakulam              48\n",
       " Thiruvananthapuram     17\n",
       "Unknown                  6\n",
       "Name: city, dtype: int64"
      ]
     },
     "execution_count": 175,
     "metadata": {},
     "output_type": "execute_result"
    }
   ],
   "source": [
    "test_df['city'].value_counts()"
   ]
  },
  {
   "cell_type": "code",
   "execution_count": 176,
   "metadata": {},
   "outputs": [],
   "source": [
    "#Removing null values from 'Rating' column and convert the string type into integer\n",
    "imp=SimpleImputer(strategy='most_frequent')\n",
    "test_df['Rating']=imp.fit_transform(test_df['Rating'].values.reshape(-1,1))\n",
    "test_df['Rating'] =test_df['Rating'].str.slice(stop=-1).astype(int)"
   ]
  },
  {
   "cell_type": "code",
   "execution_count": 177,
   "metadata": {},
   "outputs": [
    {
     "data": {
      "text/html": [
       "<div>\n",
       "<style scoped>\n",
       "    .dataframe tbody tr th:only-of-type {\n",
       "        vertical-align: middle;\n",
       "    }\n",
       "\n",
       "    .dataframe tbody tr th {\n",
       "        vertical-align: top;\n",
       "    }\n",
       "\n",
       "    .dataframe thead th {\n",
       "        text-align: right;\n",
       "    }\n",
       "</style>\n",
       "<table border=\"1\" class=\"dataframe\">\n",
       "  <thead>\n",
       "    <tr style=\"text-align: right;\">\n",
       "      <th></th>\n",
       "      <th>Qualification</th>\n",
       "      <th>Experience</th>\n",
       "      <th>Rating</th>\n",
       "      <th>Profile</th>\n",
       "      <th>Miscellaneous_Info</th>\n",
       "      <th>locality</th>\n",
       "      <th>city</th>\n",
       "    </tr>\n",
       "  </thead>\n",
       "  <tbody>\n",
       "    <tr>\n",
       "      <th>0</th>\n",
       "      <td>MBBS</td>\n",
       "      <td>35</td>\n",
       "      <td>100</td>\n",
       "      <td>General Medicine</td>\n",
       "      <td>NaN</td>\n",
       "      <td>Ghatkopar East</td>\n",
       "      <td>Mumbai</td>\n",
       "    </tr>\n",
       "    <tr>\n",
       "      <th>1</th>\n",
       "      <td>MBBS, Diploma in Otorhinolaryngology (DLO)</td>\n",
       "      <td>31</td>\n",
       "      <td>100</td>\n",
       "      <td>ENT Specialist</td>\n",
       "      <td>NaN</td>\n",
       "      <td>West Marredpally</td>\n",
       "      <td>Hyderabad</td>\n",
       "    </tr>\n",
       "    <tr>\n",
       "      <th>2</th>\n",
       "      <td>MBBS, DDVL</td>\n",
       "      <td>40</td>\n",
       "      <td>70</td>\n",
       "      <td>Dermatologists</td>\n",
       "      <td>70% 4 Feedback KK Nagar, Chennai</td>\n",
       "      <td>KK Nagar</td>\n",
       "      <td>Chennai</td>\n",
       "    </tr>\n",
       "    <tr>\n",
       "      <th>3</th>\n",
       "      <td>BAMS</td>\n",
       "      <td>0</td>\n",
       "      <td>100</td>\n",
       "      <td>Ayurveda</td>\n",
       "      <td>NaN</td>\n",
       "      <td>New Ashok Nagar</td>\n",
       "      <td>Delhi</td>\n",
       "    </tr>\n",
       "    <tr>\n",
       "      <th>4</th>\n",
       "      <td>BDS, MDS - Conservative Dentistry &amp; Endodontics</td>\n",
       "      <td>16</td>\n",
       "      <td>100</td>\n",
       "      <td>Dentist</td>\n",
       "      <td>General Dentistry Conservative Dentistry Cosme...</td>\n",
       "      <td>Kanakpura Road</td>\n",
       "      <td>Bangalore</td>\n",
       "    </tr>\n",
       "  </tbody>\n",
       "</table>\n",
       "</div>"
      ],
      "text/plain": [
       "                                     Qualification  Experience  Rating  \\\n",
       "0                                             MBBS          35     100   \n",
       "1       MBBS, Diploma in Otorhinolaryngology (DLO)          31     100   \n",
       "2                                       MBBS, DDVL          40      70   \n",
       "3                                             BAMS           0     100   \n",
       "4  BDS, MDS - Conservative Dentistry & Endodontics          16     100   \n",
       "\n",
       "            Profile                                 Miscellaneous_Info  \\\n",
       "0  General Medicine                                                NaN   \n",
       "1    ENT Specialist                                                NaN   \n",
       "2    Dermatologists                   70% 4 Feedback KK Nagar, Chennai   \n",
       "3          Ayurveda                                                NaN   \n",
       "4           Dentist  General Dentistry Conservative Dentistry Cosme...   \n",
       "\n",
       "           locality        city  \n",
       "0    Ghatkopar East      Mumbai  \n",
       "1  West Marredpally   Hyderabad  \n",
       "2          KK Nagar     Chennai  \n",
       "3   New Ashok Nagar       Delhi  \n",
       "4    Kanakpura Road   Bangalore  "
      ]
     },
     "execution_count": 177,
     "metadata": {},
     "output_type": "execute_result"
    }
   ],
   "source": [
    "test_df.head()"
   ]
  },
  {
   "cell_type": "code",
   "execution_count": 178,
   "metadata": {},
   "outputs": [
    {
     "data": {
      "text/plain": [
       "Qualification           0\n",
       "Experience              0\n",
       "Rating                  0\n",
       "Profile                 0\n",
       "Miscellaneous_Info    834\n",
       "locality                0\n",
       "city                    0\n",
       "dtype: int64"
      ]
     },
     "execution_count": 178,
     "metadata": {},
     "output_type": "execute_result"
    }
   ],
   "source": [
    "test_df.isnull().sum()"
   ]
  },
  {
   "cell_type": "markdown",
   "metadata": {},
   "source": [
    "Miscellaneous_Info & locality\n",
    "\n",
    "Miscellaneous_Info is to much messy column and it consist the data which we already have like doctor address(city & locality) and Rating.locality and city are approximate have same relationship so better to move with only city,so dropping the Miscellaneous_Info and locality"
   ]
  },
  {
   "cell_type": "code",
   "execution_count": 179,
   "metadata": {},
   "outputs": [],
   "source": [
    "test_df.drop(['Miscellaneous_Info','locality'],axis=1,inplace=True)"
   ]
  },
  {
   "cell_type": "code",
   "execution_count": 180,
   "metadata": {},
   "outputs": [
    {
     "data": {
      "text/html": [
       "<div>\n",
       "<style scoped>\n",
       "    .dataframe tbody tr th:only-of-type {\n",
       "        vertical-align: middle;\n",
       "    }\n",
       "\n",
       "    .dataframe tbody tr th {\n",
       "        vertical-align: top;\n",
       "    }\n",
       "\n",
       "    .dataframe thead th {\n",
       "        text-align: right;\n",
       "    }\n",
       "</style>\n",
       "<table border=\"1\" class=\"dataframe\">\n",
       "  <thead>\n",
       "    <tr style=\"text-align: right;\">\n",
       "      <th></th>\n",
       "      <th>Qualification</th>\n",
       "      <th>Experience</th>\n",
       "      <th>Rating</th>\n",
       "      <th>Profile</th>\n",
       "      <th>city</th>\n",
       "    </tr>\n",
       "  </thead>\n",
       "  <tbody>\n",
       "    <tr>\n",
       "      <th>0</th>\n",
       "      <td>MBBS</td>\n",
       "      <td>35</td>\n",
       "      <td>100</td>\n",
       "      <td>General Medicine</td>\n",
       "      <td>Mumbai</td>\n",
       "    </tr>\n",
       "    <tr>\n",
       "      <th>1</th>\n",
       "      <td>MBBS, Diploma in Otorhinolaryngology (DLO)</td>\n",
       "      <td>31</td>\n",
       "      <td>100</td>\n",
       "      <td>ENT Specialist</td>\n",
       "      <td>Hyderabad</td>\n",
       "    </tr>\n",
       "    <tr>\n",
       "      <th>2</th>\n",
       "      <td>MBBS, DDVL</td>\n",
       "      <td>40</td>\n",
       "      <td>70</td>\n",
       "      <td>Dermatologists</td>\n",
       "      <td>Chennai</td>\n",
       "    </tr>\n",
       "    <tr>\n",
       "      <th>3</th>\n",
       "      <td>BAMS</td>\n",
       "      <td>0</td>\n",
       "      <td>100</td>\n",
       "      <td>Ayurveda</td>\n",
       "      <td>Delhi</td>\n",
       "    </tr>\n",
       "    <tr>\n",
       "      <th>4</th>\n",
       "      <td>BDS, MDS - Conservative Dentistry &amp; Endodontics</td>\n",
       "      <td>16</td>\n",
       "      <td>100</td>\n",
       "      <td>Dentist</td>\n",
       "      <td>Bangalore</td>\n",
       "    </tr>\n",
       "  </tbody>\n",
       "</table>\n",
       "</div>"
      ],
      "text/plain": [
       "                                     Qualification  Experience  Rating  \\\n",
       "0                                             MBBS          35     100   \n",
       "1       MBBS, Diploma in Otorhinolaryngology (DLO)          31     100   \n",
       "2                                       MBBS, DDVL          40      70   \n",
       "3                                             BAMS           0     100   \n",
       "4  BDS, MDS - Conservative Dentistry & Endodontics          16     100   \n",
       "\n",
       "            Profile        city  \n",
       "0  General Medicine      Mumbai  \n",
       "1    ENT Specialist   Hyderabad  \n",
       "2    Dermatologists     Chennai  \n",
       "3          Ayurveda       Delhi  \n",
       "4           Dentist   Bangalore  "
      ]
     },
     "execution_count": 180,
     "metadata": {},
     "output_type": "execute_result"
    }
   ],
   "source": [
    "test_df.head()"
   ]
  },
  {
   "cell_type": "code",
   "execution_count": 181,
   "metadata": {},
   "outputs": [
    {
     "data": {
      "text/plain": [
       "General Medicine    444\n",
       "Dentist             441\n",
       "Dermatologists      339\n",
       "Homeopath           277\n",
       "Ayurveda            251\n",
       "ENT Specialist      235\n",
       "Name: Profile, dtype: int64"
      ]
     },
     "execution_count": 181,
     "metadata": {},
     "output_type": "execute_result"
    }
   ],
   "source": [
    "test_df['Profile'].value_counts()"
   ]
  },
  {
   "cell_type": "markdown",
   "metadata": {},
   "source": [
    "Qualification\n",
    "\n",
    "We are going to check which degrees the doctors have and then treat them as several features."
   ]
  },
  {
   "cell_type": "code",
   "execution_count": 182,
   "metadata": {},
   "outputs": [
    {
     "data": {
      "text/plain": [
       "BAMS                                                     153\n",
       "BHMS                                                     150\n",
       "BDS                                                      144\n",
       "MBBS                                                     107\n",
       "MBBS, MD - Dermatology                                    64\n",
       "MBBS, MS - ENT                                            60\n",
       "MBBS, MD - Dermatology , Venereology & Leprosy            53\n",
       "MBBS, MD - General Medicine                               50\n",
       "MBBS, DDVL                                                31\n",
       "MBBS, Diploma in Otorhinolaryngology (DLO)                30\n",
       "BHMS, MD - Homeopathy                                     27\n",
       "BAMS, MD - Ayurveda Medicine                              24\n",
       "MBBS, MD - Medicine                                       21\n",
       "BDS, MDS - Conservative Dentistry & Endodontics           21\n",
       "BDS, MDS - Oral & Maxillofacial Surgery                   19\n",
       "MBBS, MS - Otorhinolaryngology                            17\n",
       "BDS, MDS - Prosthodontics                                 15\n",
       "MBBS, DDV                                                 15\n",
       "MD - Dermatology , Venereology & Leprosy, MBBS            14\n",
       "BDS, MDS                                                  14\n",
       "BDS, PhD - Orthodontics & Dentofacial Orthopaedics        13\n",
       "BDS, MDS - Orthodontics                                   13\n",
       "BDS, MDS - Periodontology and Oral Implantology           12\n",
       "MBBS, DNB - General Medicine                              11\n",
       "MD - Homeopathy, BHMS                                     11\n",
       "MBBS, MD - Internal Medicine                              11\n",
       "BDS, MDS - Paedodontics And Preventive Dentistry          11\n",
       "BDS, MDS - Prosthodontist And Crown Bridge                10\n",
       "MBBS, Diploma in Otorhinolaryngology (DLO), DNB - ENT     10\n",
       "MS - ENT, MBBS                                            10\n",
       "Name: Qualification, dtype: int64"
      ]
     },
     "execution_count": 182,
     "metadata": {},
     "output_type": "execute_result"
    }
   ],
   "source": [
    "test_df['Qualification'].value_counts()[:30]"
   ]
  },
  {
   "cell_type": "code",
   "execution_count": 183,
   "metadata": {},
   "outputs": [],
   "source": [
    "#Encoding the object columns\n",
    "from sklearn.preprocessing import LabelEncoder\n",
    "test_df['Qualification']=LabelEncoder().fit_transform(test_df['Qualification'])\n",
    "test_df['Profile']=LabelEncoder().fit_transform(test_df['Profile'])\n",
    "test_df['city']=LabelEncoder().fit_transform(test_df['city'])"
   ]
  },
  {
   "cell_type": "code",
   "execution_count": 184,
   "metadata": {},
   "outputs": [
    {
     "data": {
      "text/html": [
       "<div>\n",
       "<style scoped>\n",
       "    .dataframe tbody tr th:only-of-type {\n",
       "        vertical-align: middle;\n",
       "    }\n",
       "\n",
       "    .dataframe tbody tr th {\n",
       "        vertical-align: top;\n",
       "    }\n",
       "\n",
       "    .dataframe thead th {\n",
       "        text-align: right;\n",
       "    }\n",
       "</style>\n",
       "<table border=\"1\" class=\"dataframe\">\n",
       "  <thead>\n",
       "    <tr style=\"text-align: right;\">\n",
       "      <th></th>\n",
       "      <th>Qualification</th>\n",
       "      <th>Experience</th>\n",
       "      <th>Rating</th>\n",
       "      <th>Profile</th>\n",
       "      <th>city</th>\n",
       "    </tr>\n",
       "  </thead>\n",
       "  <tbody>\n",
       "    <tr>\n",
       "      <th>0</th>\n",
       "      <td>241</td>\n",
       "      <td>35</td>\n",
       "      <td>100</td>\n",
       "      <td>4</td>\n",
       "      <td>6</td>\n",
       "    </tr>\n",
       "    <tr>\n",
       "      <th>1</th>\n",
       "      <td>340</td>\n",
       "      <td>31</td>\n",
       "      <td>100</td>\n",
       "      <td>3</td>\n",
       "      <td>5</td>\n",
       "    </tr>\n",
       "    <tr>\n",
       "      <th>2</th>\n",
       "      <td>258</td>\n",
       "      <td>40</td>\n",
       "      <td>70</td>\n",
       "      <td>2</td>\n",
       "      <td>1</td>\n",
       "    </tr>\n",
       "    <tr>\n",
       "      <th>3</th>\n",
       "      <td>6</td>\n",
       "      <td>0</td>\n",
       "      <td>100</td>\n",
       "      <td>0</td>\n",
       "      <td>3</td>\n",
       "    </tr>\n",
       "    <tr>\n",
       "      <th>4</th>\n",
       "      <td>79</td>\n",
       "      <td>16</td>\n",
       "      <td>100</td>\n",
       "      <td>1</td>\n",
       "      <td>0</td>\n",
       "    </tr>\n",
       "  </tbody>\n",
       "</table>\n",
       "</div>"
      ],
      "text/plain": [
       "   Qualification  Experience  Rating  Profile  city\n",
       "0            241          35     100        4     6\n",
       "1            340          31     100        3     5\n",
       "2            258          40      70        2     1\n",
       "3              6           0     100        0     3\n",
       "4             79          16     100        1     0"
      ]
     },
     "execution_count": 184,
     "metadata": {},
     "output_type": "execute_result"
    }
   ],
   "source": [
    "test_df.head()"
   ]
  },
  {
   "cell_type": "code",
   "execution_count": 185,
   "metadata": {},
   "outputs": [
    {
     "data": {
      "text/plain": [
       "array([[<matplotlib.axes._subplots.AxesSubplot object at 0x0000007CA93502E0>,\n",
       "        <matplotlib.axes._subplots.AxesSubplot object at 0x0000007CA97D3640>,\n",
       "        <matplotlib.axes._subplots.AxesSubplot object at 0x0000007CA94ABA90>,\n",
       "        <matplotlib.axes._subplots.AxesSubplot object at 0x0000007CA9786E20>],\n",
       "       [<matplotlib.axes._subplots.AxesSubplot object at 0x0000007CA98075E0>,\n",
       "        <matplotlib.axes._subplots.AxesSubplot object at 0x0000007CA9821DC0>,\n",
       "        <matplotlib.axes._subplots.AxesSubplot object at 0x0000007CA9821D90>,\n",
       "        <matplotlib.axes._subplots.AxesSubplot object at 0x0000007CA9853610>],\n",
       "       [<matplotlib.axes._subplots.AxesSubplot object at 0x0000007CA98A6550>,\n",
       "        <matplotlib.axes._subplots.AxesSubplot object at 0x0000007CA98CFCD0>,\n",
       "        <matplotlib.axes._subplots.AxesSubplot object at 0x0000007CA9905490>,\n",
       "        <matplotlib.axes._subplots.AxesSubplot object at 0x0000007CA992FC10>],\n",
       "       [<matplotlib.axes._subplots.AxesSubplot object at 0x0000007CA99633D0>,\n",
       "        <matplotlib.axes._subplots.AxesSubplot object at 0x0000007CA998EB50>,\n",
       "        <matplotlib.axes._subplots.AxesSubplot object at 0x0000007CA99C1310>,\n",
       "        <matplotlib.axes._subplots.AxesSubplot object at 0x0000007CA99EBA90>]],\n",
       "      dtype=object)"
      ]
     },
     "execution_count": 185,
     "metadata": {},
     "output_type": "execute_result"
    },
    {
     "data": {
      "image/png": "[encoded data removed]",
      "text/plain": [
       "<Figure size 1440x1440 with 16 Axes>"
      ]
     },
     "metadata": {
      "needs_background": "light"
     },
     "output_type": "display_data"
    }
   ],
   "source": [
    "#Data Visualization\n",
    "test_df.hist(figsize=(20,20),grid=True,layout=(4,4),bins=30)"
   ]
  },
  {
   "cell_type": "code",
   "execution_count": 186,
   "metadata": {},
   "outputs": [
    {
     "data": {
      "text/html": [
       "<div>\n",
       "<style scoped>\n",
       "    .dataframe tbody tr th:only-of-type {\n",
       "        vertical-align: middle;\n",
       "    }\n",
       "\n",
       "    .dataframe tbody tr th {\n",
       "        vertical-align: top;\n",
       "    }\n",
       "\n",
       "    .dataframe thead th {\n",
       "        text-align: right;\n",
       "    }\n",
       "</style>\n",
       "<table border=\"1\" class=\"dataframe\">\n",
       "  <thead>\n",
       "    <tr style=\"text-align: right;\">\n",
       "      <th></th>\n",
       "      <th>Qualification</th>\n",
       "      <th>Experience</th>\n",
       "      <th>Rating</th>\n",
       "      <th>Profile</th>\n",
       "      <th>city</th>\n",
       "    </tr>\n",
       "  </thead>\n",
       "  <tbody>\n",
       "    <tr>\n",
       "      <th>count</th>\n",
       "      <td>1987.000000</td>\n",
       "      <td>1987.000000</td>\n",
       "      <td>1987.000000</td>\n",
       "      <td>1987.000000</td>\n",
       "      <td>1987.000000</td>\n",
       "    </tr>\n",
       "    <tr>\n",
       "      <th>mean</th>\n",
       "      <td>259.979869</td>\n",
       "      <td>17.874685</td>\n",
       "      <td>97.490689</td>\n",
       "      <td>2.508807</td>\n",
       "      <td>3.037745</td>\n",
       "    </tr>\n",
       "    <tr>\n",
       "      <th>std</th>\n",
       "      <td>185.961177</td>\n",
       "      <td>11.366764</td>\n",
       "      <td>5.793117</td>\n",
       "      <td>1.654223</td>\n",
       "      <td>2.277143</td>\n",
       "    </tr>\n",
       "    <tr>\n",
       "      <th>min</th>\n",
       "      <td>0.000000</td>\n",
       "      <td>0.000000</td>\n",
       "      <td>52.000000</td>\n",
       "      <td>0.000000</td>\n",
       "      <td>0.000000</td>\n",
       "    </tr>\n",
       "    <tr>\n",
       "      <th>25%</th>\n",
       "      <td>93.000000</td>\n",
       "      <td>9.000000</td>\n",
       "      <td>98.000000</td>\n",
       "      <td>1.000000</td>\n",
       "      <td>1.000000</td>\n",
       "    </tr>\n",
       "    <tr>\n",
       "      <th>50%</th>\n",
       "      <td>241.000000</td>\n",
       "      <td>15.000000</td>\n",
       "      <td>100.000000</td>\n",
       "      <td>2.000000</td>\n",
       "      <td>3.000000</td>\n",
       "    </tr>\n",
       "    <tr>\n",
       "      <th>75%</th>\n",
       "      <td>417.000000</td>\n",
       "      <td>24.000000</td>\n",
       "      <td>100.000000</td>\n",
       "      <td>4.000000</td>\n",
       "      <td>5.000000</td>\n",
       "    </tr>\n",
       "    <tr>\n",
       "      <th>max</th>\n",
       "      <td>629.000000</td>\n",
       "      <td>65.000000</td>\n",
       "      <td>100.000000</td>\n",
       "      <td>5.000000</td>\n",
       "      <td>8.000000</td>\n",
       "    </tr>\n",
       "  </tbody>\n",
       "</table>\n",
       "</div>"
      ],
      "text/plain": [
       "       Qualification   Experience       Rating      Profile         city\n",
       "count    1987.000000  1987.000000  1987.000000  1987.000000  1987.000000\n",
       "mean      259.979869    17.874685    97.490689     2.508807     3.037745\n",
       "std       185.961177    11.366764     5.793117     1.654223     2.277143\n",
       "min         0.000000     0.000000    52.000000     0.000000     0.000000\n",
       "25%        93.000000     9.000000    98.000000     1.000000     1.000000\n",
       "50%       241.000000    15.000000   100.000000     2.000000     3.000000\n",
       "75%       417.000000    24.000000   100.000000     4.000000     5.000000\n",
       "max       629.000000    65.000000   100.000000     5.000000     8.000000"
      ]
     },
     "execution_count": 186,
     "metadata": {},
     "output_type": "execute_result"
    }
   ],
   "source": [
    "#Describe the dataset\n",
    "test_df.describe()    #Statistical summary of the dataset"
   ]
  },
  {
   "cell_type": "code",
   "execution_count": 187,
   "metadata": {},
   "outputs": [
    {
     "data": {
      "text/plain": [
       "<matplotlib.axes._subplots.AxesSubplot at 0x7ca9a5a490>"
      ]
     },
     "execution_count": 187,
     "metadata": {},
     "output_type": "execute_result"
    },
    {
     "data": {
      "image/png": "[encoded data removed]",
      "text/plain": [
       "<Figure size 1008x1008 with 2 Axes>"
      ]
     },
     "metadata": {
      "needs_background": "light"
     },
     "output_type": "display_data"
    }
   ],
   "source": [
    "#Visualizing the correlation\n",
    "plt.figure(figsize=(14,14))  \n",
    "sns.heatmap(test_df.corr(), annot=True, fmt='.0%')"
   ]
  },
  {
   "cell_type": "code",
   "execution_count": 188,
   "metadata": {},
   "outputs": [],
   "source": [
    "#Load the model\n",
    "fitted_model=pickle.load(open(\"dr_consultation.pkl\",\"rb\"))"
   ]
  },
  {
   "cell_type": "code",
   "execution_count": 189,
   "metadata": {},
   "outputs": [
    {
     "data": {
      "text/plain": [
       "SVC(C=10)"
      ]
     },
     "execution_count": 189,
     "metadata": {},
     "output_type": "execute_result"
    }
   ],
   "source": [
    "fitted_model"
   ]
  },
  {
   "cell_type": "code",
   "execution_count": 190,
   "metadata": {},
   "outputs": [],
   "source": [
    "#Prediction over test data\n",
    "predictions=fitted_model.predict(test_df)"
   ]
  },
  {
   "cell_type": "code",
   "execution_count": 191,
   "metadata": {},
   "outputs": [
    {
     "data": {
      "text/plain": [
       "array([500, 500, 500, ..., 500, 500, 500], dtype=int64)"
      ]
     },
     "execution_count": 191,
     "metadata": {},
     "output_type": "execute_result"
    }
   ],
   "source": [
    "predictions"
   ]
  },
  {
   "cell_type": "code",
   "execution_count": null,
   "metadata": {},
   "outputs": [],
   "source": []
  }
 ],
 "metadata": {
  "kernelspec": {
   "display_name": "Python 3",
   "language": "python",
   "name": "python3"
  },
  "language_info": {
   "codemirror_mode": {
    "name": "ipython",
    "version": 3
   },
   "file_extension": ".py",
   "mimetype": "text/x-python",
   "name": "python",
   "nbconvert_exporter": "python",
   "pygments_lexer": "ipython3",
   "version": "3.8.3"
  }
 },
 "nbformat": 4,
 "nbformat_minor": 4
}
