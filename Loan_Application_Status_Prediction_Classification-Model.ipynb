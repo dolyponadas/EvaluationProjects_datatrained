{
 "cells": [
  {
   "cell_type": "markdown",
   "metadata": {},
   "source": [
    "Dataset Description:\n",
    "\n",
    "The dataset includes details of applicants who have applied for loan. The dataset includes details like credit history, loan amount, their income, dependents etc.\n",
    "\n",
    "The target variable for this dataset is 'Loan_Status'.\n",
    "We have to build a model that can predict whether the loan of the applicant will be approved or not on the basis of the details provided in the dataset. "
   ]
  },
  {
   "cell_type": "code",
   "execution_count": 53,
   "metadata": {},
   "outputs": [],
   "source": [
    "#Importing the dataset\n",
    "import numpy as np\n",
    "import pandas as pd\n",
    "import seaborn as sns\n",
    "import matplotlib.pyplot as plt\n",
    "import sklearn\n",
    "from sklearn.linear_model import LogisticRegression\n",
    "from sklearn.naive_bayes import MultinomialNB,GaussianNB\n",
    "from sklearn.tree import DecisionTreeClassifier\n",
    "from sklearn.svm import SVC\n",
    "from sklearn.ensemble import RandomForestClassifier\n",
    "from sklearn.ensemble import AdaBoostClassifier\n",
    "from sklearn.ensemble import GradientBoostingClassifier\n",
    "from sklearn.neighbors import KNeighborsClassifier\n",
    "from sklearn.metrics import accuracy_score,confusion_matrix,classification_report\n",
    "from sklearn.model_selection import train_test_split\n",
    "from scipy.stats import zscore\n",
    "import warnings\n",
    "warnings.filterwarnings('ignore')"
   ]
  },
  {
   "cell_type": "code",
   "execution_count": 2,
   "metadata": {},
   "outputs": [],
   "source": [
    "#Loading the dataset\n",
    "df=pd.read_csv('loan_predict.csv')"
   ]
  },
  {
   "cell_type": "code",
   "execution_count": 3,
   "metadata": {},
   "outputs": [
    {
     "data": {
      "text/html": [
       "<div>\n",
       "<style scoped>\n",
       "    .dataframe tbody tr th:only-of-type {\n",
       "        vertical-align: middle;\n",
       "    }\n",
       "\n",
       "    .dataframe tbody tr th {\n",
       "        vertical-align: top;\n",
       "    }\n",
       "\n",
       "    .dataframe thead th {\n",
       "        text-align: right;\n",
       "    }\n",
       "</style>\n",
       "<table border=\"1\" class=\"dataframe\">\n",
       "  <thead>\n",
       "    <tr style=\"text-align: right;\">\n",
       "      <th></th>\n",
       "      <th>Loan_ID</th>\n",
       "      <th>Gender</th>\n",
       "      <th>Married</th>\n",
       "      <th>Dependents</th>\n",
       "      <th>Education</th>\n",
       "      <th>Self_Employed</th>\n",
       "      <th>ApplicantIncome</th>\n",
       "      <th>CoapplicantIncome</th>\n",
       "      <th>LoanAmount</th>\n",
       "      <th>Loan_Amount_Term</th>\n",
       "      <th>Credit_History</th>\n",
       "      <th>Property_Area</th>\n",
       "      <th>Loan_Status</th>\n",
       "    </tr>\n",
       "  </thead>\n",
       "  <tbody>\n",
       "    <tr>\n",
       "      <th>0</th>\n",
       "      <td>LP001002</td>\n",
       "      <td>Male</td>\n",
       "      <td>No</td>\n",
       "      <td>0</td>\n",
       "      <td>Graduate</td>\n",
       "      <td>No</td>\n",
       "      <td>5849</td>\n",
       "      <td>0.0</td>\n",
       "      <td>NaN</td>\n",
       "      <td>360.0</td>\n",
       "      <td>1.0</td>\n",
       "      <td>Urban</td>\n",
       "      <td>Y</td>\n",
       "    </tr>\n",
       "    <tr>\n",
       "      <th>1</th>\n",
       "      <td>LP001003</td>\n",
       "      <td>Male</td>\n",
       "      <td>Yes</td>\n",
       "      <td>1</td>\n",
       "      <td>Graduate</td>\n",
       "      <td>No</td>\n",
       "      <td>4583</td>\n",
       "      <td>1508.0</td>\n",
       "      <td>128.0</td>\n",
       "      <td>360.0</td>\n",
       "      <td>1.0</td>\n",
       "      <td>Rural</td>\n",
       "      <td>N</td>\n",
       "    </tr>\n",
       "    <tr>\n",
       "      <th>2</th>\n",
       "      <td>LP001005</td>\n",
       "      <td>Male</td>\n",
       "      <td>Yes</td>\n",
       "      <td>0</td>\n",
       "      <td>Graduate</td>\n",
       "      <td>Yes</td>\n",
       "      <td>3000</td>\n",
       "      <td>0.0</td>\n",
       "      <td>66.0</td>\n",
       "      <td>360.0</td>\n",
       "      <td>1.0</td>\n",
       "      <td>Urban</td>\n",
       "      <td>Y</td>\n",
       "    </tr>\n",
       "    <tr>\n",
       "      <th>3</th>\n",
       "      <td>LP001006</td>\n",
       "      <td>Male</td>\n",
       "      <td>Yes</td>\n",
       "      <td>0</td>\n",
       "      <td>Not Graduate</td>\n",
       "      <td>No</td>\n",
       "      <td>2583</td>\n",
       "      <td>2358.0</td>\n",
       "      <td>120.0</td>\n",
       "      <td>360.0</td>\n",
       "      <td>1.0</td>\n",
       "      <td>Urban</td>\n",
       "      <td>Y</td>\n",
       "    </tr>\n",
       "    <tr>\n",
       "      <th>4</th>\n",
       "      <td>LP001008</td>\n",
       "      <td>Male</td>\n",
       "      <td>No</td>\n",
       "      <td>0</td>\n",
       "      <td>Graduate</td>\n",
       "      <td>No</td>\n",
       "      <td>6000</td>\n",
       "      <td>0.0</td>\n",
       "      <td>141.0</td>\n",
       "      <td>360.0</td>\n",
       "      <td>1.0</td>\n",
       "      <td>Urban</td>\n",
       "      <td>Y</td>\n",
       "    </tr>\n",
       "  </tbody>\n",
       "</table>\n",
       "</div>"
      ],
      "text/plain": [
       "    Loan_ID Gender Married Dependents     Education Self_Employed  \\\n",
       "0  LP001002   Male      No          0      Graduate            No   \n",
       "1  LP001003   Male     Yes          1      Graduate            No   \n",
       "2  LP001005   Male     Yes          0      Graduate           Yes   \n",
       "3  LP001006   Male     Yes          0  Not Graduate            No   \n",
       "4  LP001008   Male      No          0      Graduate            No   \n",
       "\n",
       "   ApplicantIncome  CoapplicantIncome  LoanAmount  Loan_Amount_Term  \\\n",
       "0             5849                0.0         NaN             360.0   \n",
       "1             4583             1508.0       128.0             360.0   \n",
       "2             3000                0.0        66.0             360.0   \n",
       "3             2583             2358.0       120.0             360.0   \n",
       "4             6000                0.0       141.0             360.0   \n",
       "\n",
       "   Credit_History Property_Area Loan_Status  \n",
       "0             1.0         Urban           Y  \n",
       "1             1.0         Rural           N  \n",
       "2             1.0         Urban           Y  \n",
       "3             1.0         Urban           Y  \n",
       "4             1.0         Urban           Y  "
      ]
     },
     "execution_count": 3,
     "metadata": {},
     "output_type": "execute_result"
    }
   ],
   "source": [
    "df.head()"
   ]
  },
  {
   "cell_type": "code",
   "execution_count": 4,
   "metadata": {},
   "outputs": [
    {
     "data": {
      "text/plain": [
       "Index(['Loan_ID', 'Gender', 'Married', 'Dependents', 'Education',\n",
       "       'Self_Employed', 'ApplicantIncome', 'CoapplicantIncome', 'LoanAmount',\n",
       "       'Loan_Amount_Term', 'Credit_History', 'Property_Area', 'Loan_Status'],\n",
       "      dtype='object')"
      ]
     },
     "execution_count": 4,
     "metadata": {},
     "output_type": "execute_result"
    }
   ],
   "source": [
    "df.columns"
   ]
  },
  {
   "cell_type": "code",
   "execution_count": 5,
   "metadata": {},
   "outputs": [
    {
     "data": {
      "text/plain": [
       "(614, 13)"
      ]
     },
     "execution_count": 5,
     "metadata": {},
     "output_type": "execute_result"
    }
   ],
   "source": [
    "#Shape of the dataset\n",
    "df.shape"
   ]
  },
  {
   "cell_type": "markdown",
   "metadata": {},
   "source": [
    "Rows-614\n",
    "\n",
    "columns-13"
   ]
  },
  {
   "cell_type": "code",
   "execution_count": 6,
   "metadata": {},
   "outputs": [
    {
     "data": {
      "text/plain": [
       "Loan_ID               object\n",
       "Gender                object\n",
       "Married               object\n",
       "Dependents            object\n",
       "Education             object\n",
       "Self_Employed         object\n",
       "ApplicantIncome        int64\n",
       "CoapplicantIncome    float64\n",
       "LoanAmount           float64\n",
       "Loan_Amount_Term     float64\n",
       "Credit_History       float64\n",
       "Property_Area         object\n",
       "Loan_Status           object\n",
       "dtype: object"
      ]
     },
     "execution_count": 6,
     "metadata": {},
     "output_type": "execute_result"
    }
   ],
   "source": [
    "#Checking the datatypes\n",
    "df.dtypes    "
   ]
  },
  {
   "cell_type": "code",
   "execution_count": 7,
   "metadata": {},
   "outputs": [
    {
     "data": {
      "text/plain": [
       "Loan_ID               0\n",
       "Gender               13\n",
       "Married               3\n",
       "Dependents           15\n",
       "Education             0\n",
       "Self_Employed        32\n",
       "ApplicantIncome       0\n",
       "CoapplicantIncome     0\n",
       "LoanAmount           22\n",
       "Loan_Amount_Term     14\n",
       "Credit_History       50\n",
       "Property_Area         0\n",
       "Loan_Status           0\n",
       "dtype: int64"
      ]
     },
     "execution_count": 7,
     "metadata": {},
     "output_type": "execute_result"
    }
   ],
   "source": [
    "#Checking for null values\n",
    "df.isnull().sum()"
   ]
  },
  {
   "cell_type": "code",
   "execution_count": 10,
   "metadata": {},
   "outputs": [],
   "source": [
    "#Removing null values in the object column\n",
    "from sklearn.impute import SimpleImputer\n",
    "imp=SimpleImputer(strategy='most_frequent')\n",
    "df['Gender']=imp.fit_transform(df['Gender'].values.reshape(-1,1))\n",
    "df['Married']=imp.fit_transform(df['Married'].values.reshape(-1,1))\n",
    "df['Dependents']=imp.fit_transform(df['Dependents'].values.reshape(-1,1))\n",
    "df['Self_Employed']=imp.fit_transform(df['Self_Employed'].values.reshape(-1,1))"
   ]
  },
  {
   "cell_type": "code",
   "execution_count": 11,
   "metadata": {},
   "outputs": [],
   "source": [
    "#Removing null values from the float column\n",
    "imp=SimpleImputer(strategy='median')\n",
    "df['LoanAmount']=imp.fit_transform(df['LoanAmount'].values.reshape(-1,1))\n",
    "df['Loan_Amount_Term']=imp.fit_transform(df['Loan_Amount_Term'].values.reshape(-1,1))\n",
    "df['Credit_History']=imp.fit_transform(df['Credit_History'].values.reshape(-1,1))"
   ]
  },
  {
   "cell_type": "code",
   "execution_count": 12,
   "metadata": {},
   "outputs": [
    {
     "data": {
      "text/plain": [
       "Loan_ID              0\n",
       "Gender               0\n",
       "Married              0\n",
       "Dependents           0\n",
       "Education            0\n",
       "Self_Employed        0\n",
       "ApplicantIncome      0\n",
       "CoapplicantIncome    0\n",
       "LoanAmount           0\n",
       "Loan_Amount_Term     0\n",
       "Credit_History       0\n",
       "Property_Area        0\n",
       "Loan_Status          0\n",
       "dtype: int64"
      ]
     },
     "execution_count": 12,
     "metadata": {},
     "output_type": "execute_result"
    }
   ],
   "source": [
    "df.isnull().sum()"
   ]
  },
  {
   "cell_type": "markdown",
   "metadata": {},
   "source": [
    "Null values are removed using mode and median"
   ]
  },
  {
   "cell_type": "code",
   "execution_count": 13,
   "metadata": {},
   "outputs": [
    {
     "data": {
      "text/html": [
       "<div>\n",
       "<style scoped>\n",
       "    .dataframe tbody tr th:only-of-type {\n",
       "        vertical-align: middle;\n",
       "    }\n",
       "\n",
       "    .dataframe tbody tr th {\n",
       "        vertical-align: top;\n",
       "    }\n",
       "\n",
       "    .dataframe thead th {\n",
       "        text-align: right;\n",
       "    }\n",
       "</style>\n",
       "<table border=\"1\" class=\"dataframe\">\n",
       "  <thead>\n",
       "    <tr style=\"text-align: right;\">\n",
       "      <th></th>\n",
       "      <th>Loan_ID</th>\n",
       "      <th>Gender</th>\n",
       "      <th>Married</th>\n",
       "      <th>Dependents</th>\n",
       "      <th>Education</th>\n",
       "      <th>Self_Employed</th>\n",
       "      <th>ApplicantIncome</th>\n",
       "      <th>CoapplicantIncome</th>\n",
       "      <th>LoanAmount</th>\n",
       "      <th>Loan_Amount_Term</th>\n",
       "      <th>Credit_History</th>\n",
       "      <th>Property_Area</th>\n",
       "      <th>Loan_Status</th>\n",
       "    </tr>\n",
       "  </thead>\n",
       "  <tbody>\n",
       "    <tr>\n",
       "      <th>0</th>\n",
       "      <td>LP001002</td>\n",
       "      <td>Male</td>\n",
       "      <td>No</td>\n",
       "      <td>0</td>\n",
       "      <td>Graduate</td>\n",
       "      <td>No</td>\n",
       "      <td>5849</td>\n",
       "      <td>0.0</td>\n",
       "      <td>128.0</td>\n",
       "      <td>360.0</td>\n",
       "      <td>1.0</td>\n",
       "      <td>Urban</td>\n",
       "      <td>Y</td>\n",
       "    </tr>\n",
       "    <tr>\n",
       "      <th>1</th>\n",
       "      <td>LP001003</td>\n",
       "      <td>Male</td>\n",
       "      <td>Yes</td>\n",
       "      <td>1</td>\n",
       "      <td>Graduate</td>\n",
       "      <td>No</td>\n",
       "      <td>4583</td>\n",
       "      <td>1508.0</td>\n",
       "      <td>128.0</td>\n",
       "      <td>360.0</td>\n",
       "      <td>1.0</td>\n",
       "      <td>Rural</td>\n",
       "      <td>N</td>\n",
       "    </tr>\n",
       "    <tr>\n",
       "      <th>2</th>\n",
       "      <td>LP001005</td>\n",
       "      <td>Male</td>\n",
       "      <td>Yes</td>\n",
       "      <td>0</td>\n",
       "      <td>Graduate</td>\n",
       "      <td>Yes</td>\n",
       "      <td>3000</td>\n",
       "      <td>0.0</td>\n",
       "      <td>66.0</td>\n",
       "      <td>360.0</td>\n",
       "      <td>1.0</td>\n",
       "      <td>Urban</td>\n",
       "      <td>Y</td>\n",
       "    </tr>\n",
       "    <tr>\n",
       "      <th>3</th>\n",
       "      <td>LP001006</td>\n",
       "      <td>Male</td>\n",
       "      <td>Yes</td>\n",
       "      <td>0</td>\n",
       "      <td>Not Graduate</td>\n",
       "      <td>No</td>\n",
       "      <td>2583</td>\n",
       "      <td>2358.0</td>\n",
       "      <td>120.0</td>\n",
       "      <td>360.0</td>\n",
       "      <td>1.0</td>\n",
       "      <td>Urban</td>\n",
       "      <td>Y</td>\n",
       "    </tr>\n",
       "    <tr>\n",
       "      <th>4</th>\n",
       "      <td>LP001008</td>\n",
       "      <td>Male</td>\n",
       "      <td>No</td>\n",
       "      <td>0</td>\n",
       "      <td>Graduate</td>\n",
       "      <td>No</td>\n",
       "      <td>6000</td>\n",
       "      <td>0.0</td>\n",
       "      <td>141.0</td>\n",
       "      <td>360.0</td>\n",
       "      <td>1.0</td>\n",
       "      <td>Urban</td>\n",
       "      <td>Y</td>\n",
       "    </tr>\n",
       "  </tbody>\n",
       "</table>\n",
       "</div>"
      ],
      "text/plain": [
       "    Loan_ID Gender Married Dependents     Education Self_Employed  \\\n",
       "0  LP001002   Male      No          0      Graduate            No   \n",
       "1  LP001003   Male     Yes          1      Graduate            No   \n",
       "2  LP001005   Male     Yes          0      Graduate           Yes   \n",
       "3  LP001006   Male     Yes          0  Not Graduate            No   \n",
       "4  LP001008   Male      No          0      Graduate            No   \n",
       "\n",
       "   ApplicantIncome  CoapplicantIncome  LoanAmount  Loan_Amount_Term  \\\n",
       "0             5849                0.0       128.0             360.0   \n",
       "1             4583             1508.0       128.0             360.0   \n",
       "2             3000                0.0        66.0             360.0   \n",
       "3             2583             2358.0       120.0             360.0   \n",
       "4             6000                0.0       141.0             360.0   \n",
       "\n",
       "   Credit_History Property_Area Loan_Status  \n",
       "0             1.0         Urban           Y  \n",
       "1             1.0         Rural           N  \n",
       "2             1.0         Urban           Y  \n",
       "3             1.0         Urban           Y  \n",
       "4             1.0         Urban           Y  "
      ]
     },
     "execution_count": 13,
     "metadata": {},
     "output_type": "execute_result"
    }
   ],
   "source": [
    "df.head()"
   ]
  },
  {
   "cell_type": "code",
   "execution_count": 23,
   "metadata": {},
   "outputs": [],
   "source": [
    "#Encoding the object type columns using Label Encoder\n",
    "from sklearn.preprocessing import LabelEncoder\n",
    "df['Gender']=LabelEncoder().fit_transform(df['Gender'])\n",
    "df['Loan_ID']=LabelEncoder().fit_transform(df['Loan_ID'])\n",
    "df['Married']=LabelEncoder().fit_transform(df['Married'])\n",
    "df['Education']=LabelEncoder().fit_transform(df['Education'])\n",
    "df['Property_Area']=LabelEncoder().fit_transform(df['Property_Area'])\n",
    "df['Loan_Status']=LabelEncoder().fit_transform(df['Loan_Status'])\n",
    "df['Self_Employed']=LabelEncoder().fit_transform(df['Self_Employed'])\n",
    "df['Dependents']=LabelEncoder().fit_transform(df['Dependents'])"
   ]
  },
  {
   "cell_type": "code",
   "execution_count": 24,
   "metadata": {},
   "outputs": [
    {
     "data": {
      "text/plain": [
       "Loan_ID                int64\n",
       "Gender                 int64\n",
       "Married                int64\n",
       "Dependents             int32\n",
       "Education              int64\n",
       "Self_Employed          int64\n",
       "ApplicantIncome        int64\n",
       "CoapplicantIncome    float64\n",
       "LoanAmount           float64\n",
       "Loan_Amount_Term     float64\n",
       "Credit_History       float64\n",
       "Property_Area          int64\n",
       "Loan_Status            int64\n",
       "dtype: object"
      ]
     },
     "execution_count": 24,
     "metadata": {},
     "output_type": "execute_result"
    }
   ],
   "source": [
    "df.dtypes      #Checking the datatypes"
   ]
  },
  {
   "cell_type": "code",
   "execution_count": 25,
   "metadata": {},
   "outputs": [
    {
     "data": {
      "text/plain": [
       "0    360\n",
       "1    102\n",
       "2    101\n",
       "3     51\n",
       "Name: Dependents, dtype: int64"
      ]
     },
     "execution_count": 25,
     "metadata": {},
     "output_type": "execute_result"
    }
   ],
   "source": [
    "df['Dependents'].value_counts()"
   ]
  },
  {
   "cell_type": "code",
   "execution_count": 27,
   "metadata": {},
   "outputs": [
    {
     "data": {
      "text/plain": [
       "array([[<matplotlib.axes._subplots.AxesSubplot object at 0x0000007487EDF880>,\n",
       "        <matplotlib.axes._subplots.AxesSubplot object at 0x00000074881C7F70>,\n",
       "        <matplotlib.axes._subplots.AxesSubplot object at 0x00000074881FA400>,\n",
       "        <matplotlib.axes._subplots.AxesSubplot object at 0x0000007488E66850>],\n",
       "       [<matplotlib.axes._subplots.AxesSubplot object at 0x0000007488E93CD0>,\n",
       "        <matplotlib.axes._subplots.AxesSubplot object at 0x0000007488ECC0A0>,\n",
       "        <matplotlib.axes._subplots.AxesSubplot object at 0x0000007488ECC190>,\n",
       "        <matplotlib.axes._subplots.AxesSubplot object at 0x0000007488EF8640>],\n",
       "       [<matplotlib.axes._subplots.AxesSubplot object at 0x0000007488F52E50>,\n",
       "        <matplotlib.axes._subplots.AxesSubplot object at 0x0000007488F8B2E0>,\n",
       "        <matplotlib.axes._subplots.AxesSubplot object at 0x0000007488FBA220>,\n",
       "        <matplotlib.axes._subplots.AxesSubplot object at 0x0000007488FE39A0>],\n",
       "       [<matplotlib.axes._subplots.AxesSubplot object at 0x0000007489019160>,\n",
       "        <matplotlib.axes._subplots.AxesSubplot object at 0x0000007489041820>,\n",
       "        <matplotlib.axes._subplots.AxesSubplot object at 0x000000748906B190>,\n",
       "        <matplotlib.axes._subplots.AxesSubplot object at 0x0000007489093940>]],\n",
       "      dtype=object)"
      ]
     },
     "execution_count": 27,
     "metadata": {},
     "output_type": "execute_result"
    },
    {
     "data": {
      "image/png": "[encoded data removed]",
      "text/plain": [
       "<Figure size 1440x1440 with 16 Axes>"
      ]
     },
     "metadata": {
      "needs_background": "light"
     },
     "output_type": "display_data"
    }
   ],
   "source": [
    "#Data Visualization\n",
    "df.hist(figsize=(20,20),grid=True,layout=(4,4),bins=30)"
   ]
  },
  {
   "cell_type": "code",
   "execution_count": 28,
   "metadata": {},
   "outputs": [
    {
     "data": {
      "text/plain": [
       "<matplotlib.axes._subplots.AxesSubplot at 0x7488ed3a60>"
      ]
     },
     "execution_count": 28,
     "metadata": {},
     "output_type": "execute_result"
    },
    {
     "data": {
      "image/png": "[encoded data removed]",
      "text/plain": [
       "<Figure size 432x288 with 1 Axes>"
      ]
     },
     "metadata": {
      "needs_background": "light"
     },
     "output_type": "display_data"
    }
   ],
   "source": [
    "sns.barplot(x='Gender',y='Loan_Status',data=df)"
   ]
  },
  {
   "cell_type": "code",
   "execution_count": 29,
   "metadata": {},
   "outputs": [
    {
     "data": {
      "text/plain": [
       "<matplotlib.axes._subplots.AxesSubplot at 0x74885aa040>"
      ]
     },
     "execution_count": 29,
     "metadata": {},
     "output_type": "execute_result"
    },
    {
     "data": {
      "image/png": "[encoded data removed]",
      "text/plain": [
       "<Figure size 432x288 with 1 Axes>"
      ]
     },
     "metadata": {
      "needs_background": "light"
     },
     "output_type": "display_data"
    }
   ],
   "source": [
    "sns.barplot(x='Dependents',y='Loan_Status',data=df)"
   ]
  },
  {
   "cell_type": "code",
   "execution_count": 30,
   "metadata": {},
   "outputs": [
    {
     "data": {
      "text/plain": [
       "<matplotlib.axes._subplots.AxesSubplot at 0x7488628910>"
      ]
     },
     "execution_count": 30,
     "metadata": {},
     "output_type": "execute_result"
    },
    {
     "data": {
      "image/png": "[encoded data removed]",
      "text/plain": [
       "<Figure size 432x288 with 1 Axes>"
      ]
     },
     "metadata": {
      "needs_background": "light"
     },
     "output_type": "display_data"
    }
   ],
   "source": [
    "sns.barplot(x='Education',y='Loan_Status',data=df)"
   ]
  },
  {
   "cell_type": "code",
   "execution_count": 32,
   "metadata": {},
   "outputs": [
    {
     "data": {
      "text/plain": [
       "<matplotlib.axes._subplots.AxesSubplot at 0x7487b8aee0>"
      ]
     },
     "execution_count": 32,
     "metadata": {},
     "output_type": "execute_result"
    },
    {
     "data": {
      "image/png": "[encoded data removed]",
      "text/plain": [
       "<Figure size 432x288 with 1 Axes>"
      ]
     },
     "metadata": {
      "needs_background": "light"
     },
     "output_type": "display_data"
    }
   ],
   "source": [
    "sns.barplot(x='Self_Employed',y='Loan_Status',data=df)"
   ]
  },
  {
   "cell_type": "code",
   "execution_count": 34,
   "metadata": {},
   "outputs": [
    {
     "data": {
      "text/html": [
       "<div>\n",
       "<style scoped>\n",
       "    .dataframe tbody tr th:only-of-type {\n",
       "        vertical-align: middle;\n",
       "    }\n",
       "\n",
       "    .dataframe tbody tr th {\n",
       "        vertical-align: top;\n",
       "    }\n",
       "\n",
       "    .dataframe thead th {\n",
       "        text-align: right;\n",
       "    }\n",
       "</style>\n",
       "<table border=\"1\" class=\"dataframe\">\n",
       "  <thead>\n",
       "    <tr style=\"text-align: right;\">\n",
       "      <th></th>\n",
       "      <th>count</th>\n",
       "      <th>mean</th>\n",
       "      <th>std</th>\n",
       "      <th>min</th>\n",
       "      <th>25%</th>\n",
       "      <th>50%</th>\n",
       "      <th>75%</th>\n",
       "      <th>max</th>\n",
       "    </tr>\n",
       "  </thead>\n",
       "  <tbody>\n",
       "    <tr>\n",
       "      <th>Loan_ID</th>\n",
       "      <td>614.0</td>\n",
       "      <td>306.500000</td>\n",
       "      <td>177.390811</td>\n",
       "      <td>0.0</td>\n",
       "      <td>153.25</td>\n",
       "      <td>306.5</td>\n",
       "      <td>459.75</td>\n",
       "      <td>613.0</td>\n",
       "    </tr>\n",
       "    <tr>\n",
       "      <th>Gender</th>\n",
       "      <td>614.0</td>\n",
       "      <td>0.817590</td>\n",
       "      <td>0.386497</td>\n",
       "      <td>0.0</td>\n",
       "      <td>1.00</td>\n",
       "      <td>1.0</td>\n",
       "      <td>1.00</td>\n",
       "      <td>1.0</td>\n",
       "    </tr>\n",
       "    <tr>\n",
       "      <th>Married</th>\n",
       "      <td>614.0</td>\n",
       "      <td>0.653094</td>\n",
       "      <td>0.476373</td>\n",
       "      <td>0.0</td>\n",
       "      <td>0.00</td>\n",
       "      <td>1.0</td>\n",
       "      <td>1.00</td>\n",
       "      <td>1.0</td>\n",
       "    </tr>\n",
       "    <tr>\n",
       "      <th>Dependents</th>\n",
       "      <td>614.0</td>\n",
       "      <td>0.744300</td>\n",
       "      <td>1.009623</td>\n",
       "      <td>0.0</td>\n",
       "      <td>0.00</td>\n",
       "      <td>0.0</td>\n",
       "      <td>1.00</td>\n",
       "      <td>3.0</td>\n",
       "    </tr>\n",
       "    <tr>\n",
       "      <th>Education</th>\n",
       "      <td>614.0</td>\n",
       "      <td>0.218241</td>\n",
       "      <td>0.413389</td>\n",
       "      <td>0.0</td>\n",
       "      <td>0.00</td>\n",
       "      <td>0.0</td>\n",
       "      <td>0.00</td>\n",
       "      <td>1.0</td>\n",
       "    </tr>\n",
       "    <tr>\n",
       "      <th>Self_Employed</th>\n",
       "      <td>614.0</td>\n",
       "      <td>0.133550</td>\n",
       "      <td>0.340446</td>\n",
       "      <td>0.0</td>\n",
       "      <td>0.00</td>\n",
       "      <td>0.0</td>\n",
       "      <td>0.00</td>\n",
       "      <td>1.0</td>\n",
       "    </tr>\n",
       "    <tr>\n",
       "      <th>ApplicantIncome</th>\n",
       "      <td>614.0</td>\n",
       "      <td>5403.459283</td>\n",
       "      <td>6109.041673</td>\n",
       "      <td>150.0</td>\n",
       "      <td>2877.50</td>\n",
       "      <td>3812.5</td>\n",
       "      <td>5795.00</td>\n",
       "      <td>81000.0</td>\n",
       "    </tr>\n",
       "    <tr>\n",
       "      <th>CoapplicantIncome</th>\n",
       "      <td>614.0</td>\n",
       "      <td>1621.245798</td>\n",
       "      <td>2926.248369</td>\n",
       "      <td>0.0</td>\n",
       "      <td>0.00</td>\n",
       "      <td>1188.5</td>\n",
       "      <td>2297.25</td>\n",
       "      <td>41667.0</td>\n",
       "    </tr>\n",
       "    <tr>\n",
       "      <th>LoanAmount</th>\n",
       "      <td>614.0</td>\n",
       "      <td>145.752443</td>\n",
       "      <td>84.107233</td>\n",
       "      <td>9.0</td>\n",
       "      <td>100.25</td>\n",
       "      <td>128.0</td>\n",
       "      <td>164.75</td>\n",
       "      <td>700.0</td>\n",
       "    </tr>\n",
       "    <tr>\n",
       "      <th>Loan_Amount_Term</th>\n",
       "      <td>614.0</td>\n",
       "      <td>342.410423</td>\n",
       "      <td>64.428629</td>\n",
       "      <td>12.0</td>\n",
       "      <td>360.00</td>\n",
       "      <td>360.0</td>\n",
       "      <td>360.00</td>\n",
       "      <td>480.0</td>\n",
       "    </tr>\n",
       "    <tr>\n",
       "      <th>Credit_History</th>\n",
       "      <td>614.0</td>\n",
       "      <td>0.855049</td>\n",
       "      <td>0.352339</td>\n",
       "      <td>0.0</td>\n",
       "      <td>1.00</td>\n",
       "      <td>1.0</td>\n",
       "      <td>1.00</td>\n",
       "      <td>1.0</td>\n",
       "    </tr>\n",
       "    <tr>\n",
       "      <th>Property_Area</th>\n",
       "      <td>614.0</td>\n",
       "      <td>1.037459</td>\n",
       "      <td>0.787482</td>\n",
       "      <td>0.0</td>\n",
       "      <td>0.00</td>\n",
       "      <td>1.0</td>\n",
       "      <td>2.00</td>\n",
       "      <td>2.0</td>\n",
       "    </tr>\n",
       "    <tr>\n",
       "      <th>Loan_Status</th>\n",
       "      <td>614.0</td>\n",
       "      <td>0.687296</td>\n",
       "      <td>0.463973</td>\n",
       "      <td>0.0</td>\n",
       "      <td>0.00</td>\n",
       "      <td>1.0</td>\n",
       "      <td>1.00</td>\n",
       "      <td>1.0</td>\n",
       "    </tr>\n",
       "  </tbody>\n",
       "</table>\n",
       "</div>"
      ],
      "text/plain": [
       "                   count         mean          std    min      25%     50%  \\\n",
       "Loan_ID            614.0   306.500000   177.390811    0.0   153.25   306.5   \n",
       "Gender             614.0     0.817590     0.386497    0.0     1.00     1.0   \n",
       "Married            614.0     0.653094     0.476373    0.0     0.00     1.0   \n",
       "Dependents         614.0     0.744300     1.009623    0.0     0.00     0.0   \n",
       "Education          614.0     0.218241     0.413389    0.0     0.00     0.0   \n",
       "Self_Employed      614.0     0.133550     0.340446    0.0     0.00     0.0   \n",
       "ApplicantIncome    614.0  5403.459283  6109.041673  150.0  2877.50  3812.5   \n",
       "CoapplicantIncome  614.0  1621.245798  2926.248369    0.0     0.00  1188.5   \n",
       "LoanAmount         614.0   145.752443    84.107233    9.0   100.25   128.0   \n",
       "Loan_Amount_Term   614.0   342.410423    64.428629   12.0   360.00   360.0   \n",
       "Credit_History     614.0     0.855049     0.352339    0.0     1.00     1.0   \n",
       "Property_Area      614.0     1.037459     0.787482    0.0     0.00     1.0   \n",
       "Loan_Status        614.0     0.687296     0.463973    0.0     0.00     1.0   \n",
       "\n",
       "                       75%      max  \n",
       "Loan_ID             459.75    613.0  \n",
       "Gender                1.00      1.0  \n",
       "Married               1.00      1.0  \n",
       "Dependents            1.00      3.0  \n",
       "Education             0.00      1.0  \n",
       "Self_Employed         0.00      1.0  \n",
       "ApplicantIncome    5795.00  81000.0  \n",
       "CoapplicantIncome  2297.25  41667.0  \n",
       "LoanAmount          164.75    700.0  \n",
       "Loan_Amount_Term    360.00    480.0  \n",
       "Credit_History        1.00      1.0  \n",
       "Property_Area         2.00      2.0  \n",
       "Loan_Status           1.00      1.0  "
      ]
     },
     "execution_count": 34,
     "metadata": {},
     "output_type": "execute_result"
    }
   ],
   "source": [
    "df.describe().T     #Statistical summary of the dataset"
   ]
  },
  {
   "cell_type": "code",
   "execution_count": 35,
   "metadata": {},
   "outputs": [
    {
     "data": {
      "text/html": [
       "<div>\n",
       "<style scoped>\n",
       "    .dataframe tbody tr th:only-of-type {\n",
       "        vertical-align: middle;\n",
       "    }\n",
       "\n",
       "    .dataframe tbody tr th {\n",
       "        vertical-align: top;\n",
       "    }\n",
       "\n",
       "    .dataframe thead th {\n",
       "        text-align: right;\n",
       "    }\n",
       "</style>\n",
       "<table border=\"1\" class=\"dataframe\">\n",
       "  <thead>\n",
       "    <tr style=\"text-align: right;\">\n",
       "      <th></th>\n",
       "      <th>Loan_ID</th>\n",
       "      <th>Gender</th>\n",
       "      <th>Married</th>\n",
       "      <th>Dependents</th>\n",
       "      <th>Education</th>\n",
       "      <th>Self_Employed</th>\n",
       "      <th>ApplicantIncome</th>\n",
       "      <th>CoapplicantIncome</th>\n",
       "      <th>LoanAmount</th>\n",
       "      <th>Loan_Amount_Term</th>\n",
       "      <th>Credit_History</th>\n",
       "      <th>Property_Area</th>\n",
       "      <th>Loan_Status</th>\n",
       "    </tr>\n",
       "  </thead>\n",
       "  <tbody>\n",
       "    <tr>\n",
       "      <th>Loan_ID</th>\n",
       "      <td>1.000000</td>\n",
       "      <td>-0.028029</td>\n",
       "      <td>-0.016013</td>\n",
       "      <td>0.051559</td>\n",
       "      <td>0.039442</td>\n",
       "      <td>0.032874</td>\n",
       "      <td>0.016925</td>\n",
       "      <td>0.039211</td>\n",
       "      <td>0.036872</td>\n",
       "      <td>-0.033028</td>\n",
       "      <td>-0.030603</td>\n",
       "      <td>-0.155416</td>\n",
       "      <td>0.011773</td>\n",
       "    </tr>\n",
       "    <tr>\n",
       "      <th>Gender</th>\n",
       "      <td>-0.028029</td>\n",
       "      <td>1.000000</td>\n",
       "      <td>0.364569</td>\n",
       "      <td>0.172914</td>\n",
       "      <td>0.045364</td>\n",
       "      <td>-0.000525</td>\n",
       "      <td>0.058809</td>\n",
       "      <td>0.082912</td>\n",
       "      <td>0.106904</td>\n",
       "      <td>-0.074030</td>\n",
       "      <td>0.009170</td>\n",
       "      <td>-0.025752</td>\n",
       "      <td>0.017987</td>\n",
       "    </tr>\n",
       "    <tr>\n",
       "      <th>Married</th>\n",
       "      <td>-0.016013</td>\n",
       "      <td>0.364569</td>\n",
       "      <td>1.000000</td>\n",
       "      <td>0.334216</td>\n",
       "      <td>0.012304</td>\n",
       "      <td>0.004489</td>\n",
       "      <td>0.051708</td>\n",
       "      <td>0.075948</td>\n",
       "      <td>0.146546</td>\n",
       "      <td>-0.100912</td>\n",
       "      <td>0.010938</td>\n",
       "      <td>0.004257</td>\n",
       "      <td>0.091478</td>\n",
       "    </tr>\n",
       "    <tr>\n",
       "      <th>Dependents</th>\n",
       "      <td>0.051559</td>\n",
       "      <td>0.172914</td>\n",
       "      <td>0.334216</td>\n",
       "      <td>1.000000</td>\n",
       "      <td>0.055752</td>\n",
       "      <td>0.056798</td>\n",
       "      <td>0.118202</td>\n",
       "      <td>0.030430</td>\n",
       "      <td>0.163103</td>\n",
       "      <td>-0.103864</td>\n",
       "      <td>-0.040160</td>\n",
       "      <td>-0.000244</td>\n",
       "      <td>0.010118</td>\n",
       "    </tr>\n",
       "    <tr>\n",
       "      <th>Education</th>\n",
       "      <td>0.039442</td>\n",
       "      <td>0.045364</td>\n",
       "      <td>0.012304</td>\n",
       "      <td>0.055752</td>\n",
       "      <td>1.000000</td>\n",
       "      <td>-0.010383</td>\n",
       "      <td>-0.140760</td>\n",
       "      <td>-0.062290</td>\n",
       "      <td>-0.168759</td>\n",
       "      <td>-0.073928</td>\n",
       "      <td>-0.073658</td>\n",
       "      <td>-0.065243</td>\n",
       "      <td>-0.085884</td>\n",
       "    </tr>\n",
       "    <tr>\n",
       "      <th>Self_Employed</th>\n",
       "      <td>0.032874</td>\n",
       "      <td>-0.000525</td>\n",
       "      <td>0.004489</td>\n",
       "      <td>0.056798</td>\n",
       "      <td>-0.010383</td>\n",
       "      <td>1.000000</td>\n",
       "      <td>0.127180</td>\n",
       "      <td>-0.016100</td>\n",
       "      <td>0.115100</td>\n",
       "      <td>-0.033739</td>\n",
       "      <td>-0.001550</td>\n",
       "      <td>-0.030860</td>\n",
       "      <td>-0.003700</td>\n",
       "    </tr>\n",
       "    <tr>\n",
       "      <th>ApplicantIncome</th>\n",
       "      <td>0.016925</td>\n",
       "      <td>0.058809</td>\n",
       "      <td>0.051708</td>\n",
       "      <td>0.118202</td>\n",
       "      <td>-0.140760</td>\n",
       "      <td>0.127180</td>\n",
       "      <td>1.000000</td>\n",
       "      <td>-0.116605</td>\n",
       "      <td>0.565181</td>\n",
       "      <td>-0.046531</td>\n",
       "      <td>-0.018615</td>\n",
       "      <td>-0.009500</td>\n",
       "      <td>-0.004710</td>\n",
       "    </tr>\n",
       "    <tr>\n",
       "      <th>CoapplicantIncome</th>\n",
       "      <td>0.039211</td>\n",
       "      <td>0.082912</td>\n",
       "      <td>0.075948</td>\n",
       "      <td>0.030430</td>\n",
       "      <td>-0.062290</td>\n",
       "      <td>-0.016100</td>\n",
       "      <td>-0.116605</td>\n",
       "      <td>1.000000</td>\n",
       "      <td>0.189218</td>\n",
       "      <td>-0.059383</td>\n",
       "      <td>0.011134</td>\n",
       "      <td>0.010522</td>\n",
       "      <td>-0.059187</td>\n",
       "    </tr>\n",
       "    <tr>\n",
       "      <th>LoanAmount</th>\n",
       "      <td>0.036872</td>\n",
       "      <td>0.106904</td>\n",
       "      <td>0.146546</td>\n",
       "      <td>0.163103</td>\n",
       "      <td>-0.168759</td>\n",
       "      <td>0.115100</td>\n",
       "      <td>0.565181</td>\n",
       "      <td>0.189218</td>\n",
       "      <td>1.000000</td>\n",
       "      <td>0.036960</td>\n",
       "      <td>-0.000607</td>\n",
       "      <td>-0.046632</td>\n",
       "      <td>-0.033214</td>\n",
       "    </tr>\n",
       "    <tr>\n",
       "      <th>Loan_Amount_Term</th>\n",
       "      <td>-0.033028</td>\n",
       "      <td>-0.074030</td>\n",
       "      <td>-0.100912</td>\n",
       "      <td>-0.103864</td>\n",
       "      <td>-0.073928</td>\n",
       "      <td>-0.033739</td>\n",
       "      <td>-0.046531</td>\n",
       "      <td>-0.059383</td>\n",
       "      <td>0.036960</td>\n",
       "      <td>1.000000</td>\n",
       "      <td>-0.004705</td>\n",
       "      <td>-0.076120</td>\n",
       "      <td>-0.022549</td>\n",
       "    </tr>\n",
       "    <tr>\n",
       "      <th>Credit_History</th>\n",
       "      <td>-0.030603</td>\n",
       "      <td>0.009170</td>\n",
       "      <td>0.010938</td>\n",
       "      <td>-0.040160</td>\n",
       "      <td>-0.073658</td>\n",
       "      <td>-0.001550</td>\n",
       "      <td>-0.018615</td>\n",
       "      <td>0.011134</td>\n",
       "      <td>-0.000607</td>\n",
       "      <td>-0.004705</td>\n",
       "      <td>1.000000</td>\n",
       "      <td>0.001963</td>\n",
       "      <td>0.540556</td>\n",
       "    </tr>\n",
       "    <tr>\n",
       "      <th>Property_Area</th>\n",
       "      <td>-0.155416</td>\n",
       "      <td>-0.025752</td>\n",
       "      <td>0.004257</td>\n",
       "      <td>-0.000244</td>\n",
       "      <td>-0.065243</td>\n",
       "      <td>-0.030860</td>\n",
       "      <td>-0.009500</td>\n",
       "      <td>0.010522</td>\n",
       "      <td>-0.046632</td>\n",
       "      <td>-0.076120</td>\n",
       "      <td>0.001963</td>\n",
       "      <td>1.000000</td>\n",
       "      <td>0.032112</td>\n",
       "    </tr>\n",
       "    <tr>\n",
       "      <th>Loan_Status</th>\n",
       "      <td>0.011773</td>\n",
       "      <td>0.017987</td>\n",
       "      <td>0.091478</td>\n",
       "      <td>0.010118</td>\n",
       "      <td>-0.085884</td>\n",
       "      <td>-0.003700</td>\n",
       "      <td>-0.004710</td>\n",
       "      <td>-0.059187</td>\n",
       "      <td>-0.033214</td>\n",
       "      <td>-0.022549</td>\n",
       "      <td>0.540556</td>\n",
       "      <td>0.032112</td>\n",
       "      <td>1.000000</td>\n",
       "    </tr>\n",
       "  </tbody>\n",
       "</table>\n",
       "</div>"
      ],
      "text/plain": [
       "                    Loan_ID    Gender   Married  Dependents  Education  \\\n",
       "Loan_ID            1.000000 -0.028029 -0.016013    0.051559   0.039442   \n",
       "Gender            -0.028029  1.000000  0.364569    0.172914   0.045364   \n",
       "Married           -0.016013  0.364569  1.000000    0.334216   0.012304   \n",
       "Dependents         0.051559  0.172914  0.334216    1.000000   0.055752   \n",
       "Education          0.039442  0.045364  0.012304    0.055752   1.000000   \n",
       "Self_Employed      0.032874 -0.000525  0.004489    0.056798  -0.010383   \n",
       "ApplicantIncome    0.016925  0.058809  0.051708    0.118202  -0.140760   \n",
       "CoapplicantIncome  0.039211  0.082912  0.075948    0.030430  -0.062290   \n",
       "LoanAmount         0.036872  0.106904  0.146546    0.163103  -0.168759   \n",
       "Loan_Amount_Term  -0.033028 -0.074030 -0.100912   -0.103864  -0.073928   \n",
       "Credit_History    -0.030603  0.009170  0.010938   -0.040160  -0.073658   \n",
       "Property_Area     -0.155416 -0.025752  0.004257   -0.000244  -0.065243   \n",
       "Loan_Status        0.011773  0.017987  0.091478    0.010118  -0.085884   \n",
       "\n",
       "                   Self_Employed  ApplicantIncome  CoapplicantIncome  \\\n",
       "Loan_ID                 0.032874         0.016925           0.039211   \n",
       "Gender                 -0.000525         0.058809           0.082912   \n",
       "Married                 0.004489         0.051708           0.075948   \n",
       "Dependents              0.056798         0.118202           0.030430   \n",
       "Education              -0.010383        -0.140760          -0.062290   \n",
       "Self_Employed           1.000000         0.127180          -0.016100   \n",
       "ApplicantIncome         0.127180         1.000000          -0.116605   \n",
       "CoapplicantIncome      -0.016100        -0.116605           1.000000   \n",
       "LoanAmount              0.115100         0.565181           0.189218   \n",
       "Loan_Amount_Term       -0.033739        -0.046531          -0.059383   \n",
       "Credit_History         -0.001550        -0.018615           0.011134   \n",
       "Property_Area          -0.030860        -0.009500           0.010522   \n",
       "Loan_Status            -0.003700        -0.004710          -0.059187   \n",
       "\n",
       "                   LoanAmount  Loan_Amount_Term  Credit_History  \\\n",
       "Loan_ID              0.036872         -0.033028       -0.030603   \n",
       "Gender               0.106904         -0.074030        0.009170   \n",
       "Married              0.146546         -0.100912        0.010938   \n",
       "Dependents           0.163103         -0.103864       -0.040160   \n",
       "Education           -0.168759         -0.073928       -0.073658   \n",
       "Self_Employed        0.115100         -0.033739       -0.001550   \n",
       "ApplicantIncome      0.565181         -0.046531       -0.018615   \n",
       "CoapplicantIncome    0.189218         -0.059383        0.011134   \n",
       "LoanAmount           1.000000          0.036960       -0.000607   \n",
       "Loan_Amount_Term     0.036960          1.000000       -0.004705   \n",
       "Credit_History      -0.000607         -0.004705        1.000000   \n",
       "Property_Area       -0.046632         -0.076120        0.001963   \n",
       "Loan_Status         -0.033214         -0.022549        0.540556   \n",
       "\n",
       "                   Property_Area  Loan_Status  \n",
       "Loan_ID                -0.155416     0.011773  \n",
       "Gender                 -0.025752     0.017987  \n",
       "Married                 0.004257     0.091478  \n",
       "Dependents             -0.000244     0.010118  \n",
       "Education              -0.065243    -0.085884  \n",
       "Self_Employed          -0.030860    -0.003700  \n",
       "ApplicantIncome        -0.009500    -0.004710  \n",
       "CoapplicantIncome       0.010522    -0.059187  \n",
       "LoanAmount             -0.046632    -0.033214  \n",
       "Loan_Amount_Term       -0.076120    -0.022549  \n",
       "Credit_History          0.001963     0.540556  \n",
       "Property_Area           1.000000     0.032112  \n",
       "Loan_Status             0.032112     1.000000  "
      ]
     },
     "execution_count": 35,
     "metadata": {},
     "output_type": "execute_result"
    }
   ],
   "source": [
    "#Checking the correlation \n",
    "df.corr()"
   ]
  },
  {
   "cell_type": "code",
   "execution_count": 36,
   "metadata": {},
   "outputs": [
    {
     "data": {
      "text/plain": [
       "<matplotlib.axes._subplots.AxesSubplot at 0x7487b11f40>"
      ]
     },
     "execution_count": 36,
     "metadata": {},
     "output_type": "execute_result"
    },
    {
     "data": {
      "image/png": "[encoded data removed]",
      "text/plain": [
       "<Figure size 1008x1008 with 2 Axes>"
      ]
     },
     "metadata": {
      "needs_background": "light"
     },
     "output_type": "display_data"
    }
   ],
   "source": [
    "#Visualizing the correlation using heatmap\n",
    "plt.figure(figsize=(14,14))  \n",
    "sns.heatmap(df.corr(), annot=True, fmt='.0%')"
   ]
  },
  {
   "cell_type": "markdown",
   "metadata": {},
   "source": [
    "'Credit_History' is highly correlated with the target variable 'Loan_Status'."
   ]
  },
  {
   "cell_type": "code",
   "execution_count": 38,
   "metadata": {},
   "outputs": [
    {
     "data": {
      "image/png": "[encoded data removed]",
      "text/plain": [
       "<Figure size 1080x720 with 35 Axes>"
      ]
     },
     "metadata": {
      "needs_background": "light"
     },
     "output_type": "display_data"
    }
   ],
   "source": [
    "#Checking for outliers using boxplots\n",
    "df.plot(kind='box',subplots=True,layout=(7,5),figsize=(15,10));"
   ]
  },
  {
   "cell_type": "markdown",
   "metadata": {},
   "source": [
    "From above image we can clearly see that there are number of black dots in most of the column which are referring to the outliers, so it means most of the data are outside the distribution.\n",
    "\n",
    "Now we will remove them using zscore"
   ]
  },
  {
   "cell_type": "code",
   "execution_count": 39,
   "metadata": {},
   "outputs": [
    {
     "name": "stdout",
     "output_type": "stream",
     "text": [
      "[[1.72923217 0.47234264 1.37208932 ... 0.41173269 1.22329839 0.67451931]\n",
      " [1.7235903  0.47234264 0.72881553 ... 0.41173269 1.31851281 1.48253724]\n",
      " [1.71794844 0.47234264 0.72881553 ... 0.41173269 1.22329839 0.67451931]\n",
      " ...\n",
      " [1.71794844 0.47234264 0.72881553 ... 0.41173269 1.22329839 0.67451931]\n",
      " [1.7235903  0.47234264 0.72881553 ... 0.41173269 1.22329839 0.67451931]\n",
      " [1.72923217 2.11710719 1.37208932 ... 2.42876026 0.04760721 1.48253724]]\n"
     ]
    }
   ],
   "source": [
    "#Applying zscore\n",
    "z=np.abs(zscore(df))\n",
    "print(z)"
   ]
  },
  {
   "cell_type": "code",
   "execution_count": 40,
   "metadata": {},
   "outputs": [
    {
     "name": "stdout",
     "output_type": "stream",
     "text": [
      "(array([  0,   0,   0, ..., 613, 613, 613], dtype=int64), array([ 0,  1,  2, ..., 10, 11, 12], dtype=int64))\n",
      "(614, 13)\n"
     ]
    }
   ],
   "source": [
    "threshold=3\n",
    "print(np.where(z<3))\n",
    "print(df.shape)"
   ]
  },
  {
   "cell_type": "code",
   "execution_count": 41,
   "metadata": {},
   "outputs": [],
   "source": [
    "#Assign the value to df_new which are less than threshold value and removing outliers\n",
    "df_new=df[(z<3).all(axis=1)]"
   ]
  },
  {
   "cell_type": "code",
   "execution_count": 42,
   "metadata": {},
   "outputs": [
    {
     "name": "stdout",
     "output_type": "stream",
     "text": [
      "(614, 13)\n",
      "(577, 13)\n",
      "Shape after removing outliers: (577, 13)\n"
     ]
    }
   ],
   "source": [
    "print(df.shape)\n",
    "print(df_new.shape)\n",
    "df=df_new\n",
    "print('Shape after removing outliers:',df.shape)"
   ]
  },
  {
   "cell_type": "code",
   "execution_count": 43,
   "metadata": {},
   "outputs": [
    {
     "name": "stdout",
     "output_type": "stream",
     "text": [
      "6.026058631921824\n"
     ]
    }
   ],
   "source": [
    "#%data loss calculation\n",
    "loss_percent=(614-577)/614*100\n",
    "print(loss_percent)"
   ]
  },
  {
   "cell_type": "markdown",
   "metadata": {},
   "source": [
    "6% data is lost after removing outliers which is acceptable."
   ]
  },
  {
   "cell_type": "code",
   "execution_count": 44,
   "metadata": {},
   "outputs": [
    {
     "data": {
      "text/plain": [
       "Loan_ID              0.010879\n",
       "Gender              -1.622920\n",
       "Married             -0.630211\n",
       "Dependents           1.052106\n",
       "Education            1.306588\n",
       "Self_Employed        2.252848\n",
       "ApplicantIncome      2.148522\n",
       "CoapplicantIncome    1.350517\n",
       "LoanAmount           1.151525\n",
       "Loan_Amount_Term    -2.098806\n",
       "Credit_History      -1.976043\n",
       "Property_Area       -0.055332\n",
       "Loan_Status         -0.822635\n",
       "dtype: float64"
      ]
     },
     "execution_count": 44,
     "metadata": {},
     "output_type": "execute_result"
    }
   ],
   "source": [
    "#Checking for the skewness in data\n",
    "df.skew()"
   ]
  },
  {
   "cell_type": "code",
   "execution_count": 46,
   "metadata": {},
   "outputs": [],
   "source": [
    "#Removing skewness using'log1p' method\n",
    "skew=('ApplicantIncome','CoapplicantIncome','LoanAmount','Loan_Amount_Term','Credit_History')\n",
    "for col in skew:\n",
    "    if df.skew().loc[col]>0.55:\n",
    "        df[col]=np.log1p(df[col])"
   ]
  },
  {
   "cell_type": "code",
   "execution_count": 47,
   "metadata": {},
   "outputs": [
    {
     "data": {
      "text/plain": [
       "Loan_ID              0.010879\n",
       "Gender              -1.622920\n",
       "Married             -0.630211\n",
       "Dependents           1.052106\n",
       "Education            1.306588\n",
       "Self_Employed        2.252848\n",
       "ApplicantIncome     -0.204913\n",
       "CoapplicantIncome   -0.216757\n",
       "LoanAmount          -0.669196\n",
       "Loan_Amount_Term    -2.098806\n",
       "Credit_History      -1.976043\n",
       "Property_Area       -0.055332\n",
       "Loan_Status         -0.822635\n",
       "dtype: float64"
      ]
     },
     "execution_count": 47,
     "metadata": {},
     "output_type": "execute_result"
    }
   ],
   "source": [
    "df.skew()"
   ]
  },
  {
   "cell_type": "markdown",
   "metadata": {},
   "source": [
    "Skewness in the data is minimised."
   ]
  },
  {
   "cell_type": "code",
   "execution_count": 48,
   "metadata": {},
   "outputs": [],
   "source": [
    "#Splitting the independent and target variable in x and y\n",
    "x=df.drop('Loan_Status',axis=1)\n",
    "y=df['Loan_Status']"
   ]
  },
  {
   "cell_type": "code",
   "execution_count": 49,
   "metadata": {},
   "outputs": [
    {
     "data": {
      "text/html": [
       "<div>\n",
       "<style scoped>\n",
       "    .dataframe tbody tr th:only-of-type {\n",
       "        vertical-align: middle;\n",
       "    }\n",
       "\n",
       "    .dataframe tbody tr th {\n",
       "        vertical-align: top;\n",
       "    }\n",
       "\n",
       "    .dataframe thead th {\n",
       "        text-align: right;\n",
       "    }\n",
       "</style>\n",
       "<table border=\"1\" class=\"dataframe\">\n",
       "  <thead>\n",
       "    <tr style=\"text-align: right;\">\n",
       "      <th></th>\n",
       "      <th>Loan_ID</th>\n",
       "      <th>Gender</th>\n",
       "      <th>Married</th>\n",
       "      <th>Dependents</th>\n",
       "      <th>Education</th>\n",
       "      <th>Self_Employed</th>\n",
       "      <th>ApplicantIncome</th>\n",
       "      <th>CoapplicantIncome</th>\n",
       "      <th>LoanAmount</th>\n",
       "      <th>Loan_Amount_Term</th>\n",
       "      <th>Credit_History</th>\n",
       "      <th>Property_Area</th>\n",
       "      <th>Loan_Status</th>\n",
       "    </tr>\n",
       "  </thead>\n",
       "  <tbody>\n",
       "    <tr>\n",
       "      <th>0</th>\n",
       "      <td>0</td>\n",
       "      <td>1</td>\n",
       "      <td>0</td>\n",
       "      <td>0</td>\n",
       "      <td>0</td>\n",
       "      <td>0</td>\n",
       "      <td>8.674197</td>\n",
       "      <td>0.000000</td>\n",
       "      <td>4.859812</td>\n",
       "      <td>360.0</td>\n",
       "      <td>1.0</td>\n",
       "      <td>2</td>\n",
       "      <td>1</td>\n",
       "    </tr>\n",
       "    <tr>\n",
       "      <th>1</th>\n",
       "      <td>1</td>\n",
       "      <td>1</td>\n",
       "      <td>1</td>\n",
       "      <td>1</td>\n",
       "      <td>0</td>\n",
       "      <td>0</td>\n",
       "      <td>8.430327</td>\n",
       "      <td>7.319202</td>\n",
       "      <td>4.859812</td>\n",
       "      <td>360.0</td>\n",
       "      <td>1.0</td>\n",
       "      <td>0</td>\n",
       "      <td>0</td>\n",
       "    </tr>\n",
       "    <tr>\n",
       "      <th>2</th>\n",
       "      <td>2</td>\n",
       "      <td>1</td>\n",
       "      <td>1</td>\n",
       "      <td>0</td>\n",
       "      <td>0</td>\n",
       "      <td>1</td>\n",
       "      <td>8.006701</td>\n",
       "      <td>0.000000</td>\n",
       "      <td>4.204693</td>\n",
       "      <td>360.0</td>\n",
       "      <td>1.0</td>\n",
       "      <td>2</td>\n",
       "      <td>1</td>\n",
       "    </tr>\n",
       "    <tr>\n",
       "      <th>3</th>\n",
       "      <td>3</td>\n",
       "      <td>1</td>\n",
       "      <td>1</td>\n",
       "      <td>0</td>\n",
       "      <td>1</td>\n",
       "      <td>0</td>\n",
       "      <td>7.857094</td>\n",
       "      <td>7.765993</td>\n",
       "      <td>4.795791</td>\n",
       "      <td>360.0</td>\n",
       "      <td>1.0</td>\n",
       "      <td>2</td>\n",
       "      <td>1</td>\n",
       "    </tr>\n",
       "    <tr>\n",
       "      <th>4</th>\n",
       "      <td>4</td>\n",
       "      <td>1</td>\n",
       "      <td>0</td>\n",
       "      <td>0</td>\n",
       "      <td>0</td>\n",
       "      <td>0</td>\n",
       "      <td>8.699681</td>\n",
       "      <td>0.000000</td>\n",
       "      <td>4.955827</td>\n",
       "      <td>360.0</td>\n",
       "      <td>1.0</td>\n",
       "      <td>2</td>\n",
       "      <td>1</td>\n",
       "    </tr>\n",
       "  </tbody>\n",
       "</table>\n",
       "</div>"
      ],
      "text/plain": [
       "   Loan_ID  Gender  Married  Dependents  Education  Self_Employed  \\\n",
       "0        0       1        0           0          0              0   \n",
       "1        1       1        1           1          0              0   \n",
       "2        2       1        1           0          0              1   \n",
       "3        3       1        1           0          1              0   \n",
       "4        4       1        0           0          0              0   \n",
       "\n",
       "   ApplicantIncome  CoapplicantIncome  LoanAmount  Loan_Amount_Term  \\\n",
       "0         8.674197           0.000000    4.859812             360.0   \n",
       "1         8.430327           7.319202    4.859812             360.0   \n",
       "2         8.006701           0.000000    4.204693             360.0   \n",
       "3         7.857094           7.765993    4.795791             360.0   \n",
       "4         8.699681           0.000000    4.955827             360.0   \n",
       "\n",
       "   Credit_History  Property_Area  Loan_Status  \n",
       "0             1.0              2            1  \n",
       "1             1.0              0            0  \n",
       "2             1.0              2            1  \n",
       "3             1.0              2            1  \n",
       "4             1.0              2            1  "
      ]
     },
     "execution_count": 49,
     "metadata": {},
     "output_type": "execute_result"
    }
   ],
   "source": [
    "df.head()"
   ]
  },
  {
   "cell_type": "code",
   "execution_count": 51,
   "metadata": {},
   "outputs": [],
   "source": [
    "#Using StandardScaler to scale the data \n",
    "from sklearn.preprocessing import StandardScaler\n",
    "scale=StandardScaler()\n",
    "x=scale.fit_transform(x)"
   ]
  },
  {
   "cell_type": "markdown",
   "metadata": {},
   "source": [
    "Model Building:"
   ]
  },
  {
   "cell_type": "code",
   "execution_count": 54,
   "metadata": {},
   "outputs": [
    {
     "name": "stdout",
     "output_type": "stream",
     "text": [
      "accuracy score correspond to random state 40 is 0.8219895287958116\n",
      "accuracy score correspond to random state 40 is 0.8219895287958116\n",
      "accuracy score correspond to random state 40 is 0.6858638743455497\n",
      "accuracy score correspond to random state 40 is 0.7643979057591623\n",
      "accuracy score correspond to random state 40 is 0.8272251308900523\n",
      "accuracy score correspond to random state 41 is 0.837696335078534\n",
      "accuracy score correspond to random state 41 is 0.837696335078534\n",
      "accuracy score correspond to random state 41 is 0.7120418848167539\n",
      "accuracy score correspond to random state 41 is 0.7958115183246073\n",
      "accuracy score correspond to random state 41 is 0.837696335078534\n",
      "accuracy score correspond to random state 42 is 0.8324607329842932\n",
      "accuracy score correspond to random state 42 is 0.837696335078534\n",
      "accuracy score correspond to random state 42 is 0.7120418848167539\n",
      "accuracy score correspond to random state 42 is 0.8167539267015707\n",
      "accuracy score correspond to random state 42 is 0.8429319371727748\n",
      "accuracy score correspond to random state 43 is 0.7643979057591623\n",
      "accuracy score correspond to random state 43 is 0.774869109947644\n",
      "accuracy score correspond to random state 43 is 0.6701570680628273\n",
      "accuracy score correspond to random state 43 is 0.7486910994764397\n",
      "accuracy score correspond to random state 43 is 0.7696335078534031\n",
      "accuracy score correspond to random state 44 is 0.8115183246073299\n",
      "accuracy score correspond to random state 44 is 0.7329842931937173\n",
      "accuracy score correspond to random state 44 is 0.7329842931937173\n",
      "accuracy score correspond to random state 44 is 0.7853403141361257\n",
      "accuracy score correspond to random state 44 is 0.8115183246073299\n",
      "accuracy score correspond to random state 45 is 0.8167539267015707\n",
      "accuracy score correspond to random state 45 is 0.8167539267015707\n",
      "accuracy score correspond to random state 45 is 0.7329842931937173\n",
      "accuracy score correspond to random state 45 is 0.774869109947644\n",
      "accuracy score correspond to random state 45 is 0.8115183246073299\n",
      "accuracy score correspond to random state 46 is 0.8115183246073299\n",
      "accuracy score correspond to random state 46 is 0.7958115183246073\n",
      "accuracy score correspond to random state 46 is 0.7015706806282722\n",
      "accuracy score correspond to random state 46 is 0.774869109947644\n",
      "accuracy score correspond to random state 46 is 0.8167539267015707\n",
      "accuracy score correspond to random state 47 is 0.806282722513089\n",
      "accuracy score correspond to random state 47 is 0.7958115183246073\n",
      "accuracy score correspond to random state 47 is 0.7172774869109948\n",
      "accuracy score correspond to random state 47 is 0.7591623036649214\n",
      "accuracy score correspond to random state 47 is 0.806282722513089\n",
      "accuracy score correspond to random state 48 is 0.8272251308900523\n",
      "accuracy score correspond to random state 48 is 0.8272251308900523\n",
      "accuracy score correspond to random state 48 is 0.7015706806282722\n",
      "accuracy score correspond to random state 48 is 0.806282722513089\n",
      "accuracy score correspond to random state 48 is 0.8219895287958116\n",
      "accuracy score correspond to random state 49 is 0.8219895287958116\n",
      "accuracy score correspond to random state 49 is 0.8115183246073299\n",
      "accuracy score correspond to random state 49 is 0.675392670157068\n",
      "accuracy score correspond to random state 49 is 0.7696335078534031\n",
      "accuracy score correspond to random state 49 is 0.8167539267015707\n",
      "accuracy score correspond to random state 50 is 0.837696335078534\n",
      "accuracy score correspond to random state 50 is 0.806282722513089\n",
      "accuracy score correspond to random state 50 is 0.6858638743455497\n",
      "accuracy score correspond to random state 50 is 0.8219895287958116\n",
      "accuracy score correspond to random state 50 is 0.8272251308900523\n",
      "accuracy score correspond to random state 51 is 0.8272251308900523\n",
      "accuracy score correspond to random state 51 is 0.8115183246073299\n",
      "accuracy score correspond to random state 51 is 0.675392670157068\n",
      "accuracy score correspond to random state 51 is 0.806282722513089\n",
      "accuracy score correspond to random state 51 is 0.8324607329842932\n",
      "accuracy score correspond to random state 52 is 0.837696335078534\n",
      "accuracy score correspond to random state 52 is 0.837696335078534\n",
      "accuracy score correspond to random state 52 is 0.743455497382199\n",
      "accuracy score correspond to random state 52 is 0.7958115183246073\n",
      "accuracy score correspond to random state 52 is 0.837696335078534\n",
      "accuracy score correspond to random state 53 is 0.8010471204188482\n",
      "accuracy score correspond to random state 53 is 0.7643979057591623\n",
      "accuracy score correspond to random state 53 is 0.7277486910994765\n",
      "accuracy score correspond to random state 53 is 0.7801047120418848\n",
      "accuracy score correspond to random state 53 is 0.7905759162303665\n",
      "accuracy score correspond to random state 54 is 0.7643979057591623\n",
      "accuracy score correspond to random state 54 is 0.7643979057591623\n",
      "accuracy score correspond to random state 54 is 0.7172774869109948\n",
      "accuracy score correspond to random state 54 is 0.7329842931937173\n",
      "accuracy score correspond to random state 54 is 0.7643979057591623\n",
      "accuracy score correspond to random state 55 is 0.8586387434554974\n",
      "accuracy score correspond to random state 55 is 0.837696335078534\n",
      "accuracy score correspond to random state 55 is 0.7277486910994765\n",
      "accuracy score correspond to random state 55 is 0.8324607329842932\n",
      "accuracy score correspond to random state 55 is 0.8586387434554974\n",
      "accuracy score correspond to random state 56 is 0.8219895287958116\n",
      "accuracy score correspond to random state 56 is 0.8219895287958116\n",
      "accuracy score correspond to random state 56 is 0.6963350785340314\n",
      "accuracy score correspond to random state 56 is 0.7853403141361257\n",
      "accuracy score correspond to random state 56 is 0.8115183246073299\n",
      "accuracy score correspond to random state 57 is 0.8010471204188482\n",
      "accuracy score correspond to random state 57 is 0.8010471204188482\n",
      "accuracy score correspond to random state 57 is 0.7225130890052356\n",
      "accuracy score correspond to random state 57 is 0.7696335078534031\n",
      "accuracy score correspond to random state 57 is 0.8010471204188482\n",
      "accuracy score correspond to random state 58 is 0.8167539267015707\n",
      "accuracy score correspond to random state 58 is 0.8115183246073299\n",
      "accuracy score correspond to random state 58 is 0.7382198952879581\n",
      "accuracy score correspond to random state 58 is 0.7905759162303665\n",
      "accuracy score correspond to random state 58 is 0.8115183246073299\n",
      "accuracy score correspond to random state 59 is 0.8324607329842932\n",
      "accuracy score correspond to random state 59 is 0.806282722513089\n",
      "accuracy score correspond to random state 59 is 0.7172774869109948\n",
      "accuracy score correspond to random state 59 is 0.8272251308900523\n",
      "accuracy score correspond to random state 59 is 0.8324607329842932\n",
      "accuracy score correspond to random state 60 is 0.8115183246073299\n",
      "accuracy score correspond to random state 60 is 0.8010471204188482\n",
      "accuracy score correspond to random state 60 is 0.7329842931937173\n",
      "accuracy score correspond to random state 60 is 0.7905759162303665\n",
      "accuracy score correspond to random state 60 is 0.8115183246073299\n",
      "accuracy score correspond to random state 61 is 0.7958115183246073\n",
      "accuracy score correspond to random state 61 is 0.7643979057591623\n",
      "accuracy score correspond to random state 61 is 0.7068062827225131\n",
      "accuracy score correspond to random state 61 is 0.7643979057591623\n",
      "accuracy score correspond to random state 61 is 0.7958115183246073\n",
      "accuracy score correspond to random state 62 is 0.8010471204188482\n",
      "accuracy score correspond to random state 62 is 0.7958115183246073\n",
      "accuracy score correspond to random state 62 is 0.7329842931937173\n",
      "accuracy score correspond to random state 62 is 0.7591623036649214\n",
      "accuracy score correspond to random state 62 is 0.7958115183246073\n",
      "accuracy score correspond to random state 63 is 0.7958115183246073\n",
      "accuracy score correspond to random state 63 is 0.7958115183246073\n",
      "accuracy score correspond to random state 63 is 0.7068062827225131\n",
      "accuracy score correspond to random state 63 is 0.774869109947644\n",
      "accuracy score correspond to random state 63 is 0.7958115183246073\n",
      "accuracy score correspond to random state 64 is 0.8219895287958116\n",
      "accuracy score correspond to random state 64 is 0.8167539267015707\n",
      "accuracy score correspond to random state 64 is 0.7329842931937173\n",
      "accuracy score correspond to random state 64 is 0.774869109947644\n",
      "accuracy score correspond to random state 64 is 0.8167539267015707\n",
      "accuracy score correspond to random state 65 is 0.8010471204188482\n",
      "accuracy score correspond to random state 65 is 0.7696335078534031\n",
      "accuracy score correspond to random state 65 is 0.7225130890052356\n",
      "accuracy score correspond to random state 65 is 0.7801047120418848\n",
      "accuracy score correspond to random state 65 is 0.8010471204188482\n",
      "accuracy score correspond to random state 66 is 0.8219895287958116\n",
      "accuracy score correspond to random state 66 is 0.8167539267015707\n",
      "accuracy score correspond to random state 66 is 0.7172774869109948\n",
      "accuracy score correspond to random state 66 is 0.774869109947644\n",
      "accuracy score correspond to random state 66 is 0.8167539267015707\n",
      "accuracy score correspond to random state 67 is 0.7853403141361257\n",
      "accuracy score correspond to random state 67 is 0.7801047120418848\n",
      "accuracy score correspond to random state 67 is 0.7329842931937173\n",
      "accuracy score correspond to random state 67 is 0.7696335078534031\n",
      "accuracy score correspond to random state 67 is 0.7853403141361257\n",
      "accuracy score correspond to random state 68 is 0.8795811518324608\n",
      "accuracy score correspond to random state 68 is 0.8743455497382199\n",
      "accuracy score correspond to random state 68 is 0.7539267015706806\n",
      "accuracy score correspond to random state 68 is 0.8534031413612565\n",
      "accuracy score correspond to random state 68 is 0.8743455497382199\n",
      "accuracy score correspond to random state 69 is 0.806282722513089\n",
      "accuracy score correspond to random state 69 is 0.7958115183246073\n",
      "accuracy score correspond to random state 69 is 0.7382198952879581\n",
      "accuracy score correspond to random state 69 is 0.7853403141361257\n",
      "accuracy score correspond to random state 69 is 0.806282722513089\n",
      "accuracy score correspond to random state 70 is 0.7696335078534031\n",
      "accuracy score correspond to random state 70 is 0.7696335078534031\n",
      "accuracy score correspond to random state 70 is 0.7329842931937173\n",
      "accuracy score correspond to random state 70 is 0.7643979057591623\n",
      "accuracy score correspond to random state 70 is 0.7643979057591623\n",
      "accuracy score correspond to random state 71 is 0.8481675392670157\n",
      "accuracy score correspond to random state 71 is 0.8481675392670157\n",
      "accuracy score correspond to random state 71 is 0.7591623036649214\n",
      "accuracy score correspond to random state 71 is 0.8272251308900523\n",
      "accuracy score correspond to random state 71 is 0.8481675392670157\n",
      "accuracy score correspond to random state 72 is 0.8115183246073299\n",
      "accuracy score correspond to random state 72 is 0.8115183246073299\n",
      "accuracy score correspond to random state 72 is 0.6858638743455497\n",
      "accuracy score correspond to random state 72 is 0.7801047120418848\n",
      "accuracy score correspond to random state 72 is 0.8167539267015707\n",
      "accuracy score correspond to random state 73 is 0.806282722513089\n",
      "accuracy score correspond to random state 73 is 0.806282722513089\n",
      "accuracy score correspond to random state 73 is 0.7172774869109948\n",
      "accuracy score correspond to random state 73 is 0.7905759162303665\n",
      "accuracy score correspond to random state 73 is 0.806282722513089\n",
      "accuracy score correspond to random state 74 is 0.774869109947644\n",
      "accuracy score correspond to random state 74 is 0.7696335078534031\n",
      "accuracy score correspond to random state 74 is 0.675392670157068\n",
      "accuracy score correspond to random state 74 is 0.7382198952879581\n",
      "accuracy score correspond to random state 74 is 0.7696335078534031\n",
      "accuracy score correspond to random state 75 is 0.8115183246073299\n",
      "accuracy score correspond to random state 75 is 0.8010471204188482\n",
      "accuracy score correspond to random state 75 is 0.7225130890052356\n",
      "accuracy score correspond to random state 75 is 0.8010471204188482\n",
      "accuracy score correspond to random state 75 is 0.806282722513089\n",
      "accuracy score correspond to random state 76 is 0.7801047120418848\n",
      "accuracy score correspond to random state 76 is 0.7801047120418848\n",
      "accuracy score correspond to random state 76 is 0.7172774869109948\n",
      "accuracy score correspond to random state 76 is 0.7801047120418848\n",
      "accuracy score correspond to random state 76 is 0.7801047120418848\n",
      "accuracy score correspond to random state 77 is 0.8324607329842932\n",
      "accuracy score correspond to random state 77 is 0.8167539267015707\n",
      "accuracy score correspond to random state 77 is 0.680628272251309\n",
      "accuracy score correspond to random state 77 is 0.7853403141361257\n",
      "accuracy score correspond to random state 77 is 0.8324607329842932\n",
      "accuracy score correspond to random state 78 is 0.837696335078534\n",
      "accuracy score correspond to random state 78 is 0.8429319371727748\n",
      "accuracy score correspond to random state 78 is 0.7225130890052356\n",
      "accuracy score correspond to random state 78 is 0.8115183246073299\n",
      "accuracy score correspond to random state 78 is 0.8429319371727748\n",
      "accuracy score correspond to random state 79 is 0.8429319371727748\n",
      "accuracy score correspond to random state 79 is 0.8324607329842932\n",
      "accuracy score correspond to random state 79 is 0.7486910994764397\n",
      "accuracy score correspond to random state 79 is 0.837696335078534\n",
      "accuracy score correspond to random state 79 is 0.8534031413612565\n",
      "accuracy score correspond to random state 80 is 0.7801047120418848\n",
      "accuracy score correspond to random state 80 is 0.7801047120418848\n",
      "accuracy score correspond to random state 80 is 0.6492146596858639\n",
      "accuracy score correspond to random state 80 is 0.743455497382199\n",
      "accuracy score correspond to random state 80 is 0.7801047120418848\n",
      "accuracy score correspond to random state 81 is 0.806282722513089\n",
      "accuracy score correspond to random state 81 is 0.8010471204188482\n",
      "accuracy score correspond to random state 81 is 0.6492146596858639\n",
      "accuracy score correspond to random state 81 is 0.7696335078534031\n",
      "accuracy score correspond to random state 81 is 0.806282722513089\n",
      "accuracy score correspond to random state 82 is 0.8429319371727748\n",
      "accuracy score correspond to random state 82 is 0.7905759162303665\n",
      "accuracy score correspond to random state 82 is 0.6387434554973822\n",
      "accuracy score correspond to random state 82 is 0.8010471204188482\n",
      "accuracy score correspond to random state 82 is 0.8429319371727748\n",
      "accuracy score correspond to random state 83 is 0.8219895287958116\n",
      "accuracy score correspond to random state 83 is 0.8167539267015707\n",
      "accuracy score correspond to random state 83 is 0.7329842931937173\n",
      "accuracy score correspond to random state 83 is 0.7801047120418848\n",
      "accuracy score correspond to random state 83 is 0.8167539267015707\n",
      "accuracy score correspond to random state 84 is 0.8638743455497382\n",
      "accuracy score correspond to random state 84 is 0.8219895287958116\n",
      "accuracy score correspond to random state 84 is 0.7277486910994765\n",
      "accuracy score correspond to random state 84 is 0.8167539267015707\n",
      "accuracy score correspond to random state 84 is 0.8534031413612565\n",
      "accuracy score correspond to random state 85 is 0.8010471204188482\n",
      "accuracy score correspond to random state 85 is 0.774869109947644\n",
      "accuracy score correspond to random state 85 is 0.7225130890052356\n",
      "accuracy score correspond to random state 85 is 0.7801047120418848\n",
      "accuracy score correspond to random state 85 is 0.8010471204188482\n",
      "accuracy score correspond to random state 86 is 0.8743455497382199\n",
      "accuracy score correspond to random state 86 is 0.8691099476439791\n",
      "accuracy score correspond to random state 86 is 0.7539267015706806\n",
      "accuracy score correspond to random state 86 is 0.837696335078534\n",
      "accuracy score correspond to random state 86 is 0.8691099476439791\n",
      "accuracy score correspond to random state 87 is 0.837696335078534\n",
      "accuracy score correspond to random state 87 is 0.8324607329842932\n",
      "accuracy score correspond to random state 87 is 0.7277486910994765\n",
      "accuracy score correspond to random state 87 is 0.7905759162303665\n",
      "accuracy score correspond to random state 87 is 0.8272251308900523\n",
      "accuracy score correspond to random state 88 is 0.806282722513089\n",
      "accuracy score correspond to random state 88 is 0.8115183246073299\n",
      "accuracy score correspond to random state 88 is 0.7120418848167539\n",
      "accuracy score correspond to random state 88 is 0.7643979057591623\n",
      "accuracy score correspond to random state 88 is 0.806282722513089\n",
      "accuracy score correspond to random state 89 is 0.7643979057591623\n",
      "accuracy score correspond to random state 89 is 0.7696335078534031\n",
      "accuracy score correspond to random state 89 is 0.6910994764397905\n",
      "accuracy score correspond to random state 89 is 0.743455497382199\n",
      "accuracy score correspond to random state 89 is 0.7696335078534031\n",
      "\n",
      "\n",
      "\n",
      "\n",
      "max accuracy score correspond to random state 68 is 0.8795811518324608 and model is LogisticRegression()\n"
     ]
    }
   ],
   "source": [
    "#Using multiple Algorithms for calculating the best algo which suits best for our data set\n",
    "model=[LogisticRegression(),GaussianNB(),DecisionTreeClassifier(),KNeighborsClassifier(),SVC()]\n",
    "max_accuracy_score=0\n",
    "for r_state in range(40,90):\n",
    "    train_x,test_x,train_y,test_y=train_test_split(x,y,random_state=r_state,test_size=0.33)\n",
    "    for i in model:\n",
    "        i.fit(train_x,train_y)\n",
    "        pre=i.predict(test_x)\n",
    "        acc_sc=accuracy_score(test_y,pre)\n",
    "        print('accuracy score correspond to random state',r_state,'is',acc_sc)\n",
    "        if acc_sc>max_accuracy_score:\n",
    "            max_accuracy_score=acc_sc\n",
    "            final_state=r_state\n",
    "            final_model=i\n",
    "print()\n",
    "print()\n",
    "print()\n",
    "print()\n",
    "print('max accuracy score correspond to random state',final_state,'is',max_accuracy_score,'and model is',final_model)"
   ]
  },
  {
   "cell_type": "markdown",
   "metadata": {},
   "source": [
    "Above I am using for loop which helps me to provide the accuracy score at each random state and for the best state where accuracy score is maximum has come as output value.\n",
    "\n",
    "The model is Logistic Regression with accuracy 88% at random state 68."
   ]
  },
  {
   "cell_type": "code",
   "execution_count": 55,
   "metadata": {},
   "outputs": [
    {
     "name": "stdout",
     "output_type": "stream",
     "text": [
      "0.8795811518324608\n",
      "[[ 26  20]\n",
      " [  3 142]]\n",
      "              precision    recall  f1-score   support\n",
      "\n",
      "           0       0.90      0.57      0.69        46\n",
      "           1       0.88      0.98      0.93       145\n",
      "\n",
      "    accuracy                           0.88       191\n",
      "   macro avg       0.89      0.77      0.81       191\n",
      "weighted avg       0.88      0.88      0.87       191\n",
      "\n"
     ]
    }
   ],
   "source": [
    "train_x,test_x,train_y,test_y=train_test_split(x,y,random_state=68,test_size=0.33)\n",
    "LR=LogisticRegression()\n",
    "LR.fit(train_x,train_y)\n",
    "LR.score(train_x,train_y)\n",
    "pred=LR.predict(test_x)\n",
    "print(accuracy_score(test_y,pred))\n",
    "print(confusion_matrix(test_y,pred))\n",
    "print(classification_report(test_y,pred))"
   ]
  },
  {
   "cell_type": "code",
   "execution_count": 57,
   "metadata": {},
   "outputs": [
    {
     "name": "stdout",
     "output_type": "stream",
     "text": [
      "0.8180809595202397\n"
     ]
    }
   ],
   "source": [
    "#Cross Validation\n",
    "from sklearn.model_selection import cross_val_score\n",
    "scr=cross_val_score(LR,x,y,cv=5)\n",
    "print(scr.mean())"
   ]
  },
  {
   "cell_type": "markdown",
   "metadata": {},
   "source": [
    "The actual accuracy of the model is 82%.\n",
    "\n",
    "Now we will do hyperparameter tuning of the model using GridSearchCV."
   ]
  },
  {
   "cell_type": "code",
   "execution_count": 58,
   "metadata": {},
   "outputs": [
    {
     "name": "stdout",
     "output_type": "stream",
     "text": [
      "{'C': 0.05179474679231213}\n",
      "0.8180809595202397\n"
     ]
    }
   ],
   "source": [
    "#Creating parameters list to pass in GridSearchCV\n",
    "from sklearn.model_selection import GridSearchCV\n",
    "LR=LogisticRegression()\n",
    "c_space = np.logspace(-5, 8, 15)\n",
    "param_grid = {'C':c_space} \n",
    "LR_cv = GridSearchCV(LR,param_grid,cv = 5)\n",
    "LR_cv.fit(x,y)\n",
    "best_parameters=LR_cv.best_params_\n",
    "print(best_parameters)\n",
    "best_result=LR_cv.best_score_\n",
    "print(best_result)"
   ]
  },
  {
   "cell_type": "markdown",
   "metadata": {},
   "source": [
    "The accuracy of the model (Logistic Regression) after GridSearchCV is also 82%."
   ]
  },
  {
   "cell_type": "code",
   "execution_count": 60,
   "metadata": {},
   "outputs": [
    {
     "data": {
      "text/plain": [
       "LogisticRegression(C=0.052)"
      ]
     },
     "execution_count": 60,
     "metadata": {},
     "output_type": "execute_result"
    }
   ],
   "source": [
    "#fitting the parameters in the model\n",
    "LR=LogisticRegression(C=0.052)\n",
    "LR.fit(train_x,train_y)"
   ]
  },
  {
   "cell_type": "code",
   "execution_count": 61,
   "metadata": {},
   "outputs": [],
   "source": [
    "#AUC ROC curve\n",
    "from sklearn.metrics import roc_curve\n",
    "from sklearn.metrics import roc_auc_score\n",
    "LR.fit(train_x,train_y)\n",
    "y_pred_prob=LR.predict_proba(test_x)[:,1]"
   ]
  },
  {
   "cell_type": "code",
   "execution_count": 62,
   "metadata": {},
   "outputs": [
    {
     "data": {
      "text/plain": [
       "array([0.66427224, 0.16900897, 0.727448  , 0.64074577, 0.78844404,\n",
       "       0.79151232, 0.3368387 , 0.76551886, 0.69845901, 0.78827494,\n",
       "       0.70462177, 0.71726231, 0.73884238, 0.73336388, 0.18579692,\n",
       "       0.81802843, 0.77146665, 0.77143426, 0.7498735 , 0.60964624,\n",
       "       0.67555617, 0.82736151, 0.77663417, 0.6669649 , 0.72069483,\n",
       "       0.7784905 , 0.80145692, 0.70182986, 0.78336237, 0.71504092,\n",
       "       0.78470889, 0.64834054, 0.70336895, 0.74654931, 0.22986483,\n",
       "       0.80285693, 0.75209762, 0.31508149, 0.77378331, 0.77413203,\n",
       "       0.71355782, 0.75305547, 0.30279895, 0.68238864, 0.77637216,\n",
       "       0.77286519, 0.7793172 , 0.12942815, 0.75802103, 0.80594726,\n",
       "       0.6773485 , 0.23060475, 0.76546202, 0.67212572, 0.80811537,\n",
       "       0.72261656, 0.69154652, 0.6930814 , 0.73600114, 0.77268873,\n",
       "       0.1209973 , 0.13898833, 0.71168888, 0.16921048, 0.56782446,\n",
       "       0.7626775 , 0.76369476, 0.83866832, 0.63904768, 0.72924715,\n",
       "       0.70241468, 0.71693804, 0.81222358, 0.60288387, 0.73004132,\n",
       "       0.12333526, 0.7404512 , 0.7257809 , 0.82523716, 0.5844246 ,\n",
       "       0.7197372 , 0.82245138, 0.68254525, 0.7023368 , 0.2001782 ,\n",
       "       0.66244523, 0.78412914, 0.65795148, 0.13881393, 0.80078636,\n",
       "       0.21821215, 0.78878282, 0.78908403, 0.73206431, 0.2297832 ,\n",
       "       0.11924992, 0.66275698, 0.72964909, 0.81582447, 0.726126  ,\n",
       "       0.65092809, 0.58399002, 0.80970556, 0.72227755, 0.79094004,\n",
       "       0.88119484, 0.67435224, 0.80162341, 0.21397531, 0.66935692,\n",
       "       0.6573529 , 0.7464675 , 0.21308442, 0.84446269, 0.71872653,\n",
       "       0.1029641 , 0.6497773 , 0.66465512, 0.1412147 , 0.70074472,\n",
       "       0.79847315, 0.73153704, 0.78814333, 0.23313866, 0.80150613,\n",
       "       0.76657578, 0.72938232, 0.14749633, 0.8017864 , 0.65028607,\n",
       "       0.73463037, 0.78144062, 0.80112897, 0.84724036, 0.78545785,\n",
       "       0.79537533, 0.76139892, 0.79446167, 0.7088009 , 0.80239567,\n",
       "       0.76212158, 0.71327673, 0.83644214, 0.73568862, 0.66876905,\n",
       "       0.76030942, 0.71892804, 0.67018679, 0.68810675, 0.65079536,\n",
       "       0.71085871, 0.64948545, 0.69797305, 0.71169411, 0.7522413 ,\n",
       "       0.78283125, 0.18339363, 0.75321482, 0.77860319, 0.74183918,\n",
       "       0.25039693, 0.18659691, 0.74547297, 0.82332195, 0.81249083,\n",
       "       0.78581876, 0.77447391, 0.75964635, 0.7787993 , 0.8013735 ,\n",
       "       0.75664108, 0.78045836, 0.74135466, 0.7619719 , 0.7110517 ,\n",
       "       0.19940916, 0.20077369, 0.68097025, 0.75159253, 0.65590314,\n",
       "       0.66155138, 0.65371017, 0.2412118 , 0.72995775, 0.7910532 ,\n",
       "       0.76316623, 0.74547885, 0.80624917, 0.77663824, 0.73228019,\n",
       "       0.65034589])"
      ]
     },
     "execution_count": 62,
     "metadata": {},
     "output_type": "execute_result"
    }
   ],
   "source": [
    "y_pred_prob"
   ]
  },
  {
   "cell_type": "code",
   "execution_count": 63,
   "metadata": {},
   "outputs": [],
   "source": [
    "fpr,tpr,thresholds=roc_curve(test_y,y_pred_prob)"
   ]
  },
  {
   "cell_type": "code",
   "execution_count": 64,
   "metadata": {},
   "outputs": [
    {
     "data": {
      "text/plain": [
       "array([0.        , 0.        , 0.        , 0.02173913, 0.02173913,\n",
       "       0.06521739, 0.06521739, 0.08695652, 0.08695652, 0.10869565,\n",
       "       0.10869565, 0.13043478, 0.13043478, 0.15217391, 0.15217391,\n",
       "       0.17391304, 0.17391304, 0.19565217, 0.19565217, 0.2173913 ,\n",
       "       0.2173913 , 0.23913043, 0.23913043, 0.26086957, 0.26086957,\n",
       "       0.2826087 , 0.2826087 , 0.30434783, 0.30434783, 0.32608696,\n",
       "       0.32608696, 0.36956522, 0.36956522, 0.39130435, 0.39130435,\n",
       "       0.41304348, 0.41304348, 0.45652174, 0.45652174, 0.82608696,\n",
       "       0.82608696, 0.95652174, 0.95652174, 1.        ])"
      ]
     },
     "execution_count": 64,
     "metadata": {},
     "output_type": "execute_result"
    }
   ],
   "source": [
    "fpr"
   ]
  },
  {
   "cell_type": "code",
   "execution_count": 65,
   "metadata": {},
   "outputs": [
    {
     "data": {
      "text/plain": [
       "array([0.        , 0.00689655, 0.0137931 , 0.0137931 , 0.16551724,\n",
       "       0.16551724, 0.29655172, 0.29655172, 0.36551724, 0.36551724,\n",
       "       0.37931034, 0.37931034, 0.40689655, 0.40689655, 0.43448276,\n",
       "       0.43448276, 0.51724138, 0.51724138, 0.55172414, 0.55172414,\n",
       "       0.64827586, 0.64827586, 0.66206897, 0.66206897, 0.8137931 ,\n",
       "       0.8137931 , 0.82068966, 0.82068966, 0.83448276, 0.83448276,\n",
       "       0.92413793, 0.92413793, 0.95862069, 0.95862069, 0.96551724,\n",
       "       0.96551724, 0.97931034, 0.97931034, 0.9862069 , 0.9862069 ,\n",
       "       0.99310345, 0.99310345, 1.        , 1.        ])"
      ]
     },
     "execution_count": 65,
     "metadata": {},
     "output_type": "execute_result"
    }
   ],
   "source": [
    "tpr"
   ]
  },
  {
   "cell_type": "code",
   "execution_count": 66,
   "metadata": {},
   "outputs": [
    {
     "data": {
      "text/plain": [
       "array([1.88119484, 0.88119484, 0.84724036, 0.84446269, 0.80112897,\n",
       "       0.79847315, 0.7793172 , 0.7787993 , 0.77268873, 0.77146665,\n",
       "       0.76657578, 0.76551886, 0.7626775 , 0.76212158, 0.75964635,\n",
       "       0.75802103, 0.74183918, 0.74135466, 0.73463037, 0.73336388,\n",
       "       0.72069483, 0.7197372 , 0.71872653, 0.71726231, 0.68238864,\n",
       "       0.68097025, 0.6773485 , 0.67555617, 0.67212572, 0.67018679,\n",
       "       0.65092809, 0.65034589, 0.64074577, 0.63904768, 0.60964624,\n",
       "       0.60288387, 0.58399002, 0.3368387 , 0.31508149, 0.16921048,\n",
       "       0.16900897, 0.12333526, 0.1209973 , 0.1029641 ])"
      ]
     },
     "execution_count": 66,
     "metadata": {},
     "output_type": "execute_result"
    }
   ],
   "source": [
    "thresholds"
   ]
  },
  {
   "cell_type": "code",
   "execution_count": 67,
   "metadata": {},
   "outputs": [
    {
     "data": {
      "image/png": "[encoded data removed]",
      "text/plain": [
       "<Figure size 432x288 with 1 Axes>"
      ]
     },
     "metadata": {
      "needs_background": "light"
     },
     "output_type": "display_data"
    }
   ],
   "source": [
    "plt.plot([0,1],[0,1],'k--')\n",
    "plt.plot(fpr,tpr,label='Logistic Regression')\n",
    "plt.xlabel('False positive rate')\n",
    "plt.ylabel('True positive rate')\n",
    "plt.title('Logistic Regression')\n",
    "plt.show()"
   ]
  },
  {
   "cell_type": "code",
   "execution_count": 68,
   "metadata": {},
   "outputs": [
    {
     "name": "stdout",
     "output_type": "stream",
     "text": [
      "0.7722638680659671\n"
     ]
    }
   ],
   "source": [
    "auc_score=roc_auc_score(test_y,LR.predict(test_x))\n",
    "print(auc_score)"
   ]
  },
  {
   "cell_type": "markdown",
   "metadata": {},
   "source": [
    "The AUC-ROC curve helps us to visualize how well our machine learning classifier is performing."
   ]
  },
  {
   "cell_type": "code",
   "execution_count": 69,
   "metadata": {},
   "outputs": [],
   "source": [
    "import pickle\n",
    "filename='loan_application_status.pkl'\n",
    "pickle.dump(LR,open(filename,'wb'))"
   ]
  },
  {
   "cell_type": "code",
   "execution_count": null,
   "metadata": {},
   "outputs": [],
   "source": []
  }
 ],
 "metadata": {
  "kernelspec": {
   "display_name": "Python 3",
   "language": "python",
   "name": "python3"
  },
  "language_info": {
   "codemirror_mode": {
    "name": "ipython",
    "version": 3
   },
   "file_extension": ".py",
   "mimetype": "text/x-python",
   "name": "python",
   "nbconvert_exporter": "python",
   "pygments_lexer": "ipython3",
   "version": "3.8.3"
  }
 },
 "nbformat": 4,
 "nbformat_minor": 4
}
